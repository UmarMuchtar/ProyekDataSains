{
  "cells": [
    {
      "cell_type": "markdown",
      "metadata": {
        "id": "WKkimnk4FhQY"
      },
      "source": [
        "# Deteksi Ulasan Palsu Pada Aplikasi di Google Playstore"
      ]
    },
    {
      "cell_type": "markdown",
      "metadata": {
        "id": "wmBpBpTfFhQa"
      },
      "source": [
        "## Pendahuluan"
      ]
    },
    {
      "cell_type": "markdown",
      "metadata": {
        "id": "P8xd46euFhQb"
      },
      "source": [
        "### 1. Latar Belakang"
      ]
    },
    {
      "cell_type": "markdown",
      "metadata": {
        "id": "iFjQnt7-FhQb"
      },
      "source": [
        "Ulasan aplikasi di Google Play Store menjadi salah satu faktor penting dalam mempengaruhi keputusan pengguna dalam mengunduh aplikasi. Semakin banyak ulasan positif, semakin besar kemungkinan aplikasi tersebut akan diunduh oleh pengguna baru. Sayangnya, praktik manipulasi ulasan melalui ulasan palsu kian marak. Ulasan palsu ini dapat membingungkan pengguna, menciptakan persepsi yang salah tentang kualitas aplikasi, dan bahkan merugikan bisnis pengembang aplikasi yang jujur. Oleh karena itu, penting untuk mendeteksi dan menghapus ulasan palsu guna menciptakan ekosistem aplikasi yang lebih adil dan transparan."
      ]
    },
    {
      "cell_type": "markdown",
      "metadata": {
        "id": "ZAzyE5C9FhQb"
      },
      "source": [
        "Visi dari proyek ini adalah menciptakan sistem yang dapat mendeteksi ulasan palsu sehingga Google Play Store menjadi platform yang lebih tepercaya bagi pengguna dan pengembang aplikasi. Misinya adalah untuk mengembangkan solusi berbasis data sains yang memanfaatkan teknologi machine learning untuk mengidentifikasi pola ulasan yang mencurigakan dengan akurasi tinggi. Proyek ini dibuat dengan beberapa tujuan bisnis, di antaranya:\n",
        "-   Meningkatkan kepercayaan pengguna terhadap ulasan aplikasi di Google Play.\n",
        "-   Mencegah pengembang aplikasi melakukan manipulasi ulasan yang menimbulkan  persaingan yang tidak sehat.\n",
        "-\tMemberikan rekomendasi kepada pengguna dalam memilih aplikasi yang berkualitas.\n"
      ]
    },
    {
      "cell_type": "markdown",
      "metadata": {
        "id": "2AUpmsS2FhQc"
      },
      "source": [
        "Target bisnis dari proyek ini adalah penerapan sistem pendeteksian ulasan palsu yang dapat diintegrasikan dengan Google Play Store, sehingga ulasan yang manipulatif dapat dikurangi. Dengan demikian, strategi bisnis yang digunakan melibatkan pengembangan model machine learning yang mampu menganalisis ulasan dengan cepat dan akurat."
      ]
    },
    {
      "cell_type": "markdown",
      "metadata": {
        "id": "T8bt4kSTFhQc"
      },
      "source": [
        "### 2. Tujuan"
      ]
    },
    {
      "cell_type": "markdown",
      "metadata": {
        "id": "8FOH7_kIFhQc"
      },
      "source": [
        "Adapun tujuan dari proyek data sains ini adalah:\n",
        "-\tMengidentifikasi pola ulasan palsu berdasarkan data historis ulasan di Google Play Store.\n",
        "-\tMengembangkan model machine learning yang mampu mendeteksi ulasan palsu dengan tingkat akurasi tinggi.\n"
      ]
    },
    {
      "cell_type": "markdown",
      "metadata": {
        "id": "qNvYySDGFhQc"
      },
      "source": [
        "### 3. Rumusan Masalah"
      ]
    },
    {
      "cell_type": "markdown",
      "metadata": {
        "id": "UEZF3TGiFhQc"
      },
      "source": [
        "Masalah utama yang hendak diselesaikan melalui proyek ini adalah:\n",
        "-\tBagaimana mengidentifikasi ulasan yang sah dan ulasan yang palsu secara efektif?\n",
        "-\tAlgoritma machine learning apa yang paling tepat digunakan untuk mendeteksi ulasan palsu?\n",
        "-\tBagaimana cara meningkatkan akurasi dan efisiensi sistem deteksi ulasan palsu pada aplikasi di Google Play Store?\n"
      ]
    },
    {
      "cell_type": "markdown",
      "metadata": {
        "id": "VlkRMPa7FhQc"
      },
      "source": [
        "## Pembahasan"
      ]
    },
    {
      "cell_type": "markdown",
      "metadata": {
        "id": "fT0e8vSnFhQc"
      },
      "source": [
        "#### 1. Data Understanding"
      ]
    },
    {
      "cell_type": "markdown",
      "metadata": {
        "id": "5syq9T81FhQc"
      },
      "source": [
        "#### Pengumpulan Data"
      ]
    },
    {
      "cell_type": "markdown",
      "metadata": {
        "id": "h-1VgOR6FhQc"
      },
      "source": [
        "Pengumpulan data dilakukan dengan menggunakan _Google Play Scraper_. Untuk cara pengumpulan datanya adalah sebagai berikut:"
      ]
    },
    {
      "cell_type": "markdown",
      "metadata": {
        "id": "-ctmFqMCFhQc"
      },
      "source": [
        "- Instalasi _google-play-scraper_"
      ]
    },
    {
      "cell_type": "code",
      "execution_count": 1,
      "metadata": {
        "colab": {
          "base_uri": "https://localhost:8080/"
        },
        "id": "RLS09dmkFhQd",
        "outputId": "c8acb0c9-c6bd-4e7e-dae0-96c30bda9907"
      },
      "outputs": [
        {
          "output_type": "stream",
          "name": "stdout",
          "text": [
            "Collecting google-play-scraper\n",
            "  Downloading google_play_scraper-1.2.7-py3-none-any.whl.metadata (50 kB)\n",
            "\u001b[?25l     \u001b[90m━━━━━━━━━━━━━━━━━━━━━━━━━━━━━━━━━━━━━━━━\u001b[0m \u001b[32m0.0/50.2 kB\u001b[0m \u001b[31m?\u001b[0m eta \u001b[36m-:--:--\u001b[0m\r\u001b[2K     \u001b[90m━━━━━━━━━━━━━━━━━━━━━━━━━━━━━━━━━━━━━━━━\u001b[0m \u001b[32m50.2/50.2 kB\u001b[0m \u001b[31m1.7 MB/s\u001b[0m eta \u001b[36m0:00:00\u001b[0m\n",
            "\u001b[?25hDownloading google_play_scraper-1.2.7-py3-none-any.whl (28 kB)\n",
            "Installing collected packages: google-play-scraper\n",
            "Successfully installed google-play-scraper-1.2.7\n"
          ]
        }
      ],
      "source": [
        "!pip install google-play-scraper"
      ]
    },
    {
      "cell_type": "markdown",
      "metadata": {
        "id": "yAZdut5KFhQd"
      },
      "source": [
        "- Import app, pandas, dan numpy."
      ]
    },
    {
      "cell_type": "code",
      "execution_count": 2,
      "metadata": {
        "id": "KXfjsmG1FhQd"
      },
      "outputs": [],
      "source": [
        "from google_play_scraper import app\n",
        "import pandas as pd\n",
        "import numpy as np"
      ]
    },
    {
      "cell_type": "markdown",
      "metadata": {
        "id": "1norA8umFhQd"
      },
      "source": [
        "- Melakukan scraping terhadap aplikasi yang diinginkan dengan memasukkan link aplikasi pada google playstore ke dalam code."
      ]
    },
    {
      "cell_type": "code",
      "execution_count": 3,
      "metadata": {
        "id": "9plUUwc8FhQe"
      },
      "outputs": [],
      "source": [
        "from google_play_scraper import Sort, reviews\n",
        "\n",
        "result, continuation_token = reviews(\n",
        "    'com.facebook.katana', # link aplikasi yang akan dilakukan scraping\n",
        "    lang='id', # bahasa\n",
        "    country='id', # negara tempat aplikasi yang dilakukan scraping\n",
        "    sort=Sort.NEWEST, # kategori review yang akan di scraping(MOST_RELEVANT untuk review paling relevan dan NEWEST untuk review terbaru)\n",
        "    count=500, # jumlah review yang ingin didapatkan dari scraping\n",
        "    filter_score_with=None # filter berdasarkan rating (1-5), default none (review dengan semua rating)\n",
        ")"
      ]
    },
    {
      "cell_type": "markdown",
      "metadata": {
        "id": "CY-sea0dFhQe"
      },
      "source": [
        "- Mengubah hasil ulasan menjadi dataframe dengan kolom, kemudian memecah elemen-elemen di dalamnya menjadi kolom-kolom baru."
      ]
    },
    {
      "cell_type": "code",
      "execution_count": 6,
      "metadata": {
        "colab": {
          "base_uri": "https://localhost:8080/",
          "height": 503
        },
        "id": "xt3vFwJgFhQe",
        "outputId": "c0ed2bfb-db79-4956-e822-9e285bd948cc"
      },
      "outputs": [
        {
          "output_type": "execute_result",
          "data": {
            "text/plain": [
              "                               reviewId              userName  \\\n",
              "0  41c7fc48-35df-4544-a68a-a0fece45fec9  Achmad Hamdy Prayoga   \n",
              "1  4d7fa47f-79ee-4ad0-8df8-cbb09dbb0406              Hehe Kao   \n",
              "2  1b8c1ac5-73a6-4efb-b501-d4b759e8c8c9          Musanif Arif   \n",
              "3  c9820d7a-ae5f-4d40-9168-0a54b6c385f8       Nurdin Setiawan   \n",
              "4  2ae3d2cf-6633-43cd-bf29-aec21bf8d185          Apoy Saputra   \n",
              "\n",
              "                                           userImage  \\\n",
              "0  https://play-lh.googleusercontent.com/a-/ALV-U...   \n",
              "1  https://play-lh.googleusercontent.com/a/ACg8oc...   \n",
              "2  https://play-lh.googleusercontent.com/a/ACg8oc...   \n",
              "3  https://play-lh.googleusercontent.com/a/ACg8oc...   \n",
              "4  https://play-lh.googleusercontent.com/a/ACg8oc...   \n",
              "\n",
              "                                        content  score  thumbsUpCount  \\\n",
              "0                                   Terimakasih      5              0   \n",
              "1      Kalo GK bisa bikin iklan Jan bikin iklan      1              0   \n",
              "2                                        mantap      5              0   \n",
              "3  Facebook sangat bermanfaat bagi kaum rebahan      5              0   \n",
              "4                                  Sangat bagus      5              0   \n",
              "\n",
              "  reviewCreatedVersion                  at replyContent repliedAt  \\\n",
              "0                 None 2024-09-28 14:11:54         None      None   \n",
              "1        483.0.0.51.72 2024-09-28 14:10:28         None      None   \n",
              "2        482.0.0.51.80 2024-09-28 14:09:20         None      None   \n",
              "3       316.0.0.54.116 2024-09-28 14:08:31         None      None   \n",
              "4        480.0.0.54.88 2024-09-28 14:07:08         None      None   \n",
              "\n",
              "       appVersion  \n",
              "0            None  \n",
              "1   483.0.0.51.72  \n",
              "2   482.0.0.51.80  \n",
              "3  316.0.0.54.116  \n",
              "4   480.0.0.54.88  "
            ],
            "text/html": [
              "\n",
              "  <div id=\"df-1637fad4-b15a-4ab2-aa9b-cad19c2f1e91\" class=\"colab-df-container\">\n",
              "    <div>\n",
              "<style scoped>\n",
              "    .dataframe tbody tr th:only-of-type {\n",
              "        vertical-align: middle;\n",
              "    }\n",
              "\n",
              "    .dataframe tbody tr th {\n",
              "        vertical-align: top;\n",
              "    }\n",
              "\n",
              "    .dataframe thead th {\n",
              "        text-align: right;\n",
              "    }\n",
              "</style>\n",
              "<table border=\"1\" class=\"dataframe\">\n",
              "  <thead>\n",
              "    <tr style=\"text-align: right;\">\n",
              "      <th></th>\n",
              "      <th>reviewId</th>\n",
              "      <th>userName</th>\n",
              "      <th>userImage</th>\n",
              "      <th>content</th>\n",
              "      <th>score</th>\n",
              "      <th>thumbsUpCount</th>\n",
              "      <th>reviewCreatedVersion</th>\n",
              "      <th>at</th>\n",
              "      <th>replyContent</th>\n",
              "      <th>repliedAt</th>\n",
              "      <th>appVersion</th>\n",
              "    </tr>\n",
              "  </thead>\n",
              "  <tbody>\n",
              "    <tr>\n",
              "      <th>0</th>\n",
              "      <td>41c7fc48-35df-4544-a68a-a0fece45fec9</td>\n",
              "      <td>Achmad Hamdy Prayoga</td>\n",
              "      <td>https://play-lh.googleusercontent.com/a-/ALV-U...</td>\n",
              "      <td>Terimakasih</td>\n",
              "      <td>5</td>\n",
              "      <td>0</td>\n",
              "      <td>None</td>\n",
              "      <td>2024-09-28 14:11:54</td>\n",
              "      <td>None</td>\n",
              "      <td>None</td>\n",
              "      <td>None</td>\n",
              "    </tr>\n",
              "    <tr>\n",
              "      <th>1</th>\n",
              "      <td>4d7fa47f-79ee-4ad0-8df8-cbb09dbb0406</td>\n",
              "      <td>Hehe Kao</td>\n",
              "      <td>https://play-lh.googleusercontent.com/a/ACg8oc...</td>\n",
              "      <td>Kalo GK bisa bikin iklan Jan bikin iklan</td>\n",
              "      <td>1</td>\n",
              "      <td>0</td>\n",
              "      <td>483.0.0.51.72</td>\n",
              "      <td>2024-09-28 14:10:28</td>\n",
              "      <td>None</td>\n",
              "      <td>None</td>\n",
              "      <td>483.0.0.51.72</td>\n",
              "    </tr>\n",
              "    <tr>\n",
              "      <th>2</th>\n",
              "      <td>1b8c1ac5-73a6-4efb-b501-d4b759e8c8c9</td>\n",
              "      <td>Musanif Arif</td>\n",
              "      <td>https://play-lh.googleusercontent.com/a/ACg8oc...</td>\n",
              "      <td>mantap</td>\n",
              "      <td>5</td>\n",
              "      <td>0</td>\n",
              "      <td>482.0.0.51.80</td>\n",
              "      <td>2024-09-28 14:09:20</td>\n",
              "      <td>None</td>\n",
              "      <td>None</td>\n",
              "      <td>482.0.0.51.80</td>\n",
              "    </tr>\n",
              "    <tr>\n",
              "      <th>3</th>\n",
              "      <td>c9820d7a-ae5f-4d40-9168-0a54b6c385f8</td>\n",
              "      <td>Nurdin Setiawan</td>\n",
              "      <td>https://play-lh.googleusercontent.com/a/ACg8oc...</td>\n",
              "      <td>Facebook sangat bermanfaat bagi kaum rebahan</td>\n",
              "      <td>5</td>\n",
              "      <td>0</td>\n",
              "      <td>316.0.0.54.116</td>\n",
              "      <td>2024-09-28 14:08:31</td>\n",
              "      <td>None</td>\n",
              "      <td>None</td>\n",
              "      <td>316.0.0.54.116</td>\n",
              "    </tr>\n",
              "    <tr>\n",
              "      <th>4</th>\n",
              "      <td>2ae3d2cf-6633-43cd-bf29-aec21bf8d185</td>\n",
              "      <td>Apoy Saputra</td>\n",
              "      <td>https://play-lh.googleusercontent.com/a/ACg8oc...</td>\n",
              "      <td>Sangat bagus</td>\n",
              "      <td>5</td>\n",
              "      <td>0</td>\n",
              "      <td>480.0.0.54.88</td>\n",
              "      <td>2024-09-28 14:07:08</td>\n",
              "      <td>None</td>\n",
              "      <td>None</td>\n",
              "      <td>480.0.0.54.88</td>\n",
              "    </tr>\n",
              "  </tbody>\n",
              "</table>\n",
              "</div>\n",
              "    <div class=\"colab-df-buttons\">\n",
              "\n",
              "  <div class=\"colab-df-container\">\n",
              "    <button class=\"colab-df-convert\" onclick=\"convertToInteractive('df-1637fad4-b15a-4ab2-aa9b-cad19c2f1e91')\"\n",
              "            title=\"Convert this dataframe to an interactive table.\"\n",
              "            style=\"display:none;\">\n",
              "\n",
              "  <svg xmlns=\"http://www.w3.org/2000/svg\" height=\"24px\" viewBox=\"0 -960 960 960\">\n",
              "    <path d=\"M120-120v-720h720v720H120Zm60-500h600v-160H180v160Zm220 220h160v-160H400v160Zm0 220h160v-160H400v160ZM180-400h160v-160H180v160Zm440 0h160v-160H620v160ZM180-180h160v-160H180v160Zm440 0h160v-160H620v160Z\"/>\n",
              "  </svg>\n",
              "    </button>\n",
              "\n",
              "  <style>\n",
              "    .colab-df-container {\n",
              "      display:flex;\n",
              "      gap: 12px;\n",
              "    }\n",
              "\n",
              "    .colab-df-convert {\n",
              "      background-color: #E8F0FE;\n",
              "      border: none;\n",
              "      border-radius: 50%;\n",
              "      cursor: pointer;\n",
              "      display: none;\n",
              "      fill: #1967D2;\n",
              "      height: 32px;\n",
              "      padding: 0 0 0 0;\n",
              "      width: 32px;\n",
              "    }\n",
              "\n",
              "    .colab-df-convert:hover {\n",
              "      background-color: #E2EBFA;\n",
              "      box-shadow: 0px 1px 2px rgba(60, 64, 67, 0.3), 0px 1px 3px 1px rgba(60, 64, 67, 0.15);\n",
              "      fill: #174EA6;\n",
              "    }\n",
              "\n",
              "    .colab-df-buttons div {\n",
              "      margin-bottom: 4px;\n",
              "    }\n",
              "\n",
              "    [theme=dark] .colab-df-convert {\n",
              "      background-color: #3B4455;\n",
              "      fill: #D2E3FC;\n",
              "    }\n",
              "\n",
              "    [theme=dark] .colab-df-convert:hover {\n",
              "      background-color: #434B5C;\n",
              "      box-shadow: 0px 1px 3px 1px rgba(0, 0, 0, 0.15);\n",
              "      filter: drop-shadow(0px 1px 2px rgba(0, 0, 0, 0.3));\n",
              "      fill: #FFFFFF;\n",
              "    }\n",
              "  </style>\n",
              "\n",
              "    <script>\n",
              "      const buttonEl =\n",
              "        document.querySelector('#df-1637fad4-b15a-4ab2-aa9b-cad19c2f1e91 button.colab-df-convert');\n",
              "      buttonEl.style.display =\n",
              "        google.colab.kernel.accessAllowed ? 'block' : 'none';\n",
              "\n",
              "      async function convertToInteractive(key) {\n",
              "        const element = document.querySelector('#df-1637fad4-b15a-4ab2-aa9b-cad19c2f1e91');\n",
              "        const dataTable =\n",
              "          await google.colab.kernel.invokeFunction('convertToInteractive',\n",
              "                                                    [key], {});\n",
              "        if (!dataTable) return;\n",
              "\n",
              "        const docLinkHtml = 'Like what you see? Visit the ' +\n",
              "          '<a target=\"_blank\" href=https://colab.research.google.com/notebooks/data_table.ipynb>data table notebook</a>'\n",
              "          + ' to learn more about interactive tables.';\n",
              "        element.innerHTML = '';\n",
              "        dataTable['output_type'] = 'display_data';\n",
              "        await google.colab.output.renderOutput(dataTable, element);\n",
              "        const docLink = document.createElement('div');\n",
              "        docLink.innerHTML = docLinkHtml;\n",
              "        element.appendChild(docLink);\n",
              "      }\n",
              "    </script>\n",
              "  </div>\n",
              "\n",
              "\n",
              "<div id=\"df-3c6849e9-15c9-4346-af7d-b115156c9377\">\n",
              "  <button class=\"colab-df-quickchart\" onclick=\"quickchart('df-3c6849e9-15c9-4346-af7d-b115156c9377')\"\n",
              "            title=\"Suggest charts\"\n",
              "            style=\"display:none;\">\n",
              "\n",
              "<svg xmlns=\"http://www.w3.org/2000/svg\" height=\"24px\"viewBox=\"0 0 24 24\"\n",
              "     width=\"24px\">\n",
              "    <g>\n",
              "        <path d=\"M19 3H5c-1.1 0-2 .9-2 2v14c0 1.1.9 2 2 2h14c1.1 0 2-.9 2-2V5c0-1.1-.9-2-2-2zM9 17H7v-7h2v7zm4 0h-2V7h2v10zm4 0h-2v-4h2v4z\"/>\n",
              "    </g>\n",
              "</svg>\n",
              "  </button>\n",
              "\n",
              "<style>\n",
              "  .colab-df-quickchart {\n",
              "      --bg-color: #E8F0FE;\n",
              "      --fill-color: #1967D2;\n",
              "      --hover-bg-color: #E2EBFA;\n",
              "      --hover-fill-color: #174EA6;\n",
              "      --disabled-fill-color: #AAA;\n",
              "      --disabled-bg-color: #DDD;\n",
              "  }\n",
              "\n",
              "  [theme=dark] .colab-df-quickchart {\n",
              "      --bg-color: #3B4455;\n",
              "      --fill-color: #D2E3FC;\n",
              "      --hover-bg-color: #434B5C;\n",
              "      --hover-fill-color: #FFFFFF;\n",
              "      --disabled-bg-color: #3B4455;\n",
              "      --disabled-fill-color: #666;\n",
              "  }\n",
              "\n",
              "  .colab-df-quickchart {\n",
              "    background-color: var(--bg-color);\n",
              "    border: none;\n",
              "    border-radius: 50%;\n",
              "    cursor: pointer;\n",
              "    display: none;\n",
              "    fill: var(--fill-color);\n",
              "    height: 32px;\n",
              "    padding: 0;\n",
              "    width: 32px;\n",
              "  }\n",
              "\n",
              "  .colab-df-quickchart:hover {\n",
              "    background-color: var(--hover-bg-color);\n",
              "    box-shadow: 0 1px 2px rgba(60, 64, 67, 0.3), 0 1px 3px 1px rgba(60, 64, 67, 0.15);\n",
              "    fill: var(--button-hover-fill-color);\n",
              "  }\n",
              "\n",
              "  .colab-df-quickchart-complete:disabled,\n",
              "  .colab-df-quickchart-complete:disabled:hover {\n",
              "    background-color: var(--disabled-bg-color);\n",
              "    fill: var(--disabled-fill-color);\n",
              "    box-shadow: none;\n",
              "  }\n",
              "\n",
              "  .colab-df-spinner {\n",
              "    border: 2px solid var(--fill-color);\n",
              "    border-color: transparent;\n",
              "    border-bottom-color: var(--fill-color);\n",
              "    animation:\n",
              "      spin 1s steps(1) infinite;\n",
              "  }\n",
              "\n",
              "  @keyframes spin {\n",
              "    0% {\n",
              "      border-color: transparent;\n",
              "      border-bottom-color: var(--fill-color);\n",
              "      border-left-color: var(--fill-color);\n",
              "    }\n",
              "    20% {\n",
              "      border-color: transparent;\n",
              "      border-left-color: var(--fill-color);\n",
              "      border-top-color: var(--fill-color);\n",
              "    }\n",
              "    30% {\n",
              "      border-color: transparent;\n",
              "      border-left-color: var(--fill-color);\n",
              "      border-top-color: var(--fill-color);\n",
              "      border-right-color: var(--fill-color);\n",
              "    }\n",
              "    40% {\n",
              "      border-color: transparent;\n",
              "      border-right-color: var(--fill-color);\n",
              "      border-top-color: var(--fill-color);\n",
              "    }\n",
              "    60% {\n",
              "      border-color: transparent;\n",
              "      border-right-color: var(--fill-color);\n",
              "    }\n",
              "    80% {\n",
              "      border-color: transparent;\n",
              "      border-right-color: var(--fill-color);\n",
              "      border-bottom-color: var(--fill-color);\n",
              "    }\n",
              "    90% {\n",
              "      border-color: transparent;\n",
              "      border-bottom-color: var(--fill-color);\n",
              "    }\n",
              "  }\n",
              "</style>\n",
              "\n",
              "  <script>\n",
              "    async function quickchart(key) {\n",
              "      const quickchartButtonEl =\n",
              "        document.querySelector('#' + key + ' button');\n",
              "      quickchartButtonEl.disabled = true;  // To prevent multiple clicks.\n",
              "      quickchartButtonEl.classList.add('colab-df-spinner');\n",
              "      try {\n",
              "        const charts = await google.colab.kernel.invokeFunction(\n",
              "            'suggestCharts', [key], {});\n",
              "      } catch (error) {\n",
              "        console.error('Error during call to suggestCharts:', error);\n",
              "      }\n",
              "      quickchartButtonEl.classList.remove('colab-df-spinner');\n",
              "      quickchartButtonEl.classList.add('colab-df-quickchart-complete');\n",
              "    }\n",
              "    (() => {\n",
              "      let quickchartButtonEl =\n",
              "        document.querySelector('#df-3c6849e9-15c9-4346-af7d-b115156c9377 button');\n",
              "      quickchartButtonEl.style.display =\n",
              "        google.colab.kernel.accessAllowed ? 'block' : 'none';\n",
              "    })();\n",
              "  </script>\n",
              "</div>\n",
              "\n",
              "    </div>\n",
              "  </div>\n"
            ],
            "application/vnd.google.colaboratory.intrinsic+json": {
              "type": "dataframe",
              "variable_name": "data",
              "repr_error": "Out of range float values are not JSON compliant: nan"
            }
          },
          "metadata": {},
          "execution_count": 6
        }
      ],
      "source": [
        "data = pd.DataFrame(np.array(result),columns=['review'])\n",
        "data = data.join(pd.DataFrame(data.pop('review').tolist()))\n",
        "\n",
        "data.head() # menampilkan sampel data hasil scraping dari google playstore"
      ]
    },
    {
      "cell_type": "markdown",
      "metadata": {
        "id": "X4VYeWwFFhQe"
      },
      "source": [
        "- Menyimpan data review ke dalam file csv"
      ]
    },
    {
      "cell_type": "code",
      "execution_count": 7,
      "metadata": {
        "id": "qpaC2BJTFhQe"
      },
      "outputs": [],
      "source": [
        "data.to_csv('reviews.csv', index=False)\n",
        "data = pd.read_csv('reviews.csv')"
      ]
    },
    {
      "cell_type": "markdown",
      "metadata": {
        "id": "y4z08nGYFhQe"
      },
      "source": [
        "- Mengunduh file csv"
      ]
    },
    {
      "cell_type": "code",
      "execution_count": 8,
      "metadata": {
        "colab": {
          "base_uri": "https://localhost:8080/",
          "height": 34
        },
        "id": "FLyymWirFhQe",
        "outputId": "403f56bc-52be-48ff-8c85-4764ee1f80da"
      },
      "outputs": [
        {
          "output_type": "execute_result",
          "data": {
            "text/plain": [
              "/content/reviews.csv"
            ],
            "text/html": [
              "<a href='reviews.csv' target='_blank'>reviews.csv</a><br>"
            ]
          },
          "metadata": {},
          "execution_count": 8
        }
      ],
      "source": [
        "from IPython.display import FileLink\n",
        "\n",
        "file_path = 'reviews.csv'\n",
        "data.to_csv(file_path, index=False)\n",
        "FileLink(file_path)\n"
      ]
    },
    {
      "cell_type": "markdown",
      "metadata": {
        "id": "Rt5qHaekFhQe"
      },
      "source": [
        "#### Deskripsi Dataset"
      ]
    },
    {
      "cell_type": "markdown",
      "metadata": {
        "id": "LDiHd0bwFhQe"
      },
      "source": [
        "Dataset ini merupakan  dataset yang menampung informasi mengenai ulasan dari suatu aplikasi di Google Play Store. Informasi tersebut mencakup username pemberi ulasan, isi ulasan, rating terhadap aplikasi, tanggal ulasan dibuat dan lain lain."
      ]
    },
    {
      "cell_type": "markdown",
      "metadata": {
        "id": "VfHub5a6FhQe"
      },
      "source": [
        "#### Deskripsi Fitur"
      ]
    },
    {
      "cell_type": "markdown",
      "metadata": {
        "id": "kiyYPJx5FhQe"
      },
      "source": [
        "- reviewId : berisi ID dari ulasan\n",
        "- userName : berisi username dari akun yang memberikan ulasan\n",
        "- userImage : berisi URL foto profil akun yang memberikan ulasan\n",
        "- content : berisi komentar yang diberikan oleh user\n",
        "- score : berisi rating dari user\n",
        "- thumbsUpCount : berisi jumlah like yang pada sebuah ulasan\n",
        "- reviewCreateVersion : berisi versi aplikasi yang diberi ulasan\n",
        "- at : berisi tanggal ulasan dibuat\n",
        "- replyContent : berisi balasan ulasan\n",
        "- repliedAt : berisi tanggal balasan ulasan\n",
        "- appVersion : berisi versi aplikasi saat ini"
      ]
    },
    {
      "cell_type": "markdown",
      "metadata": {
        "id": "bHDn23b8FhQe"
      },
      "source": [
        "### 2. Data Preprocessing"
      ]
    },
    {
      "cell_type": "markdown",
      "metadata": {
        "id": "pg8xSuCSFhQf"
      },
      "source": [
        "#### Data Cleaning"
      ]
    },
    {
      "cell_type": "markdown",
      "source": [
        "Pada langkah ini dilakukan perhitungan korelasi antara fitur reviewCreatedVersion dan appVersion."
      ],
      "metadata": {
        "id": "ool5xmZ9GY32"
      }
    },
    {
      "cell_type": "code",
      "source": [
        "import pandas as pd\n",
        "from scipy.stats import chi2_contingency\n",
        "\n",
        "# Baca data\n",
        "data = pd.read_csv('reviews_cleaned.csv')\n",
        "\n",
        "# Buat tabel kontingensi\n",
        "contingency_table = pd.crosstab(data['reviewCreatedVersion'], data['appVersion'])\n",
        "\n",
        "# Hitung Chi-Square statistic dan p-value\n",
        "chi2, p, dof, expected = chi2_contingency(contingency_table)\n",
        "\n",
        "# Hitung Cramer's V\n",
        "n = contingency_table.sum().sum()\n",
        "min_dim = min(contingency_table.shape)-1\n",
        "cramer_v = np.sqrt(chi2 / (n * min_dim))\n",
        "\n",
        "# Cetak hasil\n",
        "print(f\"Cramer's V: {cramer_v}\")"
      ],
      "metadata": {
        "colab": {
          "base_uri": "https://localhost:8080/"
        },
        "id": "9Ddvwx1tGjge",
        "outputId": "3048d05a-b92c-435a-bfb2-18d9c81cfce9"
      },
      "execution_count": 11,
      "outputs": [
        {
          "output_type": "stream",
          "name": "stdout",
          "text": [
            "Cramer's V: 1.0\n"
          ]
        }
      ]
    },
    {
      "cell_type": "markdown",
      "source": [
        "Hasil dari perhitungan korelasi antara reviewCreatedVersion dan appVersion adalah 1.0, yang menunjukkan bahwa kedua fitur tersebut saling berhubungan dan bisa dihapus salah satunya."
      ],
      "metadata": {
        "id": "Ojg0RU0dIaX3"
      }
    },
    {
      "cell_type": "markdown",
      "source": [
        "Pada langkah ini akan melakukan drop terhadap fitur yang tidak diperlukan saat pendeteksian yaitu userImage, replyContent, dan RepliedAt. Selain itu dilakukan drop terhadap fitur reviewCreatedVersion."
      ],
      "metadata": {
        "id": "qn9PFJIgGDiJ"
      }
    },
    {
      "cell_type": "code",
      "execution_count": 12,
      "metadata": {
        "colab": {
          "base_uri": "https://localhost:8080/"
        },
        "id": "liIYi2NaFhQf",
        "outputId": "3a9fbf71-ea49-4560-c6c0-39ce71e8be07"
      },
      "outputs": [
        {
          "output_type": "stream",
          "name": "stdout",
          "text": [
            "Data awal sebelum penghapusan kolom:\n",
            "                               reviewId              userName  \\\n",
            "0  41c7fc48-35df-4544-a68a-a0fece45fec9  Achmad Hamdy Prayoga   \n",
            "1  4d7fa47f-79ee-4ad0-8df8-cbb09dbb0406              Hehe Kao   \n",
            "2  1b8c1ac5-73a6-4efb-b501-d4b759e8c8c9          Musanif Arif   \n",
            "3  c9820d7a-ae5f-4d40-9168-0a54b6c385f8       Nurdin Setiawan   \n",
            "4  2ae3d2cf-6633-43cd-bf29-aec21bf8d185          Apoy Saputra   \n",
            "\n",
            "                                           userImage  \\\n",
            "0  https://play-lh.googleusercontent.com/a-/ALV-U...   \n",
            "1  https://play-lh.googleusercontent.com/a/ACg8oc...   \n",
            "2  https://play-lh.googleusercontent.com/a/ACg8oc...   \n",
            "3  https://play-lh.googleusercontent.com/a/ACg8oc...   \n",
            "4  https://play-lh.googleusercontent.com/a/ACg8oc...   \n",
            "\n",
            "                                        content  score  thumbsUpCount  \\\n",
            "0                                   Terimakasih      5              0   \n",
            "1      Kalo GK bisa bikin iklan Jan bikin iklan      1              0   \n",
            "2                                        mantap      5              0   \n",
            "3  Facebook sangat bermanfaat bagi kaum rebahan      5              0   \n",
            "4                                  Sangat bagus      5              0   \n",
            "\n",
            "  reviewCreatedVersion                   at  replyContent  repliedAt  \\\n",
            "0                  NaN  2024-09-28 14:11:54           NaN        NaN   \n",
            "1        483.0.0.51.72  2024-09-28 14:10:28           NaN        NaN   \n",
            "2        482.0.0.51.80  2024-09-28 14:09:20           NaN        NaN   \n",
            "3       316.0.0.54.116  2024-09-28 14:08:31           NaN        NaN   \n",
            "4        480.0.0.54.88  2024-09-28 14:07:08           NaN        NaN   \n",
            "\n",
            "       appVersion  \n",
            "0             NaN  \n",
            "1   483.0.0.51.72  \n",
            "2   482.0.0.51.80  \n",
            "3  316.0.0.54.116  \n",
            "4   480.0.0.54.88  \n",
            "\n",
            "Data setelah penghapusan kolom:\n",
            "                               reviewId              userName  \\\n",
            "0  41c7fc48-35df-4544-a68a-a0fece45fec9  Achmad Hamdy Prayoga   \n",
            "1  4d7fa47f-79ee-4ad0-8df8-cbb09dbb0406              Hehe Kao   \n",
            "2  1b8c1ac5-73a6-4efb-b501-d4b759e8c8c9          Musanif Arif   \n",
            "3  c9820d7a-ae5f-4d40-9168-0a54b6c385f8       Nurdin Setiawan   \n",
            "4  2ae3d2cf-6633-43cd-bf29-aec21bf8d185          Apoy Saputra   \n",
            "\n",
            "                                        content  score  thumbsUpCount  \\\n",
            "0                                   Terimakasih      5              0   \n",
            "1      Kalo GK bisa bikin iklan Jan bikin iklan      1              0   \n",
            "2                                        mantap      5              0   \n",
            "3  Facebook sangat bermanfaat bagi kaum rebahan      5              0   \n",
            "4                                  Sangat bagus      5              0   \n",
            "\n",
            "                    at      appVersion  \n",
            "0  2024-09-28 14:11:54             NaN  \n",
            "1  2024-09-28 14:10:28   483.0.0.51.72  \n",
            "2  2024-09-28 14:09:20   482.0.0.51.80  \n",
            "3  2024-09-28 14:08:31  316.0.0.54.116  \n",
            "4  2024-09-28 14:07:08   480.0.0.54.88  \n"
          ]
        }
      ],
      "source": [
        "import pandas as pd\n",
        "\n",
        "# Membaca data dari file CSV\n",
        "data = pd.read_csv('reviews.csv')\n",
        "\n",
        "# Menampilkan informasi awal mengenai dataset sebelum penghapusan kolom\n",
        "print(\"Data awal sebelum penghapusan kolom:\")\n",
        "print(data.head())\n",
        "\n",
        "# Menghapus kolom yang tidak diperlukan\n",
        "columns_to_drop = ['userImage', 'replyContent', 'repliedAt', 'reviewCreatedVersion']\n",
        "data.drop(columns=columns_to_drop, inplace=True)\n",
        "\n",
        "# Menampilkan informasi setelah penghapusan kolom\n",
        "print(\"\\nData setelah penghapusan kolom:\")\n",
        "print(data.head())\n",
        "\n",
        "# Menyimpan data yang telah diubah ke file baru jika diinginkan\n",
        "data.to_csv('reviews_cleaned.csv', index=False)\n"
      ]
    },
    {
      "cell_type": "markdown",
      "metadata": {
        "id": "P5Mw7SJoFhQf"
      },
      "source": [
        "#### Pendeteksian Outlier"
      ]
    },
    {
      "cell_type": "markdown",
      "metadata": {
        "id": "v6-SAic2FhQg"
      },
      "source": [
        "Untuk pendeteksian outlier saya menggunakan metode LOF(Local Outlier Factor). LOF sendiri merupakan salah satu metode pendeteksian outlier yang bekerja dengan cara membandingkan kerapatan antar titik data."
      ]
    },
    {
      "cell_type": "code",
      "execution_count": 13,
      "metadata": {
        "colab": {
          "base_uri": "https://localhost:8080/"
        },
        "id": "vsnEYECSFhQg",
        "outputId": "8c027706-6445-4b16-b178-43a4bec21980"
      },
      "outputs": [
        {
          "output_type": "stream",
          "name": "stdout",
          "text": [
            "Data awal:\n",
            "                               reviewId              userName  \\\n",
            "0  41c7fc48-35df-4544-a68a-a0fece45fec9  Achmad Hamdy Prayoga   \n",
            "1  4d7fa47f-79ee-4ad0-8df8-cbb09dbb0406              Hehe Kao   \n",
            "2  1b8c1ac5-73a6-4efb-b501-d4b759e8c8c9          Musanif Arif   \n",
            "3  c9820d7a-ae5f-4d40-9168-0a54b6c385f8       Nurdin Setiawan   \n",
            "4  2ae3d2cf-6633-43cd-bf29-aec21bf8d185          Apoy Saputra   \n",
            "\n",
            "                                        content  score  thumbsUpCount  \\\n",
            "0                                   Terimakasih      5              0   \n",
            "1      Kalo GK bisa bikin iklan Jan bikin iklan      1              0   \n",
            "2                                        mantap      5              0   \n",
            "3  Facebook sangat bermanfaat bagi kaum rebahan      5              0   \n",
            "4                                  Sangat bagus      5              0   \n",
            "\n",
            "                    at      appVersion  \n",
            "0  2024-09-28 14:11:54             NaN  \n",
            "1  2024-09-28 14:10:28   483.0.0.51.72  \n",
            "2  2024-09-28 14:09:20   482.0.0.51.80  \n",
            "3  2024-09-28 14:08:31  316.0.0.54.116  \n",
            "4  2024-09-28 14:07:08   480.0.0.54.88  \n",
            "Detected Outliers using LOF:\n",
            "                                 reviewId            userName  \\\n",
            "73   afa49c1b-c883-42ce-8024-e9f0bb627c6a        Dock Merdock   \n",
            "122  287e6aa5-2128-472b-b110-cabdd89ec7ec          Helo Kitty   \n",
            "228  c4c1c7ef-5b9e-4036-a3c7-b424b833a29f   Suyanto Grabjogja   \n",
            "343  eb5a670d-1baa-4b4e-8e1e-23c3ffadcd33     kuryadi candera   \n",
            "373  0c016071-65b6-4c93-937a-fc5cb12692d6            Kia Jr24   \n",
            "385  3858f5e4-2d6d-49b7-bd20-4cb38ea173e2        Rifky Arkhan   \n",
            "429  c333f2d3-2f34-4688-899a-ccf94ed3c1e5    Nendri Alexander   \n",
            "441  03183904-7d1e-4072-bf31-e00daa8e9737  Nuur Al Farokaanie   \n",
            "\n",
            "                                               content  score  thumbsUpCount  \\\n",
            "73   Sebernya pemutaran berapa di rell biar dapet 0...      1              8   \n",
            "122  aplikasi facebook ngeBUG,menu buat pengaturan/...      1            507   \n",
            "228  halaman Notifikasi ku Hilang tidak bisa di buk...      2              1   \n",
            "343  aku sangat. puas dengan aplikasi kasi nya 🙏tap...      5              1   \n",
            "373  Di update makin aneh !!! Posting marketplace m...      1             13   \n",
            "385                                         keren deng      5              1   \n",
            "429  Facebook luar biasa bagus untuk berkomunikasi ...      5              8   \n",
            "441  Masa iya,mau baca status video yang panjang ha...      1              9   \n",
            "\n",
            "                      at      appVersion  is_outlier  \n",
            "73   2024-09-28 11:49:31   483.0.0.51.72          -1  \n",
            "122  2024-09-28 10:14:49   483.0.0.51.72          -1  \n",
            "228  2024-09-28 05:18:54  348.0.0.39.118          -1  \n",
            "343  2024-09-28 00:53:12   460.0.0.34.89          -1  \n",
            "373  2024-09-27 23:15:54   483.0.0.51.72          -1  \n",
            "385  2024-09-27 22:34:50   483.0.0.51.72          -1  \n",
            "429  2024-09-27 17:31:52   482.0.0.51.80          -1  \n",
            "441  2024-09-27 16:58:48   483.0.0.51.72          -1  \n",
            "Jumlah outlier terdeteksi: 8\n"
          ]
        }
      ],
      "source": [
        "import pandas as pd\n",
        "from sklearn.neighbors import LocalOutlierFactor\n",
        "\n",
        "data = pd.read_csv('reviews_cleaned.csv') # Membaca data dari file CSV\n",
        "\n",
        "print(\"Data awal:\") # Menampilkan informasi awal mengenai dataset\n",
        "print(data.head())\n",
        "\n",
        "X = data[['thumbsUpCount']] # Memastikan hanya mengambil kolom yang relevan untuk analisis\n",
        "\n",
        "# Membuat model LOF\n",
        "lof = LocalOutlierFactor(n_neighbors=20)  # n_neighbors dapat disesuaikan\n",
        "\n",
        "data['is_outlier'] = lof.fit_predict(X) # Melatih model dan mendeteksi outlier\n",
        "\n",
        "# Menampilkan hasil\n",
        "outliers = data[data['is_outlier'] == -1]  # LOF mengembalikan -1 untuk outlier, 1 untuk inlier\n",
        "\n",
        "data.to_csv('reviews_with_LOF_outliers.csv', index=False) # Menyimpan hasil ke file baru jika diinginkan\n",
        "\n",
        "# Menampilkan outliers\n",
        "print(\"Detected Outliers using LOF:\")\n",
        "print(outliers)\n",
        "\n",
        "# Menampilkan jumlah outlier yang terdeteksi\n",
        "print(f\"Jumlah outlier terdeteksi: {len(outliers)}\")\n"
      ]
    },
    {
      "cell_type": "markdown",
      "metadata": {
        "id": "pwMzUwvDFhQg"
      },
      "source": [
        "Pada dataset yang saya gunakan hanya fitur thumbsUpCounter saja yang memungkinkan adanya outlier. Namun karena dataset yang saya scrap adalah data terbaru dan hasil menunjukkan record yang dideteksi sebagai outlier memiliki nilai thumbsUpCounter 0 yang sama dengan record lain, maka record yang terdeteksi sebagai outlier tersebut saya abaikan. Hal tersebut saya lakukan karena adanya outlier menuntut keberagaman data."
      ]
    },
    {
      "cell_type": "markdown",
      "metadata": {
        "id": "uQ0c2RnjFhQg"
      },
      "source": [
        "#### Pendeteksian Missing Value"
      ]
    },
    {
      "cell_type": "markdown",
      "source": [
        "Pada langkah ini dilakukan pendeteksian missing value terhadap dataset."
      ],
      "metadata": {
        "id": "sj6oQ4ZKaI2A"
      }
    },
    {
      "cell_type": "code",
      "execution_count": 14,
      "metadata": {
        "colab": {
          "base_uri": "https://localhost:8080/"
        },
        "id": "FMha52eOFhQg",
        "outputId": "b734499a-52bf-4481-ed3c-f40667387396"
      },
      "outputs": [
        {
          "output_type": "stream",
          "name": "stdout",
          "text": [
            "\n",
            "Missing Values Ditemukan:\n",
            "            Missing Values  Percentage\n",
            "appVersion             130        26.0\n"
          ]
        }
      ],
      "source": [
        "import pandas as pd\n",
        "\n",
        "# Membaca data dari file CSV\n",
        "data = pd.read_csv('reviews_cleaned.csv')\n",
        "\n",
        "# Menghitung jumlah dan persentase missing values untuk setiap kolom\n",
        "missing_values = data.isnull().sum()\n",
        "missing_percentage = (missing_values / len(data)) * 100\n",
        "\n",
        "# Menggabungkan informasi jumlah dan persentase ke dalam DataFrame\n",
        "missing_info = pd.DataFrame({\n",
        "    'Missing Values': missing_values,\n",
        "    'Percentage': missing_percentage\n",
        "})\n",
        "\n",
        "# Menampilkan hasil\n",
        "print(\"\\nMissing Values Ditemukan:\")\n",
        "print(missing_info[missing_info['Missing Values'] > 0])  # Hanya menampilkan kolom dengan missing values\n"
      ]
    },
    {
      "cell_type": "markdown",
      "source": [
        "Setelah missing value ditemukan, langkah selanjutnya adalah imputasi missing value."
      ],
      "metadata": {
        "id": "5BE7kVsFaRXI"
      }
    },
    {
      "cell_type": "code",
      "source": [
        "import pandas as pd\n",
        "\n",
        "# Baca data\n",
        "data = pd.read_csv('reviews_cleaned.csv')\n",
        "\n",
        "# Hitung modus dari kolom 'appVersion'\n",
        "mode_appVersion = data['appVersion'].mode()[0]\n",
        "\n",
        "# Isi missing value dengan modus\n",
        "data['appVersion'] = data['appVersion'].fillna(mode_appVersion)\n",
        "\n",
        "# Simpan data yang telah diimputasi\n",
        "data.to_csv('reviews_imputed_appVersion.csv', index=False)\n",
        "data.head()"
      ],
      "metadata": {
        "colab": {
          "base_uri": "https://localhost:8080/",
          "height": 449
        },
        "id": "HpXus5MmYBYX",
        "outputId": "1c7ebaf2-ed0d-4422-9b23-05f10023587f"
      },
      "execution_count": 30,
      "outputs": [
        {
          "output_type": "execute_result",
          "data": {
            "text/plain": [
              "                               reviewId              userName  \\\n",
              "0  41c7fc48-35df-4544-a68a-a0fece45fec9  Achmad Hamdy Prayoga   \n",
              "1  4d7fa47f-79ee-4ad0-8df8-cbb09dbb0406              Hehe Kao   \n",
              "2  1b8c1ac5-73a6-4efb-b501-d4b759e8c8c9          Musanif Arif   \n",
              "3  c9820d7a-ae5f-4d40-9168-0a54b6c385f8       Nurdin Setiawan   \n",
              "4  2ae3d2cf-6633-43cd-bf29-aec21bf8d185          Apoy Saputra   \n",
              "\n",
              "                                        content  score  thumbsUpCount  \\\n",
              "0                                   Terimakasih      5              0   \n",
              "1      Kalo GK bisa bikin iklan Jan bikin iklan      1              0   \n",
              "2                                        mantap      5              0   \n",
              "3  Facebook sangat bermanfaat bagi kaum rebahan      5              0   \n",
              "4                                  Sangat bagus      5              0   \n",
              "\n",
              "                    at      appVersion  \n",
              "0  2024-09-28 14:11:54   483.0.0.51.72  \n",
              "1  2024-09-28 14:10:28   483.0.0.51.72  \n",
              "2  2024-09-28 14:09:20   482.0.0.51.80  \n",
              "3  2024-09-28 14:08:31  316.0.0.54.116  \n",
              "4  2024-09-28 14:07:08   480.0.0.54.88  "
            ],
            "text/html": [
              "\n",
              "  <div id=\"df-84612808-b319-4e77-9c00-40f0dd26c6ba\" class=\"colab-df-container\">\n",
              "    <div>\n",
              "<style scoped>\n",
              "    .dataframe tbody tr th:only-of-type {\n",
              "        vertical-align: middle;\n",
              "    }\n",
              "\n",
              "    .dataframe tbody tr th {\n",
              "        vertical-align: top;\n",
              "    }\n",
              "\n",
              "    .dataframe thead th {\n",
              "        text-align: right;\n",
              "    }\n",
              "</style>\n",
              "<table border=\"1\" class=\"dataframe\">\n",
              "  <thead>\n",
              "    <tr style=\"text-align: right;\">\n",
              "      <th></th>\n",
              "      <th>reviewId</th>\n",
              "      <th>userName</th>\n",
              "      <th>content</th>\n",
              "      <th>score</th>\n",
              "      <th>thumbsUpCount</th>\n",
              "      <th>at</th>\n",
              "      <th>appVersion</th>\n",
              "    </tr>\n",
              "  </thead>\n",
              "  <tbody>\n",
              "    <tr>\n",
              "      <th>0</th>\n",
              "      <td>41c7fc48-35df-4544-a68a-a0fece45fec9</td>\n",
              "      <td>Achmad Hamdy Prayoga</td>\n",
              "      <td>Terimakasih</td>\n",
              "      <td>5</td>\n",
              "      <td>0</td>\n",
              "      <td>2024-09-28 14:11:54</td>\n",
              "      <td>483.0.0.51.72</td>\n",
              "    </tr>\n",
              "    <tr>\n",
              "      <th>1</th>\n",
              "      <td>4d7fa47f-79ee-4ad0-8df8-cbb09dbb0406</td>\n",
              "      <td>Hehe Kao</td>\n",
              "      <td>Kalo GK bisa bikin iklan Jan bikin iklan</td>\n",
              "      <td>1</td>\n",
              "      <td>0</td>\n",
              "      <td>2024-09-28 14:10:28</td>\n",
              "      <td>483.0.0.51.72</td>\n",
              "    </tr>\n",
              "    <tr>\n",
              "      <th>2</th>\n",
              "      <td>1b8c1ac5-73a6-4efb-b501-d4b759e8c8c9</td>\n",
              "      <td>Musanif Arif</td>\n",
              "      <td>mantap</td>\n",
              "      <td>5</td>\n",
              "      <td>0</td>\n",
              "      <td>2024-09-28 14:09:20</td>\n",
              "      <td>482.0.0.51.80</td>\n",
              "    </tr>\n",
              "    <tr>\n",
              "      <th>3</th>\n",
              "      <td>c9820d7a-ae5f-4d40-9168-0a54b6c385f8</td>\n",
              "      <td>Nurdin Setiawan</td>\n",
              "      <td>Facebook sangat bermanfaat bagi kaum rebahan</td>\n",
              "      <td>5</td>\n",
              "      <td>0</td>\n",
              "      <td>2024-09-28 14:08:31</td>\n",
              "      <td>316.0.0.54.116</td>\n",
              "    </tr>\n",
              "    <tr>\n",
              "      <th>4</th>\n",
              "      <td>2ae3d2cf-6633-43cd-bf29-aec21bf8d185</td>\n",
              "      <td>Apoy Saputra</td>\n",
              "      <td>Sangat bagus</td>\n",
              "      <td>5</td>\n",
              "      <td>0</td>\n",
              "      <td>2024-09-28 14:07:08</td>\n",
              "      <td>480.0.0.54.88</td>\n",
              "    </tr>\n",
              "  </tbody>\n",
              "</table>\n",
              "</div>\n",
              "    <div class=\"colab-df-buttons\">\n",
              "\n",
              "  <div class=\"colab-df-container\">\n",
              "    <button class=\"colab-df-convert\" onclick=\"convertToInteractive('df-84612808-b319-4e77-9c00-40f0dd26c6ba')\"\n",
              "            title=\"Convert this dataframe to an interactive table.\"\n",
              "            style=\"display:none;\">\n",
              "\n",
              "  <svg xmlns=\"http://www.w3.org/2000/svg\" height=\"24px\" viewBox=\"0 -960 960 960\">\n",
              "    <path d=\"M120-120v-720h720v720H120Zm60-500h600v-160H180v160Zm220 220h160v-160H400v160Zm0 220h160v-160H400v160ZM180-400h160v-160H180v160Zm440 0h160v-160H620v160ZM180-180h160v-160H180v160Zm440 0h160v-160H620v160Z\"/>\n",
              "  </svg>\n",
              "    </button>\n",
              "\n",
              "  <style>\n",
              "    .colab-df-container {\n",
              "      display:flex;\n",
              "      gap: 12px;\n",
              "    }\n",
              "\n",
              "    .colab-df-convert {\n",
              "      background-color: #E8F0FE;\n",
              "      border: none;\n",
              "      border-radius: 50%;\n",
              "      cursor: pointer;\n",
              "      display: none;\n",
              "      fill: #1967D2;\n",
              "      height: 32px;\n",
              "      padding: 0 0 0 0;\n",
              "      width: 32px;\n",
              "    }\n",
              "\n",
              "    .colab-df-convert:hover {\n",
              "      background-color: #E2EBFA;\n",
              "      box-shadow: 0px 1px 2px rgba(60, 64, 67, 0.3), 0px 1px 3px 1px rgba(60, 64, 67, 0.15);\n",
              "      fill: #174EA6;\n",
              "    }\n",
              "\n",
              "    .colab-df-buttons div {\n",
              "      margin-bottom: 4px;\n",
              "    }\n",
              "\n",
              "    [theme=dark] .colab-df-convert {\n",
              "      background-color: #3B4455;\n",
              "      fill: #D2E3FC;\n",
              "    }\n",
              "\n",
              "    [theme=dark] .colab-df-convert:hover {\n",
              "      background-color: #434B5C;\n",
              "      box-shadow: 0px 1px 3px 1px rgba(0, 0, 0, 0.15);\n",
              "      filter: drop-shadow(0px 1px 2px rgba(0, 0, 0, 0.3));\n",
              "      fill: #FFFFFF;\n",
              "    }\n",
              "  </style>\n",
              "\n",
              "    <script>\n",
              "      const buttonEl =\n",
              "        document.querySelector('#df-84612808-b319-4e77-9c00-40f0dd26c6ba button.colab-df-convert');\n",
              "      buttonEl.style.display =\n",
              "        google.colab.kernel.accessAllowed ? 'block' : 'none';\n",
              "\n",
              "      async function convertToInteractive(key) {\n",
              "        const element = document.querySelector('#df-84612808-b319-4e77-9c00-40f0dd26c6ba');\n",
              "        const dataTable =\n",
              "          await google.colab.kernel.invokeFunction('convertToInteractive',\n",
              "                                                    [key], {});\n",
              "        if (!dataTable) return;\n",
              "\n",
              "        const docLinkHtml = 'Like what you see? Visit the ' +\n",
              "          '<a target=\"_blank\" href=https://colab.research.google.com/notebooks/data_table.ipynb>data table notebook</a>'\n",
              "          + ' to learn more about interactive tables.';\n",
              "        element.innerHTML = '';\n",
              "        dataTable['output_type'] = 'display_data';\n",
              "        await google.colab.output.renderOutput(dataTable, element);\n",
              "        const docLink = document.createElement('div');\n",
              "        docLink.innerHTML = docLinkHtml;\n",
              "        element.appendChild(docLink);\n",
              "      }\n",
              "    </script>\n",
              "  </div>\n",
              "\n",
              "\n",
              "<div id=\"df-01753bac-cb55-4e7c-b8a5-184cb4e95860\">\n",
              "  <button class=\"colab-df-quickchart\" onclick=\"quickchart('df-01753bac-cb55-4e7c-b8a5-184cb4e95860')\"\n",
              "            title=\"Suggest charts\"\n",
              "            style=\"display:none;\">\n",
              "\n",
              "<svg xmlns=\"http://www.w3.org/2000/svg\" height=\"24px\"viewBox=\"0 0 24 24\"\n",
              "     width=\"24px\">\n",
              "    <g>\n",
              "        <path d=\"M19 3H5c-1.1 0-2 .9-2 2v14c0 1.1.9 2 2 2h14c1.1 0 2-.9 2-2V5c0-1.1-.9-2-2-2zM9 17H7v-7h2v7zm4 0h-2V7h2v10zm4 0h-2v-4h2v4z\"/>\n",
              "    </g>\n",
              "</svg>\n",
              "  </button>\n",
              "\n",
              "<style>\n",
              "  .colab-df-quickchart {\n",
              "      --bg-color: #E8F0FE;\n",
              "      --fill-color: #1967D2;\n",
              "      --hover-bg-color: #E2EBFA;\n",
              "      --hover-fill-color: #174EA6;\n",
              "      --disabled-fill-color: #AAA;\n",
              "      --disabled-bg-color: #DDD;\n",
              "  }\n",
              "\n",
              "  [theme=dark] .colab-df-quickchart {\n",
              "      --bg-color: #3B4455;\n",
              "      --fill-color: #D2E3FC;\n",
              "      --hover-bg-color: #434B5C;\n",
              "      --hover-fill-color: #FFFFFF;\n",
              "      --disabled-bg-color: #3B4455;\n",
              "      --disabled-fill-color: #666;\n",
              "  }\n",
              "\n",
              "  .colab-df-quickchart {\n",
              "    background-color: var(--bg-color);\n",
              "    border: none;\n",
              "    border-radius: 50%;\n",
              "    cursor: pointer;\n",
              "    display: none;\n",
              "    fill: var(--fill-color);\n",
              "    height: 32px;\n",
              "    padding: 0;\n",
              "    width: 32px;\n",
              "  }\n",
              "\n",
              "  .colab-df-quickchart:hover {\n",
              "    background-color: var(--hover-bg-color);\n",
              "    box-shadow: 0 1px 2px rgba(60, 64, 67, 0.3), 0 1px 3px 1px rgba(60, 64, 67, 0.15);\n",
              "    fill: var(--button-hover-fill-color);\n",
              "  }\n",
              "\n",
              "  .colab-df-quickchart-complete:disabled,\n",
              "  .colab-df-quickchart-complete:disabled:hover {\n",
              "    background-color: var(--disabled-bg-color);\n",
              "    fill: var(--disabled-fill-color);\n",
              "    box-shadow: none;\n",
              "  }\n",
              "\n",
              "  .colab-df-spinner {\n",
              "    border: 2px solid var(--fill-color);\n",
              "    border-color: transparent;\n",
              "    border-bottom-color: var(--fill-color);\n",
              "    animation:\n",
              "      spin 1s steps(1) infinite;\n",
              "  }\n",
              "\n",
              "  @keyframes spin {\n",
              "    0% {\n",
              "      border-color: transparent;\n",
              "      border-bottom-color: var(--fill-color);\n",
              "      border-left-color: var(--fill-color);\n",
              "    }\n",
              "    20% {\n",
              "      border-color: transparent;\n",
              "      border-left-color: var(--fill-color);\n",
              "      border-top-color: var(--fill-color);\n",
              "    }\n",
              "    30% {\n",
              "      border-color: transparent;\n",
              "      border-left-color: var(--fill-color);\n",
              "      border-top-color: var(--fill-color);\n",
              "      border-right-color: var(--fill-color);\n",
              "    }\n",
              "    40% {\n",
              "      border-color: transparent;\n",
              "      border-right-color: var(--fill-color);\n",
              "      border-top-color: var(--fill-color);\n",
              "    }\n",
              "    60% {\n",
              "      border-color: transparent;\n",
              "      border-right-color: var(--fill-color);\n",
              "    }\n",
              "    80% {\n",
              "      border-color: transparent;\n",
              "      border-right-color: var(--fill-color);\n",
              "      border-bottom-color: var(--fill-color);\n",
              "    }\n",
              "    90% {\n",
              "      border-color: transparent;\n",
              "      border-bottom-color: var(--fill-color);\n",
              "    }\n",
              "  }\n",
              "</style>\n",
              "\n",
              "  <script>\n",
              "    async function quickchart(key) {\n",
              "      const quickchartButtonEl =\n",
              "        document.querySelector('#' + key + ' button');\n",
              "      quickchartButtonEl.disabled = true;  // To prevent multiple clicks.\n",
              "      quickchartButtonEl.classList.add('colab-df-spinner');\n",
              "      try {\n",
              "        const charts = await google.colab.kernel.invokeFunction(\n",
              "            'suggestCharts', [key], {});\n",
              "      } catch (error) {\n",
              "        console.error('Error during call to suggestCharts:', error);\n",
              "      }\n",
              "      quickchartButtonEl.classList.remove('colab-df-spinner');\n",
              "      quickchartButtonEl.classList.add('colab-df-quickchart-complete');\n",
              "    }\n",
              "    (() => {\n",
              "      let quickchartButtonEl =\n",
              "        document.querySelector('#df-01753bac-cb55-4e7c-b8a5-184cb4e95860 button');\n",
              "      quickchartButtonEl.style.display =\n",
              "        google.colab.kernel.accessAllowed ? 'block' : 'none';\n",
              "    })();\n",
              "  </script>\n",
              "</div>\n",
              "\n",
              "    </div>\n",
              "  </div>\n"
            ],
            "application/vnd.google.colaboratory.intrinsic+json": {
              "type": "dataframe",
              "variable_name": "data",
              "summary": "{\n  \"name\": \"data\",\n  \"rows\": 500,\n  \"fields\": [\n    {\n      \"column\": \"reviewId\",\n      \"properties\": {\n        \"dtype\": \"string\",\n        \"num_unique_values\": 500,\n        \"samples\": [\n          \"b6918701-5ea0-451b-8863-c61a643d84da\",\n          \"afa49c1b-c883-42ce-8024-e9f0bb627c6a\",\n          \"74e34d43-0c44-4a24-b9f3-3562b6a90ffd\"\n        ],\n        \"semantic_type\": \"\",\n        \"description\": \"\"\n      }\n    },\n    {\n      \"column\": \"userName\",\n      \"properties\": {\n        \"dtype\": \"string\",\n        \"num_unique_values\": 500,\n        \"samples\": [\n          \"Sohilait Glenn\",\n          \"Dock Merdock\",\n          \"Pujianto Anto\"\n        ],\n        \"semantic_type\": \"\",\n        \"description\": \"\"\n      }\n    },\n    {\n      \"column\": \"content\",\n      \"properties\": {\n        \"dtype\": \"string\",\n        \"num_unique_values\": 372,\n        \"samples\": [\n          \"good\\ud83d\\udc4d\",\n          \"Di upgrade malah hilang menu2nya \\ud83d\\ude2c\",\n          \"ternyata cinta dan dicintai dg bahagia\"\n        ],\n        \"semantic_type\": \"\",\n        \"description\": \"\"\n      }\n    },\n    {\n      \"column\": \"score\",\n      \"properties\": {\n        \"dtype\": \"number\",\n        \"std\": 1,\n        \"min\": 1,\n        \"max\": 5,\n        \"num_unique_values\": 5,\n        \"samples\": [\n          1,\n          4,\n          3\n        ],\n        \"semantic_type\": \"\",\n        \"description\": \"\"\n      }\n    },\n    {\n      \"column\": \"thumbsUpCount\",\n      \"properties\": {\n        \"dtype\": \"number\",\n        \"std\": 22,\n        \"min\": 0,\n        \"max\": 507,\n        \"num_unique_values\": 6,\n        \"samples\": [\n          0,\n          8,\n          9\n        ],\n        \"semantic_type\": \"\",\n        \"description\": \"\"\n      }\n    },\n    {\n      \"column\": \"at\",\n      \"properties\": {\n        \"dtype\": \"object\",\n        \"num_unique_values\": 500,\n        \"samples\": [\n          \"2024-09-27 23:51:23\",\n          \"2024-09-28 11:49:31\",\n          \"2024-09-27 23:11:23\"\n        ],\n        \"semantic_type\": \"\",\n        \"description\": \"\"\n      }\n    },\n    {\n      \"column\": \"appVersion\",\n      \"properties\": {\n        \"dtype\": \"category\",\n        \"num_unique_values\": 42,\n        \"samples\": [\n          \"272.0.0.50.125\",\n          \"467.1.0.52.83\",\n          \"479.0.0.48.89\"\n        ],\n        \"semantic_type\": \"\",\n        \"description\": \"\"\n      }\n    }\n  ]\n}"
            }
          },
          "metadata": {},
          "execution_count": 30
        }
      ]
    },
    {
      "cell_type": "markdown",
      "metadata": {
        "id": "AT0Pm3ILFhQh"
      },
      "source": [
        "### 3. Modeling"
      ]
    },
    {
      "cell_type": "markdown",
      "metadata": {
        "id": "o1_qEwpbFhQh"
      },
      "source": [
        "#### Menentukan Teknik Model"
      ]
    },
    {
      "cell_type": "markdown",
      "metadata": {
        "id": "0TBVjSNqFhQh"
      },
      "source": [
        "#### Membangun Model"
      ]
    },
    {
      "cell_type": "markdown",
      "metadata": {
        "id": "QUZPq8spFhQh"
      },
      "source": [
        "### 4. Evaluasi"
      ]
    },
    {
      "cell_type": "markdown",
      "metadata": {
        "id": "7g2tSWMNFhQh"
      },
      "source": [
        "### 5. Deployment"
      ]
    }
  ],
  "metadata": {
    "kernelspec": {
      "display_name": "Python 3",
      "language": "python",
      "name": "python3"
    },
    "language_info": {
      "codemirror_mode": {
        "name": "ipython",
        "version": 3
      },
      "file_extension": ".py",
      "mimetype": "text/x-python",
      "name": "python",
      "nbconvert_exporter": "python",
      "pygments_lexer": "ipython3",
      "version": "3.11.9"
    },
    "colab": {
      "provenance": []
    }
  },
  "nbformat": 4,
  "nbformat_minor": 0
}