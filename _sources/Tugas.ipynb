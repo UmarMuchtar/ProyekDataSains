{
  "cells": [
    {
      "cell_type": "markdown",
      "metadata": {
        "id": "WKkimnk4FhQY"
      },
      "source": [
        "# Prediksi Harga Saham Riot Games Inc."
      ]
    },
    {
      "cell_type": "markdown",
      "metadata": {
        "id": "wmBpBpTfFhQa"
      },
      "source": [
        "## Pendahuluan"
      ]
    },
    {
      "cell_type": "markdown",
      "metadata": {
        "id": "P8xd46euFhQb"
      },
      "source": [
        "### 1. Latar Belakang"
      ]
    },
    {
      "cell_type": "markdown",
      "metadata": {
        "id": "iFjQnt7-FhQb"
      },
      "source": [
        "Riot Games adalah salah satu perusahaan terkemuka di industri permainan video, terkenal dengan judul game seperti League of Legends dan Valorant. Seiring berkembangnya ekosistem e-sports dan industri game global, nilai saham perusahaan yang berfokus pada hiburan digital seperti Riot Games memiliki daya tarik yang kuat bagi para investor. Selain berkecimpung di dunia game, Riot Games juga merambah ke industri hiburan yang lain seperti musik dan film yang kesuksesannya tak kalah dengan industri gamenya. Karena itulah pasar saham Riot Games cukup mendapat perhatian dan menjadi salah satu pilihan dari investor saham. "
      ]
    },
    {
      "cell_type": "markdown",
      "metadata": {
        "id": "ZAzyE5C9FhQb"
      },
      "source": [
        "Visi dari proyek ini adalah membangun program untuk memprediksi saham yang berbasis data historis untuk memberikan informasi yang lebih baik bagi investor dalam mengambil keputusan keuangan. Misinya adalah untuk mengembangkan model prediksi harga saham Riot Games dengan memanfaatkan pendekatan analisis data historis untuk memberikan informasi berharga yang didasarkan pada analisis tren pasar.\n"
      ]
    },
    {
      "cell_type": "markdown",
      "metadata": {
        "id": "2AUpmsS2FhQc"
      },
      "source": [
        "Untuk tujuan bisnis dari proyek ini adalah memaksimalkan keuntungan dan meminimalkan risiko bagi para investor dengan memberikan prediksi harga saham yang akurat dan tepat waktu. Dengan kemampuan untuk memahami pola pasar dan tren harga saham, investor dapat mengambil langkah-langkah strategis dalam perdagangan saham Riot Games. "
      ]
    },
    {
      "cell_type": "markdown",
      "metadata": {},
      "source": [
        "Pada proyek ini memiliki beberapa target bisnis, yaitu:\n",
        "- Menghasilkan prediksi harga saham Riot Games dengan akurasi tinggi dalam berbagai skenario pasar.\n",
        "- Memberikan rekomendasi perdagangan yang membantu investor memaksimalkan keuntungan mereka.\n",
        "- Mengembangkan model prediktif yang dapat diintegrasikan ke dalam platform perdagangan saham."
      ]
    },
    {
      "cell_type": "markdown",
      "metadata": {},
      "source": [
        "Untuk mencapai hal-hal tersebut maka dibutuhkan strategi bisnis. Pada proyek ini akan mengandalkan pemanfaatan teknologi data sains, seperti machine learning dan model prediktif berbasis analisis historis, untuk mengolah data saham Riot Games. Penggunaan algoritma kecerdasan buatan akan membantu mengidentifikasi pola-pola dalam harga saham yang mungkin tidak terlihat dengan metode tradisional. Dengan demikian, strategi ini akan mengintegrasikan analisis teknis dan fundamental untuk menghasilkan prediksi yang lebih baik."
      ]
    },
    {
      "cell_type": "markdown",
      "metadata": {
        "id": "T8bt4kSTFhQc"
      },
      "source": [
        "### 2. Tujuan"
      ]
    },
    {
      "cell_type": "markdown",
      "metadata": {
        "id": "8FOH7_kIFhQc"
      },
      "source": [
        "Proyek ini bertujuan untuk mengembangkan model prediksi harga saham Riot Games menggunakan pendekatan data sains. Dengan memanfaatkan data historis dan analisis pasar, model ini diharapkan mampu memprediksi pergerakan harga saham perusahaan dalam jangka pendek maupun panjang. Tujuan spesifiknya adalah:\n",
        "- Mengidentifikasi faktor-faktor utama yang mempengaruhi harga saham Riot Games.\n",
        "- Membangun model machine learning yang mampu memprediksi harga saham secara akurat.\n",
        "- Mengevaluasi performa model berdasarkan berbagai metrik, seperti mean absolute error (MAE) atau root mean square error (RMSE)."
      ]
    },
    {
      "cell_type": "markdown",
      "metadata": {
        "id": "qNvYySDGFhQc"
      },
      "source": [
        "### 3. Rumusan Masalah"
      ]
    },
    {
      "cell_type": "markdown",
      "metadata": {
        "id": "UEZF3TGiFhQc"
      },
      "source": [
        "Masalah utama yang hendak diselesaikan melalui proyek ini adalah:\n",
        "- Bagaimana memanfaatkan data historis dan tren pasar untuk memprediksi harga saham Riot Games?\n",
        "- Apa faktor-faktor terpenting yang mempengaruhi pergerakan harga saham Riot Games?\n",
        "- Model prediksi machine learning apa yang paling efektif digunakan untuk melakukan prediksi terhadap pasar saham Riot Games?\n",
        "- Seberapa akurat prediksi harga saham yang dihasilkan oleh model yang dikembangkan?"
      ]
    },
    {
      "cell_type": "markdown",
      "metadata": {
        "id": "VlkRMPa7FhQc"
      },
      "source": [
        "## Pembahasan"
      ]
    },
    {
      "cell_type": "markdown",
      "metadata": {
        "id": "fT0e8vSnFhQc"
      },
      "source": [
        "#### 1. Data Understanding"
      ]
    },
    {
      "cell_type": "markdown",
      "metadata": {
        "id": "5syq9T81FhQc"
      },
      "source": [
        "#### Pengumpulan Data"
      ]
    },
    {
      "cell_type": "markdown",
      "metadata": {},
      "source": [
        "Metode yang saya gunakan untuk mendapatkan dataset yang akan digunakan untuk melakukan prediksi adalah dengan melakukan scraping dengan menggunakan _yfinance_. Untuk langkah-langkahnya adalah sebagai berikut:"
      ]
    },
    {
      "cell_type": "markdown",
      "metadata": {},
      "source": [
        "- Instalasi _yfinance_"
      ]
    },
    {
      "cell_type": "code",
      "execution_count": 1,
      "metadata": {},
      "outputs": [
        {
          "name": "stdout",
          "output_type": "stream",
          "text": [
            "Collecting yfinance\n",
            "  Downloading yfinance-0.2.44-py2.py3-none-any.whl.metadata (13 kB)\n",
            "Requirement already satisfied: pandas>=1.3.0 in c:\\users\\lenovo\\appdata\\local\\packages\\pythonsoftwarefoundation.python.3.11_qbz5n2kfra8p0\\localcache\\local-packages\\python311\\site-packages (from yfinance) (2.2.2)\n",
            "Requirement already satisfied: numpy>=1.16.5 in c:\\users\\lenovo\\appdata\\local\\packages\\pythonsoftwarefoundation.python.3.11_qbz5n2kfra8p0\\localcache\\local-packages\\python311\\site-packages (from yfinance) (2.0.0)\n",
            "Requirement already satisfied: requests>=2.31 in c:\\users\\lenovo\\appdata\\local\\packages\\pythonsoftwarefoundation.python.3.11_qbz5n2kfra8p0\\localcache\\local-packages\\python311\\site-packages (from yfinance) (2.31.0)\n",
            "Collecting multitasking>=0.0.7 (from yfinance)\n",
            "  Downloading multitasking-0.0.11-py3-none-any.whl.metadata (5.5 kB)\n",
            "Collecting lxml>=4.9.1 (from yfinance)\n",
            "  Downloading lxml-5.3.0-cp311-cp311-win_amd64.whl.metadata (3.9 kB)\n",
            "Requirement already satisfied: platformdirs>=2.0.0 in c:\\users\\lenovo\\appdata\\local\\packages\\pythonsoftwarefoundation.python.3.11_qbz5n2kfra8p0\\localcache\\local-packages\\python311\\site-packages (from yfinance) (4.2.0)\n",
            "Requirement already satisfied: pytz>=2022.5 in c:\\users\\lenovo\\appdata\\local\\packages\\pythonsoftwarefoundation.python.3.11_qbz5n2kfra8p0\\localcache\\local-packages\\python311\\site-packages (from yfinance) (2024.1)\n",
            "Collecting frozendict>=2.3.4 (from yfinance)\n",
            "  Downloading frozendict-2.4.4-py311-none-any.whl.metadata (23 kB)\n",
            "Collecting peewee>=3.16.2 (from yfinance)\n",
            "  Downloading peewee-3.17.6.tar.gz (3.0 MB)\n",
            "     ---------------------------------------- 0.0/3.0 MB ? eta -:--:--\n",
            "      --------------------------------------- 0.0/3.0 MB 991.0 kB/s eta 0:00:03\n",
            "      --------------------------------------- 0.0/3.0 MB 991.0 kB/s eta 0:00:03\n",
            "      --------------------------------------- 0.0/3.0 MB 991.0 kB/s eta 0:00:03\n",
            "     - -------------------------------------- 0.1/3.0 MB 654.9 kB/s eta 0:00:05\n",
            "     - -------------------------------------- 0.1/3.0 MB 563.7 kB/s eta 0:00:06\n",
            "     -- ------------------------------------- 0.2/3.0 MB 614.4 kB/s eta 0:00:05\n",
            "     -- ------------------------------------- 0.2/3.0 MB 619.5 kB/s eta 0:00:05\n",
            "     -- ------------------------------------- 0.2/3.0 MB 619.5 kB/s eta 0:00:05\n",
            "     -- ------------------------------------- 0.2/3.0 MB 619.5 kB/s eta 0:00:05\n",
            "     -- ------------------------------------- 0.2/3.0 MB 619.5 kB/s eta 0:00:05\n",
            "     -- ------------------------------------- 0.2/3.0 MB 619.5 kB/s eta 0:00:05\n",
            "     -- ------------------------------------- 0.2/3.0 MB 374.4 kB/s eta 0:00:08\n",
            "     --- ------------------------------------ 0.3/3.0 MB 431.7 kB/s eta 0:00:07\n",
            "     --- ------------------------------------ 0.3/3.0 MB 437.2 kB/s eta 0:00:07\n",
            "     ---- ----------------------------------- 0.3/3.0 MB 447.2 kB/s eta 0:00:06\n",
            "     ----- ---------------------------------- 0.4/3.0 MB 527.7 kB/s eta 0:00:05\n",
            "     ----- ---------------------------------- 0.4/3.0 MB 524.5 kB/s eta 0:00:05\n",
            "     ----- ---------------------------------- 0.4/3.0 MB 524.5 kB/s eta 0:00:05\n",
            "     ------ --------------------------------- 0.5/3.0 MB 536.4 kB/s eta 0:00:05\n",
            "     ------ --------------------------------- 0.5/3.0 MB 510.9 kB/s eta 0:00:05\n",
            "     ------ --------------------------------- 0.5/3.0 MB 515.8 kB/s eta 0:00:05\n",
            "     ------- -------------------------------- 0.5/3.0 MB 522.2 kB/s eta 0:00:05\n",
            "     ------- -------------------------------- 0.6/3.0 MB 526.4 kB/s eta 0:00:05\n",
            "     -------- ------------------------------- 0.6/3.0 MB 543.4 kB/s eta 0:00:05\n",
            "     -------- ------------------------------- 0.6/3.0 MB 537.0 kB/s eta 0:00:05\n",
            "     --------- ------------------------------ 0.7/3.0 MB 544.8 kB/s eta 0:00:05\n",
            "     --------- ------------------------------ 0.7/3.0 MB 556.0 kB/s eta 0:00:05\n",
            "     --------- ------------------------------ 0.7/3.0 MB 551.6 kB/s eta 0:00:05\n",
            "     --------- ------------------------------ 0.7/3.0 MB 539.8 kB/s eta 0:00:05\n",
            "     ---------- ----------------------------- 0.7/3.0 MB 542.5 kB/s eta 0:00:05\n",
            "     ---------- ----------------------------- 0.8/3.0 MB 540.1 kB/s eta 0:00:05\n",
            "     ---------- ----------------------------- 0.8/3.0 MB 537.1 kB/s eta 0:00:05\n",
            "     ---------- ----------------------------- 0.8/3.0 MB 537.1 kB/s eta 0:00:05\n",
            "     ---------- ----------------------------- 0.8/3.0 MB 506.2 kB/s eta 0:00:05\n",
            "     ----------- ---------------------------- 0.8/3.0 MB 509.1 kB/s eta 0:00:05\n",
            "     ----------- ---------------------------- 0.9/3.0 MB 513.2 kB/s eta 0:00:05\n",
            "     ----------- ---------------------------- 0.9/3.0 MB 511.1 kB/s eta 0:00:05\n",
            "     ------------ --------------------------- 0.9/3.0 MB 503.2 kB/s eta 0:00:05\n",
            "     ------------ --------------------------- 0.9/3.0 MB 506.0 kB/s eta 0:00:05\n",
            "     ------------- -------------------------- 1.0/3.0 MB 522.3 kB/s eta 0:00:04\n",
            "     ------------- -------------------------- 1.0/3.0 MB 528.8 kB/s eta 0:00:04\n",
            "     -------------- ------------------------- 1.0/3.0 MB 529.6 kB/s eta 0:00:04\n",
            "     -------------- ------------------------- 1.1/3.0 MB 534.8 kB/s eta 0:00:04\n",
            "     -------------- ------------------------- 1.1/3.0 MB 528.5 kB/s eta 0:00:04\n",
            "     -------------- ------------------------- 1.1/3.0 MB 526.4 kB/s eta 0:00:04\n",
            "     -------------- ------------------------- 1.1/3.0 MB 526.4 kB/s eta 0:00:04\n",
            "     --------------- ------------------------ 1.1/3.0 MB 521.6 kB/s eta 0:00:04\n",
            "     --------------- ------------------------ 1.2/3.0 MB 520.6 kB/s eta 0:00:04\n",
            "     ---------------- ----------------------- 1.2/3.0 MB 519.9 kB/s eta 0:00:04\n",
            "     ---------------- ----------------------- 1.2/3.0 MB 531.5 kB/s eta 0:00:04\n",
            "     ----------------- ---------------------- 1.3/3.0 MB 541.0 kB/s eta 0:00:04\n",
            "     ------------------ --------------------- 1.3/3.0 MB 552.7 kB/s eta 0:00:03\n",
            "     ------------------ --------------------- 1.4/3.0 MB 558.9 kB/s eta 0:00:03\n",
            "     ------------------ --------------------- 1.4/3.0 MB 560.6 kB/s eta 0:00:03\n",
            "     ------------------- -------------------- 1.5/3.0 MB 570.5 kB/s eta 0:00:03\n",
            "     -------------------- ------------------- 1.5/3.0 MB 583.9 kB/s eta 0:00:03\n",
            "     --------------------- ------------------ 1.6/3.0 MB 601.2 kB/s eta 0:00:03\n",
            "     ---------------------- ----------------- 1.6/3.0 MB 609.8 kB/s eta 0:00:03\n",
            "     ---------------------- ----------------- 1.7/3.0 MB 621.2 kB/s eta 0:00:03\n",
            "     ----------------------- ---------------- 1.8/3.0 MB 633.3 kB/s eta 0:00:02\n",
            "     ------------------------ --------------- 1.8/3.0 MB 644.6 kB/s eta 0:00:02\n",
            "     ------------------------ --------------- 1.8/3.0 MB 637.6 kB/s eta 0:00:02\n",
            "     ------------------------- -------------- 1.9/3.0 MB 648.2 kB/s eta 0:00:02\n",
            "     -------------------------- ------------- 2.0/3.0 MB 658.9 kB/s eta 0:00:02\n",
            "     ---------------------------- ----------- 2.1/3.0 MB 692.9 kB/s eta 0:00:02\n",
            "     ----------------------------- ---------- 2.2/3.0 MB 712.3 kB/s eta 0:00:02\n",
            "     ------------------------------ --------- 2.2/3.0 MB 725.2 kB/s eta 0:00:01\n",
            "     ------------------------------- -------- 2.3/3.0 MB 737.0 kB/s eta 0:00:01\n",
            "     --------------------------------- ------ 2.4/3.0 MB 757.7 kB/s eta 0:00:01\n",
            "     ---------------------------------- ----- 2.5/3.0 MB 775.8 kB/s eta 0:00:01\n",
            "     ----------------------------------- ---- 2.6/3.0 MB 793.5 kB/s eta 0:00:01\n",
            "     ------------------------------------ --- 2.7/3.0 MB 809.2 kB/s eta 0:00:01\n",
            "     ------------------------------------- -- 2.8/3.0 MB 825.3 kB/s eta 0:00:01\n",
            "     -------------------------------------- - 2.8/3.0 MB 828.9 kB/s eta 0:00:01\n",
            "     ---------------------------------------  2.9/3.0 MB 841.5 kB/s eta 0:00:01\n",
            "     ---------------------------------------  2.9/3.0 MB 839.7 kB/s eta 0:00:01\n",
            "     ---------------------------------------- 3.0/3.0 MB 833.7 kB/s eta 0:00:00\n",
            "  Installing build dependencies: started\n",
            "  Installing build dependencies: finished with status 'done'\n",
            "  Getting requirements to build wheel: started\n",
            "  Getting requirements to build wheel: finished with status 'done'\n",
            "  Preparing metadata (pyproject.toml): started\n",
            "  Preparing metadata (pyproject.toml): finished with status 'done'\n",
            "Requirement already satisfied: beautifulsoup4>=4.11.1 in c:\\users\\lenovo\\appdata\\local\\packages\\pythonsoftwarefoundation.python.3.11_qbz5n2kfra8p0\\localcache\\local-packages\\python311\\site-packages (from yfinance) (4.12.3)\n",
            "Collecting html5lib>=1.1 (from yfinance)\n",
            "  Downloading html5lib-1.1-py2.py3-none-any.whl.metadata (16 kB)\n",
            "Requirement already satisfied: soupsieve>1.2 in c:\\users\\lenovo\\appdata\\local\\packages\\pythonsoftwarefoundation.python.3.11_qbz5n2kfra8p0\\localcache\\local-packages\\python311\\site-packages (from beautifulsoup4>=4.11.1->yfinance) (2.5)\n",
            "Requirement already satisfied: six>=1.9 in c:\\users\\lenovo\\appdata\\local\\packages\\pythonsoftwarefoundation.python.3.11_qbz5n2kfra8p0\\localcache\\local-packages\\python311\\site-packages (from html5lib>=1.1->yfinance) (1.16.0)\n",
            "Collecting webencodings (from html5lib>=1.1->yfinance)\n",
            "  Downloading webencodings-0.5.1-py2.py3-none-any.whl.metadata (2.1 kB)\n",
            "Requirement already satisfied: python-dateutil>=2.8.2 in c:\\users\\lenovo\\appdata\\local\\packages\\pythonsoftwarefoundation.python.3.11_qbz5n2kfra8p0\\localcache\\local-packages\\python311\\site-packages (from pandas>=1.3.0->yfinance) (2.9.0.post0)\n",
            "Requirement already satisfied: tzdata>=2022.7 in c:\\users\\lenovo\\appdata\\local\\packages\\pythonsoftwarefoundation.python.3.11_qbz5n2kfra8p0\\localcache\\local-packages\\python311\\site-packages (from pandas>=1.3.0->yfinance) (2024.1)\n",
            "Requirement already satisfied: charset-normalizer<4,>=2 in c:\\users\\lenovo\\appdata\\local\\packages\\pythonsoftwarefoundation.python.3.11_qbz5n2kfra8p0\\localcache\\local-packages\\python311\\site-packages (from requests>=2.31->yfinance) (3.3.2)\n",
            "Requirement already satisfied: idna<4,>=2.5 in c:\\users\\lenovo\\appdata\\local\\packages\\pythonsoftwarefoundation.python.3.11_qbz5n2kfra8p0\\localcache\\local-packages\\python311\\site-packages (from requests>=2.31->yfinance) (3.6)\n",
            "Requirement already satisfied: urllib3<3,>=1.21.1 in c:\\users\\lenovo\\appdata\\local\\packages\\pythonsoftwarefoundation.python.3.11_qbz5n2kfra8p0\\localcache\\local-packages\\python311\\site-packages (from requests>=2.31->yfinance) (2.2.1)\n",
            "Requirement already satisfied: certifi>=2017.4.17 in c:\\users\\lenovo\\appdata\\local\\packages\\pythonsoftwarefoundation.python.3.11_qbz5n2kfra8p0\\localcache\\local-packages\\python311\\site-packages (from requests>=2.31->yfinance) (2024.2.2)\n",
            "Downloading yfinance-0.2.44-py2.py3-none-any.whl (94 kB)\n",
            "   ---------------------------------------- 0.0/94.6 kB ? eta -:--:--\n",
            "   ------------------------------ --------- 71.7/94.6 kB 1.9 MB/s eta 0:00:01\n",
            "   ------------------------------ --------- 71.7/94.6 kB 1.9 MB/s eta 0:00:01\n",
            "   ------------------------------ --------- 71.7/94.6 kB 1.9 MB/s eta 0:00:01\n",
            "   ------------------------------ --------- 71.7/94.6 kB 1.9 MB/s eta 0:00:01\n",
            "   ------------------------------ --------- 71.7/94.6 kB 1.9 MB/s eta 0:00:01\n",
            "   ---------------------------------------- 94.6/94.6 kB 317.0 kB/s eta 0:00:00\n",
            "Downloading frozendict-2.4.4-py311-none-any.whl (16 kB)\n",
            "Downloading html5lib-1.1-py2.py3-none-any.whl (112 kB)\n",
            "   ---------------------------------------- 0.0/112.2 kB ? eta -:--:--\n",
            "   ---------- ----------------------------- 30.7/112.2 kB 1.4 MB/s eta 0:00:01\n",
            "   ---------- ----------------------------- 30.7/112.2 kB 1.4 MB/s eta 0:00:01\n",
            "   ---------- ----------------------------- 30.7/112.2 kB 1.4 MB/s eta 0:00:01\n",
            "   -------------- ------------------------ 41.0/112.2 kB 219.4 kB/s eta 0:00:01\n",
            "   -------------- ------------------------ 41.0/112.2 kB 219.4 kB/s eta 0:00:01\n",
            "   --------------------- ----------------- 61.4/112.2 kB 218.8 kB/s eta 0:00:01\n",
            "   --------------------- ----------------- 61.4/112.2 kB 218.8 kB/s eta 0:00:01\n",
            "   ------------------------ -------------- 71.7/112.2 kB 171.1 kB/s eta 0:00:01\n",
            "   ---------------------------- ---------- 81.9/112.2 kB 199.7 kB/s eta 0:00:01\n",
            "   ---------------------------- ---------- 81.9/112.2 kB 199.7 kB/s eta 0:00:01\n",
            "   ---------------------------- ---------- 81.9/112.2 kB 199.7 kB/s eta 0:00:01\n",
            "   ---------------------------- ---------- 81.9/112.2 kB 199.7 kB/s eta 0:00:01\n",
            "   ---------------------------- ---------- 81.9/112.2 kB 199.7 kB/s eta 0:00:01\n",
            "   ---------------------------- ---------- 81.9/112.2 kB 199.7 kB/s eta 0:00:01\n",
            "   ---------------------------- ---------- 81.9/112.2 kB 199.7 kB/s eta 0:00:01\n",
            "   ---------------------------- ---------- 81.9/112.2 kB 199.7 kB/s eta 0:00:01\n",
            "   -------------------------------- ------ 92.2/112.2 kB 107.1 kB/s eta 0:00:01\n",
            "   ---------------------------------- --- 102.4/112.2 kB 113.5 kB/s eta 0:00:01\n",
            "   -------------------------------------- 112.2/112.2 kB 120.9 kB/s eta 0:00:00\n",
            "Downloading lxml-5.3.0-cp311-cp311-win_amd64.whl (3.8 MB)\n",
            "   ---------------------------------------- 0.0/3.8 MB ? eta -:--:--\n",
            "   ---------------------------------------- 0.0/3.8 MB ? eta -:--:--\n",
            "   ---------------------------------------- 0.0/3.8 MB ? eta -:--:--\n",
            "   ---------------------------------------- 0.0/3.8 MB ? eta -:--:--\n",
            "   ---------------------------------------- 0.0/3.8 MB ? eta -:--:--\n",
            "   ---------------------------------------- 0.0/3.8 MB ? eta -:--:--\n",
            "   ---------------------------------------- 0.0/3.8 MB ? eta -:--:--\n",
            "   ---------------------------------------- 0.0/3.8 MB ? eta -:--:--\n",
            "   ---------------------------------------- 0.0/3.8 MB ? eta -:--:--\n",
            "   ---------------------------------------- 0.0/3.8 MB ? eta -:--:--\n",
            "   ---------------------------------------- 0.0/3.8 MB ? eta -:--:--\n",
            "   ---------------------------------------- 0.0/3.8 MB ? eta -:--:--\n",
            "   ---------------------------------------- 0.0/3.8 MB ? eta -:--:--\n",
            "   ---------------------------------------- 0.0/3.8 MB ? eta -:--:--\n",
            "   ---------------------------------------- 0.0/3.8 MB ? eta -:--:--\n",
            "   ---------------------------------------- 0.0/3.8 MB ? eta -:--:--\n",
            "   ---------------------------------------- 0.0/3.8 MB ? eta -:--:--\n",
            "   ---------------------------------------- 0.0/3.8 MB ? eta -:--:--\n",
            "   ---------------------------------------- 0.0/3.8 MB ? eta -:--:--\n",
            "   ---------------------------------------- 0.0/3.8 MB ? eta -:--:--\n",
            "   ---------------------------------------- 0.0/3.8 MB ? eta -:--:--\n",
            "   ---------------------------------------- 0.0/3.8 MB ? eta -:--:--\n",
            "   ---------------------------------------- 0.0/3.8 MB ? eta -:--:--\n",
            "   ---------------------------------------- 0.0/3.8 MB ? eta -:--:--\n",
            "   ---------------------------------------- 0.0/3.8 MB 435.7 kB/s eta 0:00:09\n",
            "    --------------------------------------- 0.1/3.8 MB 751.6 kB/s eta 0:00:05\n",
            "   - -------------------------------------- 0.1/3.8 MB 656.4 kB/s eta 0:00:06\n",
            "   - -------------------------------------- 0.1/3.8 MB 654.9 kB/s eta 0:00:06\n",
            "   - -------------------------------------- 0.1/3.8 MB 654.9 kB/s eta 0:00:06\n",
            "   -- ------------------------------------- 0.2/3.8 MB 692.9 kB/s eta 0:00:06\n",
            "   -- ------------------------------------- 0.2/3.8 MB 689.2 kB/s eta 0:00:06\n",
            "   -- ------------------------------------- 0.2/3.8 MB 689.2 kB/s eta 0:00:06\n",
            "   -- ------------------------------------- 0.2/3.8 MB 689.2 kB/s eta 0:00:06\n",
            "   -- ------------------------------------- 0.2/3.8 MB 689.2 kB/s eta 0:00:06\n",
            "   -- ------------------------------------- 0.2/3.8 MB 471.0 kB/s eta 0:00:08\n",
            "   -- ------------------------------------- 0.3/3.8 MB 460.6 kB/s eta 0:00:08\n",
            "   -- ------------------------------------- 0.3/3.8 MB 460.6 kB/s eta 0:00:08\n",
            "   -- ------------------------------------- 0.3/3.8 MB 460.6 kB/s eta 0:00:08\n",
            "   -- ------------------------------------- 0.3/3.8 MB 460.6 kB/s eta 0:00:08\n",
            "   -- ------------------------------------- 0.3/3.8 MB 460.6 kB/s eta 0:00:08\n",
            "   -- ------------------------------------- 0.3/3.8 MB 460.6 kB/s eta 0:00:08\n",
            "   -- ------------------------------------- 0.3/3.8 MB 460.6 kB/s eta 0:00:08\n",
            "   -- ------------------------------------- 0.3/3.8 MB 460.6 kB/s eta 0:00:08\n",
            "   --- ------------------------------------ 0.3/3.8 MB 305.2 kB/s eta 0:00:12\n",
            "   --- ------------------------------------ 0.3/3.8 MB 305.2 kB/s eta 0:00:12\n",
            "   --- ------------------------------------ 0.3/3.8 MB 305.2 kB/s eta 0:00:12\n",
            "   --- ------------------------------------ 0.3/3.8 MB 305.2 kB/s eta 0:00:12\n",
            "   --- ------------------------------------ 0.3/3.8 MB 264.0 kB/s eta 0:00:14\n",
            "   --- ------------------------------------ 0.3/3.8 MB 274.6 kB/s eta 0:00:13\n",
            "   --- ------------------------------------ 0.3/3.8 MB 268.8 kB/s eta 0:00:13\n",
            "   --- ------------------------------------ 0.4/3.8 MB 271.8 kB/s eta 0:00:13\n",
            "   --- ------------------------------------ 0.4/3.8 MB 271.8 kB/s eta 0:00:13\n",
            "   --- ------------------------------------ 0.4/3.8 MB 271.8 kB/s eta 0:00:13\n",
            "   --- ------------------------------------ 0.4/3.8 MB 271.8 kB/s eta 0:00:13\n",
            "   --- ------------------------------------ 0.4/3.8 MB 252.0 kB/s eta 0:00:14\n",
            "   ----- ---------------------------------- 0.5/3.8 MB 327.7 kB/s eta 0:00:11\n",
            "   ----- ---------------------------------- 0.5/3.8 MB 337.7 kB/s eta 0:00:10\n",
            "   ----- ---------------------------------- 0.5/3.8 MB 337.7 kB/s eta 0:00:10\n",
            "   ----- ---------------------------------- 0.5/3.8 MB 337.7 kB/s eta 0:00:10\n",
            "   ----- ---------------------------------- 0.5/3.8 MB 337.7 kB/s eta 0:00:10\n",
            "   ----- ---------------------------------- 0.6/3.8 MB 313.0 kB/s eta 0:00:11\n",
            "   ----- ---------------------------------- 0.6/3.8 MB 313.0 kB/s eta 0:00:11\n",
            "   ------ --------------------------------- 0.6/3.8 MB 313.4 kB/s eta 0:00:11\n",
            "   ------ --------------------------------- 0.6/3.8 MB 308.5 kB/s eta 0:00:11\n",
            "   ------ --------------------------------- 0.6/3.8 MB 308.5 kB/s eta 0:00:11\n",
            "   ------ --------------------------------- 0.6/3.8 MB 301.6 kB/s eta 0:00:11\n",
            "   ------- -------------------------------- 0.7/3.8 MB 335.2 kB/s eta 0:00:10\n",
            "   ------- -------------------------------- 0.7/3.8 MB 347.9 kB/s eta 0:00:09\n",
            "   -------- ------------------------------- 0.8/3.8 MB 364.2 kB/s eta 0:00:09\n",
            "   -------- ------------------------------- 0.8/3.8 MB 380.0 kB/s eta 0:00:08\n",
            "   --------- ------------------------------ 0.9/3.8 MB 404.4 kB/s eta 0:00:08\n",
            "   ---------- ----------------------------- 1.0/3.8 MB 440.0 kB/s eta 0:00:07\n",
            "   ----------- ---------------------------- 1.1/3.8 MB 466.9 kB/s eta 0:00:06\n",
            "   ------------ --------------------------- 1.2/3.8 MB 489.3 kB/s eta 0:00:06\n",
            "   ------------ --------------------------- 1.2/3.8 MB 509.6 kB/s eta 0:00:06\n",
            "   ------------- -------------------------- 1.3/3.8 MB 533.6 kB/s eta 0:00:05\n",
            "   -------------- ------------------------- 1.4/3.8 MB 540.0 kB/s eta 0:00:05\n",
            "   -------------- ------------------------- 1.4/3.8 MB 558.3 kB/s eta 0:00:05\n",
            "   --------------- ------------------------ 1.5/3.8 MB 572.0 kB/s eta 0:00:05\n",
            "   --------------- ------------------------ 1.5/3.8 MB 580.3 kB/s eta 0:00:04\n",
            "   ---------------- ----------------------- 1.6/3.8 MB 585.5 kB/s eta 0:00:04\n",
            "   ---------------- ----------------------- 1.6/3.8 MB 586.9 kB/s eta 0:00:04\n",
            "   ----------------- ---------------------- 1.6/3.8 MB 592.1 kB/s eta 0:00:04\n",
            "   ----------------- ---------------------- 1.7/3.8 MB 593.1 kB/s eta 0:00:04\n",
            "   ------------------ --------------------- 1.7/3.8 MB 604.7 kB/s eta 0:00:04\n",
            "   ------------------- -------------------- 1.8/3.8 MB 623.4 kB/s eta 0:00:04\n",
            "   ------------------- -------------------- 1.8/3.8 MB 624.1 kB/s eta 0:00:04\n",
            "   ------------------- -------------------- 1.9/3.8 MB 631.2 kB/s eta 0:00:04\n",
            "   ------------------- -------------------- 1.9/3.8 MB 631.2 kB/s eta 0:00:04\n",
            "   ------------------- -------------------- 1.9/3.8 MB 631.2 kB/s eta 0:00:04\n",
            "   ------------------- -------------------- 1.9/3.8 MB 602.9 kB/s eta 0:00:04\n",
            "   ------------------- -------------------- 1.9/3.8 MB 602.9 kB/s eta 0:00:04\n",
            "   -------------------- ------------------- 1.9/3.8 MB 597.6 kB/s eta 0:00:04\n",
            "   -------------------- ------------------- 1.9/3.8 MB 597.6 kB/s eta 0:00:04\n",
            "   -------------------- ------------------- 1.9/3.8 MB 597.6 kB/s eta 0:00:04\n",
            "   -------------------- ------------------- 2.0/3.8 MB 582.3 kB/s eta 0:00:04\n",
            "   -------------------- ------------------- 2.0/3.8 MB 577.2 kB/s eta 0:00:04\n",
            "   --------------------- ------------------ 2.0/3.8 MB 581.0 kB/s eta 0:00:04\n",
            "   --------------------- ------------------ 2.0/3.8 MB 581.0 kB/s eta 0:00:04\n",
            "   --------------------- ------------------ 2.0/3.8 MB 573.7 kB/s eta 0:00:04\n",
            "   --------------------- ------------------ 2.0/3.8 MB 572.1 kB/s eta 0:00:04\n",
            "   --------------------- ------------------ 2.1/3.8 MB 567.5 kB/s eta 0:00:04\n",
            "   --------------------- ------------------ 2.1/3.8 MB 567.5 kB/s eta 0:00:04\n",
            "   --------------------- ------------------ 2.1/3.8 MB 567.5 kB/s eta 0:00:04\n",
            "   --------------------- ------------------ 2.1/3.8 MB 549.3 kB/s eta 0:00:04\n",
            "   --------------------- ------------------ 2.1/3.8 MB 543.0 kB/s eta 0:00:04\n",
            "   ---------------------- ----------------- 2.1/3.8 MB 549.3 kB/s eta 0:00:04\n",
            "   ---------------------- ----------------- 2.2/3.8 MB 552.7 kB/s eta 0:00:03\n",
            "   ---------------------- ----------------- 2.2/3.8 MB 551.8 kB/s eta 0:00:03\n",
            "   ----------------------- ---------------- 2.3/3.8 MB 561.0 kB/s eta 0:00:03\n",
            "   ------------------------ --------------- 2.3/3.8 MB 566.5 kB/s eta 0:00:03\n",
            "   ------------------------ --------------- 2.3/3.8 MB 572.5 kB/s eta 0:00:03\n",
            "   ------------------------ --------------- 2.4/3.8 MB 570.7 kB/s eta 0:00:03\n",
            "   ------------------------ --------------- 2.4/3.8 MB 570.7 kB/s eta 0:00:03\n",
            "   ------------------------ --------------- 2.4/3.8 MB 570.7 kB/s eta 0:00:03\n",
            "   ------------------------ --------------- 2.4/3.8 MB 556.6 kB/s eta 0:00:03\n",
            "   ------------------------ --------------- 2.4/3.8 MB 556.6 kB/s eta 0:00:03\n",
            "   ------------------------- -------------- 2.4/3.8 MB 556.3 kB/s eta 0:00:03\n",
            "   ------------------------- -------------- 2.4/3.8 MB 548.8 kB/s eta 0:00:03\n",
            "   ------------------------- -------------- 2.5/3.8 MB 549.9 kB/s eta 0:00:03\n",
            "   -------------------------- ------------- 2.5/3.8 MB 555.2 kB/s eta 0:00:03\n",
            "   -------------------------- ------------- 2.5/3.8 MB 556.7 kB/s eta 0:00:03\n",
            "   --------------------------- ------------ 2.6/3.8 MB 559.9 kB/s eta 0:00:03\n",
            "   --------------------------- ------------ 2.7/3.8 MB 567.4 kB/s eta 0:00:03\n",
            "   ---------------------------- ----------- 2.7/3.8 MB 570.2 kB/s eta 0:00:02\n",
            "   ---------------------------- ----------- 2.7/3.8 MB 573.4 kB/s eta 0:00:02\n",
            "   ---------------------------- ----------- 2.8/3.8 MB 574.0 kB/s eta 0:00:02\n",
            "   ----------------------------- ---------- 2.8/3.8 MB 579.2 kB/s eta 0:00:02\n",
            "   ------------------------------ --------- 2.9/3.8 MB 588.1 kB/s eta 0:00:02\n",
            "   ------------------------------ --------- 2.9/3.8 MB 588.6 kB/s eta 0:00:02\n",
            "   ------------------------------ --------- 2.9/3.8 MB 589.7 kB/s eta 0:00:02\n",
            "   ------------------------------- -------- 3.0/3.8 MB 596.1 kB/s eta 0:00:02\n",
            "   ------------------------------- -------- 3.0/3.8 MB 594.5 kB/s eta 0:00:02\n",
            "   -------------------------------- ------- 3.1/3.8 MB 601.3 kB/s eta 0:00:02\n",
            "   -------------------------------- ------- 3.1/3.8 MB 603.8 kB/s eta 0:00:02\n",
            "   --------------------------------- ------ 3.2/3.8 MB 612.2 kB/s eta 0:00:01\n",
            "   --------------------------------- ------ 3.2/3.8 MB 616.3 kB/s eta 0:00:01\n",
            "   ----------------------------------- ---- 3.3/3.8 MB 628.3 kB/s eta 0:00:01\n",
            "   ----------------------------------- ---- 3.4/3.8 MB 628.5 kB/s eta 0:00:01\n",
            "   ----------------------------------- ---- 3.4/3.8 MB 628.5 kB/s eta 0:00:01\n",
            "   ----------------------------------- ---- 3.4/3.8 MB 628.5 kB/s eta 0:00:01\n",
            "   ----------------------------------- ---- 3.4/3.8 MB 614.1 kB/s eta 0:00:01\n",
            "   ----------------------------------- ---- 3.4/3.8 MB 614.1 kB/s eta 0:00:01\n",
            "   ----------------------------------- ---- 3.4/3.8 MB 614.1 kB/s eta 0:00:01\n",
            "   ----------------------------------- ---- 3.4/3.8 MB 600.7 kB/s eta 0:00:01\n",
            "   ----------------------------------- ---- 3.4/3.8 MB 600.7 kB/s eta 0:00:01\n",
            "   ----------------------------------- ---- 3.4/3.8 MB 594.3 kB/s eta 0:00:01\n",
            "   ----------------------------------- ---- 3.4/3.8 MB 594.3 kB/s eta 0:00:01\n",
            "   ----------------------------------- ---- 3.4/3.8 MB 594.3 kB/s eta 0:00:01\n",
            "   ----------------------------------- ---- 3.4/3.8 MB 583.5 kB/s eta 0:00:01\n",
            "   ----------------------------------- ---- 3.4/3.8 MB 583.5 kB/s eta 0:00:01\n",
            "   ------------------------------------ --- 3.4/3.8 MB 577.8 kB/s eta 0:00:01\n",
            "   ------------------------------------ --- 3.4/3.8 MB 577.8 kB/s eta 0:00:01\n",
            "   ------------------------------------ --- 3.5/3.8 MB 575.3 kB/s eta 0:00:01\n",
            "   ------------------------------------ --- 3.5/3.8 MB 569.6 kB/s eta 0:00:01\n",
            "   ------------------------------------ --- 3.5/3.8 MB 569.6 kB/s eta 0:00:01\n",
            "   ------------------------------------ --- 3.5/3.8 MB 569.6 kB/s eta 0:00:01\n",
            "   ------------------------------------- -- 3.6/3.8 MB 568.3 kB/s eta 0:00:01\n",
            "   ------------------------------------- -- 3.6/3.8 MB 567.1 kB/s eta 0:00:01\n",
            "   ------------------------------------- -- 3.6/3.8 MB 566.2 kB/s eta 0:00:01\n",
            "   ------------------------------------- -- 3.6/3.8 MB 563.8 kB/s eta 0:00:01\n",
            "   -------------------------------------- - 3.6/3.8 MB 565.9 kB/s eta 0:00:01\n",
            "   -------------------------------------- - 3.7/3.8 MB 568.3 kB/s eta 0:00:01\n",
            "   -------------------------------------- - 3.7/3.8 MB 568.3 kB/s eta 0:00:01\n",
            "   -------------------------------------- - 3.7/3.8 MB 568.3 kB/s eta 0:00:01\n",
            "   -------------------------------------- - 3.7/3.8 MB 568.3 kB/s eta 0:00:01\n",
            "   ---------------------------------------  3.7/3.8 MB 559.7 kB/s eta 0:00:01\n",
            "   ---------------------------------------  3.7/3.8 MB 557.6 kB/s eta 0:00:01\n",
            "   ---------------------------------------  3.8/3.8 MB 556.8 kB/s eta 0:00:01\n",
            "   ---------------------------------------  3.8/3.8 MB 556.8 kB/s eta 0:00:01\n",
            "   ---------------------------------------  3.8/3.8 MB 553.2 kB/s eta 0:00:01\n",
            "   ---------------------------------------- 3.8/3.8 MB 552.1 kB/s eta 0:00:00\n",
            "Downloading multitasking-0.0.11-py3-none-any.whl (8.5 kB)\n",
            "Downloading webencodings-0.5.1-py2.py3-none-any.whl (11 kB)\n",
            "Building wheels for collected packages: peewee\n",
            "  Building wheel for peewee (pyproject.toml): started\n",
            "  Building wheel for peewee (pyproject.toml): finished with status 'done'\n",
            "  Created wheel for peewee: filename=peewee-3.17.6-py3-none-any.whl size=138939 sha256=72bc9b1dcd9cc649d299f3992407c7e50eb09f1ddaf2e861862ac8bb8884d977\n",
            "  Stored in directory: c:\\users\\lenovo\\appdata\\local\\packages\\pythonsoftwarefoundation.python.3.11_qbz5n2kfra8p0\\localcache\\local\\pip\\cache\\wheels\\1c\\09\\7e\\9f659fde248ecdc1722a142c1d744271aad3914a0afc191058\n",
            "Successfully built peewee\n",
            "Installing collected packages: webencodings, peewee, multitasking, lxml, html5lib, frozendict, yfinance\n",
            "Successfully installed frozendict-2.4.4 html5lib-1.1 lxml-5.3.0 multitasking-0.0.11 peewee-3.17.6 webencodings-0.5.1 yfinance-0.2.44\n"
          ]
        },
        {
          "name": "stderr",
          "output_type": "stream",
          "text": [
            "\n",
            "[notice] A new release of pip is available: 24.1 -> 24.2\n",
            "[notice] To update, run: C:\\Users\\Lenovo\\AppData\\Local\\Microsoft\\WindowsApps\\PythonSoftwareFoundation.Python.3.11_qbz5n2kfra8p0\\python.exe -m pip install --upgrade pip\n"
          ]
        }
      ],
      "source": [
        "%pip install yfinance"
      ]
    },
    {
      "cell_type": "markdown",
      "metadata": {},
      "source": [
        "- Import _yfinance_ dan _pandas_"
      ]
    },
    {
      "cell_type": "code",
      "execution_count": 3,
      "metadata": {},
      "outputs": [
        {
          "name": "stderr",
          "output_type": "stream",
          "text": [
            "[*********************100%***********************]  1 of 1 completed"
          ]
        },
        {
          "name": "stdout",
          "output_type": "stream",
          "text": [
            "            Open  High   Low  Close  Adj Close   Volume\n",
            "Date                                                   \n",
            "2020-01-02  1.14  1.23  1.13   1.22       1.22   915700\n",
            "2020-01-03  1.22  1.22  1.14   1.18       1.18   467200\n",
            "2020-01-06  1.23  1.30  1.20   1.30       1.30   981200\n",
            "2020-01-07  1.39  1.50  1.33   1.49       1.49  3313600\n",
            "2020-01-08  1.54  1.54  1.29   1.37       1.37  1792300\n"
          ]
        },
        {
          "name": "stderr",
          "output_type": "stream",
          "text": [
            "\n"
          ]
        }
      ],
      "source": [
        "import yfinance as yf \n",
        "import pandas as pd \n",
        "\n",
        "# Mengunduh data saham RIOT\n",
        "ticker = 'RIOT'\n",
        "\n",
        "# Mengambil data historis saham (yyyy-mm-dd)\n",
        "data = yf.download(ticker, start='2020-01-01', end='2023-12-31')\n",
        "\n",
        "# Menyimpan data ke file CSV\n",
        "data.to_csv('RiotStock.csv')\n",
        "\n",
        "# Menampilkan 5 baris pertama dari data\n",
        "print(data.head())"
      ]
    },
    {
      "cell_type": "markdown",
      "metadata": {
        "id": "Rt5qHaekFhQe"
      },
      "source": [
        "#### Deskripsi Dataset"
      ]
    },
    {
      "cell_type": "markdown",
      "metadata": {},
      "source": [
        "Pada proyek ini saya dataset yang digunakan adalah data yang didapat dari web _yahoo finance_. Dataset ini berisi data historis saham Riot Games Inc. Dataset ini berisikan fitur fitur yang nantinya akan digunakan untuk melakukan prediksi.  "
      ]
    },
    {
      "cell_type": "markdown",
      "metadata": {
        "id": "VfHub5a6FhQe"
      },
      "source": [
        "#### Deskripsi Fitur"
      ]
    },
    {
      "cell_type": "markdown",
      "metadata": {},
      "source": [
        "- Date = Berisi tanggal data saham yang dicatat. Tipe data yang digunakan adalah kategorikal.\n",
        "- Open = Berisi harga pembukaan saham ketika saham mulai diperdagangkan di pasar saham. Tipe data yang digunakan adalah numerik.\n",
        "- High = Berisi harga tertinggi saham yang dicapai pada hari tersebut. Tipe data yang digunakan adalah numerik.\n",
        "- Low = Berisi harga terendah saham yang dicapai pada hari tersebut. Tipe data yang digunakan adalah numerik.\n",
        "- Close = Berisi harga penutupan saham ketika saham terakhir kali diperdagangkan di pasar saham. Tipe data yang digunakan adalah numerik.\n",
        "- Adj Close = Berisi harga penutupan saham yang disesuaikan. Tipe data yang digunakan adalah numerik.\n",
        "- Volume = Berisi jumlah total saham yang diperdagangkan pada hari tersebut. Tipe data yang digunakan adalah numerik."
      ]
    },
    {
      "cell_type": "markdown",
      "metadata": {
        "id": "bHDn23b8FhQe"
      },
      "source": [
        "### 2. Data Preprocessing"
      ]
    },
    {
      "cell_type": "markdown",
      "metadata": {},
      "source": [
        "Pada bagian ini dataset akan diproses sebelum digunakan untuk membangun model. Dataset akan melalui data cleaning, pendeteksian outlier, dan pendeteksian missing value."
      ]
    },
    {
      "cell_type": "markdown",
      "metadata": {
        "id": "pg8xSuCSFhQf"
      },
      "source": [
        "#### Data Cleaning"
      ]
    },
    {
      "cell_type": "markdown",
      "metadata": {},
      "source": [
        "Pada proses ini dataset akan dibersihkan. Makna pembersihan pada proses ini adalah membuang fitur yang tidak digunakan dalam pembangunan model. Langkah yang dilakukan pertama kali adalah menentukan fitur mana saja yang akan dibersihkan dari sebuah dataset."
      ]
    },
    {
      "cell_type": "markdown",
      "metadata": {},
      "source": [
        "Salah satu cara untuk mengetahui fitur mana yang sebaiknya dibersihkan dari sebuah dataset adalah dengan menghitung korelasi antar fitur. Beberapa fitur memiliki nilai yang saling berhubungan, jika terdapat fitur yang memiliki nilai yang saling berhubungan maka salah satunya dapat dihapus."
      ]
    },
    {
      "cell_type": "code",
      "execution_count": 2,
      "metadata": {},
      "outputs": [
        {
          "name": "stdout",
          "output_type": "stream",
          "text": [
            "Cramer's V: 0.9999999999999999\n"
          ]
        }
      ],
      "source": [
        "import pandas as pd\n",
        "import numpy as np\n",
        "from scipy.stats import chi2_contingency\n",
        "\n",
        "# Baca data\n",
        "data = pd.read_csv('RiotStock.csv')\n",
        "\n",
        "# Buat tabel kontingensi\n",
        "contingency_table = pd.crosstab(data['Adj Close'], data['Close'])\n",
        "\n",
        "# Hitung Chi-Square statistic dan p-value\n",
        "chi2, p, dof, expected = chi2_contingency(contingency_table)\n",
        "\n",
        "# Hitung Cramer's V\n",
        "n = contingency_table.sum().sum()\n",
        "min_dim = min(contingency_table.shape)-1\n",
        "cramer_v = np.sqrt(chi2 / (n * min_dim))\n",
        "\n",
        "# Cetak hasil\n",
        "print(f\"Cramer's V: {cramer_v}\")"
      ]
    },
    {
      "cell_type": "markdown",
      "metadata": {},
      "source": [
        "Ketika telah menentukan fitur mana saja yang akan dibersihkan, langkah selanjutnya adalah melakukan drop terhadap fitur-fitur tersebut."
      ]
    },
    {
      "cell_type": "code",
      "execution_count": 9,
      "metadata": {},
      "outputs": [],
      "source": [
        "# Menghapus kolom  fitur yang tidak diperlukan\n",
        "df = df.drop(columns=['Open', 'High', 'Low', 'Adj Close', 'Volume'])\n",
        "df.to_csv('RiotStock_cleaned.csv')"
      ]
    },
    {
      "cell_type": "markdown",
      "metadata": {
        "id": "P5Mw7SJoFhQf"
      },
      "source": [
        "#### Pendeteksian Outlier"
      ]
    },
    {
      "cell_type": "markdown",
      "metadata": {},
      "source": [
        "Pada proses ini dataset akan dicek outlier-nya. Outlier sendiri adalah nilai yang aneh(yang paling jauh dari nilai rata-rata)."
      ]
    },
    {
      "cell_type": "code",
      "execution_count": 12,
      "metadata": {},
      "outputs": [
        {
          "name": "stdout",
          "output_type": "stream",
          "text": [
            "Jumlah outlier yang terdeteksi menggunakan Z-Score: 16\n",
            "                Close\n",
            "Date                 \n",
            "2021-02-16  59.500000\n",
            "2021-02-17  77.900002\n",
            "2021-02-18  62.029999\n",
            "2021-02-19  71.330002\n",
            "2021-02-22  64.760002\n",
            "2021-03-10  56.500000\n",
            "2021-03-11  63.310001\n",
            "2021-03-12  62.810001\n",
            "2021-03-15  63.430000\n",
            "2021-03-16  56.980000\n",
            "2021-03-17  64.739998\n",
            "2021-03-18  60.189999\n",
            "2021-03-19  60.650002\n",
            "2021-03-22  56.009998\n",
            "2021-04-05  56.900002\n",
            "2021-04-13  59.259998\n"
          ]
        },
        {
          "data": {
            "image/png": "[encoded data removed]",
            "text/plain": [
              "<Figure size 1000x600 with 1 Axes>"
            ]
          },
          "metadata": {},
          "output_type": "display_data"
        }
      ],
      "source": [
        "import pandas as pd\n",
        "import numpy as np\n",
        "from scipy import stats\n",
        "import matplotlib.pyplot as plt\n",
        "\n",
        "# Load Dataset\n",
        "df = pd.read_csv('RiotStock_cleaned.csv', parse_dates=['Date'], index_col='Date')\n",
        "\n",
        "# Menghitung Z-Score untuk kolom 'Close'\n",
        "z_scores = np.abs(stats.zscore(df['Close']))\n",
        "\n",
        "# Menentukan threshold Z-Score\n",
        "threshold = 3\n",
        "\n",
        "# Deteksi outlier (Z-Score > 3)\n",
        "outliers_zscore = df[z_scores > threshold]\n",
        "\n",
        "# Menampilkan jumlah outlier dan data outlier\n",
        "print(f'Jumlah outlier yang terdeteksi menggunakan Z-Score: {len(outliers_zscore)}')\n",
        "print(outliers_zscore)\n",
        "\n",
        "# Menghapus outlier dari dataset\n",
        "df_cleaned = df[z_scores <= threshold]\n",
        "\n",
        "# Menyimpan dataset yang sudah dibersihkan ke dalam CSV\n",
        "df_cleaned.to_csv('RiotStock_outliercleaned.csv')\n",
        "\n",
        "# Visualisasi data dan outlier\n",
        "plt.figure(figsize=(10,6))\n",
        "plt.plot(df.index, df['Close'], label='Harga Penutupan')\n",
        "plt.scatter(outliers_zscore.index, outliers_zscore['Close'], color='red', label='Outlier (Z-Score)', marker='o')\n",
        "plt.title('Deteksi Outlier Menggunakan Z-Score')\n",
        "plt.xlabel('Tanggal')\n",
        "plt.ylabel('Harga Penutupan')\n",
        "plt.legend()\n",
        "plt.show()"
      ]
    },
    {
      "cell_type": "markdown",
      "metadata": {
        "id": "uQ0c2RnjFhQg"
      },
      "source": [
        "#### Pendeteksian Missing Value"
      ]
    },
    {
      "cell_type": "markdown",
      "metadata": {},
      "source": [
        "Pada proses ini dataset akan dicek apakah memiliki missing value atau tidak. Missing value sendiri adalah nilai yang hilang, nilai yang tidak diisi karena beragam alasan."
      ]
    },
    {
      "cell_type": "code",
      "execution_count": 18,
      "metadata": {},
      "outputs": [
        {
          "name": "stdout",
          "output_type": "stream",
          "text": [
            "Fitur dengan missing value:\n",
            "Empty DataFrame\n",
            "Columns: [Date, Open, High, Low, Close, Adj Close, Volume]\n",
            "Index: []\n",
            "Missing value yang terdeteksi:\n",
            "Date         0\n",
            "Open         0\n",
            "High         0\n",
            "Low          0\n",
            "Close        0\n",
            "Adj Close    0\n",
            "Volume       0\n",
            "dtype: int64\n"
          ]
        }
      ],
      "source": [
        "import pandas as pd\n",
        "df = pd.read_csv('RiotStock.csv')\n",
        "\n",
        "# deteksi kolom yang memiliki missing value\n",
        "rows_with_missing = df[df.isnull().any(axis=1)]\n",
        "\n",
        "# Tampilkan baris dengan nilai yang hilang beserta ID, fitur, dan labelnya\n",
        "print(\"Fitur dengan missing value:\")\n",
        "print(rows_with_missing)\n",
        "\n",
        "# mendeteksi missing value\n",
        "missing_values = df.isnull()\n",
        "# Hitung nilai yang hilang di setiap kolom\n",
        "missing_counts = missing_values.sum()\n",
        "\n",
        "# display missing value\n",
        "print(\"Missing value yang terdeteksi:\")\n",
        "print(missing_counts)"
      ]
    },
    {
      "cell_type": "markdown",
      "metadata": {},
      "source": [
        "Tidak ditemukan missing value pada dataset."
      ]
    },
    {
      "cell_type": "markdown",
      "metadata": {},
      "source": [
        "Karena dataset telah dibersihkan dari fitur yang tidak diperlukan, outlier, dan missing value, maka dataset siap untuk digunakan untuk melatih model."
      ]
    },
    {
      "cell_type": "markdown",
      "metadata": {
        "id": "AT0Pm3ILFhQh"
      },
      "source": [
        "### 3. Modeling"
      ]
    },
    {
      "cell_type": "markdown",
      "metadata": {
        "id": "o1_qEwpbFhQh"
      },
      "source": [
        "#### Menentukan Teknik Model"
      ]
    },
    {
      "cell_type": "markdown",
      "metadata": {
        "id": "0TBVjSNqFhQh"
      },
      "source": [
        "#### Membangun Model"
      ]
    },
    {
      "cell_type": "markdown",
      "metadata": {
        "id": "QUZPq8spFhQh"
      },
      "source": [
        "### 4. Evaluasi"
      ]
    },
    {
      "cell_type": "markdown",
      "metadata": {
        "id": "7g2tSWMNFhQh"
      },
      "source": [
        "### 5. Deployment"
      ]
    }
  ],
  "metadata": {
    "colab": {
      "provenance": []
    },
    "kernelspec": {
      "display_name": "Python 3",
      "language": "python",
      "name": "python3"
    },
    "language_info": {
      "codemirror_mode": {
        "name": "ipython",
        "version": 3
      },
      "file_extension": ".py",
      "mimetype": "text/x-python",
      "name": "python",
      "nbconvert_exporter": "python",
      "pygments_lexer": "ipython3",
      "version": "3.11.9"
    }
  },
  "nbformat": 4,
  "nbformat_minor": 0
}
