{
 "cells": [
  {
   "cell_type": "markdown",
   "metadata": {
    "id": "mrVdRFc6rgI7"
   },
   "source": [
    "# Prediksi Produksi Kopi di Indonesia"
   ]
  },
  {
   "cell_type": "markdown",
   "metadata": {
    "id": "M9V-675FrjOb"
   },
   "source": [
    "## Pendahuluan"
   ]
  },
  {
   "cell_type": "markdown",
   "metadata": {
    "id": "A6yYIBaSWHrI"
   },
   "source": [
    "### Latar Belakang"
   ]
  },
  {
   "cell_type": "markdown",
   "metadata": {
    "id": "v1qxzByFXL3u"
   },
   "source": [
    "Indonesia dikenal sebagai salah satu negara penghasil kopi terbesar di dunia, dengan berbagai jenis kopi yang memiliki ciri khas tersendiri. Kopi Indonesia, terutama jenis Arabika dan Robusta, diekspor ke berbagai penjuru dunia dan menjadi komoditas penting bagi perekonomian negara. Namun, hasil produksi kopi Indonesia tiap tahunnya berubah-ubah sehingga mempengaruhi kemampuan ekspor kopi Indonesia dan juga mempengaruhi kemampuan memenuhi permintaan pasar lokal."
   ]
  },
  {
   "cell_type": "markdown",
   "metadata": {
    "id": "joG7WTf0XQQi"
   },
   "source": [
    "Dengan masalah yang ditimbulkan oleh jumlah produksi kopi yang berubah-ubah, prediksi jumlah produksi kopi menjadi sangat penting bagi perencanaan dan kebijakan di sektor pertanian, distribusi, serta perdagangan internasional. Memprediksi jumlah produksi kopi yang akurat dapat membantu pengambilan keputusan strategis di berbagai level, baik untuk pemerintah, produsen, maupun konsumen kopi."
   ]
  },
  {
   "cell_type": "markdown",
   "metadata": {
    "id": "Vm40eTP5aZJI"
   },
   "source": [
    "### Rumusan Masalah"
   ]
  },
  {
   "cell_type": "markdown",
   "metadata": {
    "id": "IUQ1X2Irabgz"
   },
   "source": [
    "- Bagaimana tren jumlah produksi kopi di Indonesia dalam beberapa tahun terakhir?\n",
    "- Bagaimana metode prediksi yang tepat untuk memperkirakan jumlah produksi kopi di Indonesia di masa depan?\n",
    "- Bagaimana akurasi model prediksi yang digunakan dalam memperkirakan jumlah produksi kopi di Indonesia?"
   ]
  },
  {
   "cell_type": "markdown",
   "metadata": {
    "id": "Ma-SfdW-ZU47"
   },
   "source": [
    "### Tujuan"
   ]
  },
  {
   "cell_type": "markdown",
   "metadata": {
    "id": "dS5ohyTaZWih"
   },
   "source": [
    "Tujuan dari proyek ini adalah membuat model yang mampu memprediksi jumlah produksi kopi di Indonesia dengan memanfaatkan pola data jumlah produksi kopi di Indonesia pada tahun-tahun sebelumnya. Selain itu, proyek ini bertujuan untuk memberikan wawasan untuk orang-orang yang memiliki kepentingan pada bidang ini."
   ]
  },
  {
   "cell_type": "markdown",
   "metadata": {
    "id": "btWM0F6HWBv-"
   },
   "source": [
    "### Bussiness Understanding"
   ]
  },
  {
   "cell_type": "markdown",
   "metadata": {
    "id": "glE9NXkcsAjQ"
   },
   "source": [
    "Proyek Prediksi ini dibuat dengan tujuan untuk memprediksi jumlah produksi kopi di Indonesia di tahun berikutnya. Sehingga dengan adanya prediksi produksi kopi, orang yang berkepentingan di industri kopi Indonesia bisa membuat keputusan dengan mudah seperti menentukan harga jual, menentukan jumlah distribusi kopi, dan lain lain."
   ]
  },
  {
   "cell_type": "markdown",
   "metadata": {
    "id": "JoUmm8AFrsO7"
   },
   "source": [
    "##Data Understanding"
   ]
  },
  {
   "cell_type": "markdown",
   "metadata": {
    "id": "iBJqBJPURJaZ"
   },
   "source": [
    "###Deskripsi Dataset"
   ]
  },
  {
   "cell_type": "markdown",
   "metadata": {
    "id": "LY7WCQ_dsGGr"
   },
   "source": [
    "Dataset yang digunakan adalah data produksi kopi di Indonesia. Data produksi yang diambil merupakan data musiman (dicatat dalam format tahunan) dari tahun 1990/91 hingga tahun 2019/20. Pencatatan 1990/91 menunjukkan bahwa masa penanaman kopi dilakukan pada tahun 1990 dan dipanen pada tahun 1991. Meskipun masa panen kopi berkisar antara 4 sampai 5 bulan, pencatatan tetap dilakukan dengan format tersebut karena pada siklus produksi kopi ada beberapa proses yang dilakukan seperti penanaman, pemeliharaan, dan pemrosesan yang berlangsung sepanjang tahun."
   ]
  },
  {
   "cell_type": "markdown",
   "metadata": {
    "id": "CbMTNzt_x88E"
   },
   "source": [
    "### Data Preparation"
   ]
  },
  {
   "cell_type": "markdown",
   "metadata": {
    "id": "dFdHCUhiyBCf"
   },
   "source": [
    "Dataset yang saya gunakan merupakan data yang didapatkan dari ICO (International Coffee Organization) yang dibagikan Michal Sikora di Kaggle."
   ]
  },
  {
   "cell_type": "code",
   "execution_count": null,
   "metadata": {
    "colab": {
     "base_uri": "https://localhost:8080/",
     "height": 290
    },
    "id": "DFI-YFeKMhmz",
    "outputId": "f950f0c4-8051-495e-80ad-811beba1aebe"
   },
   "outputs": [
    {
     "data": {
      "application/vnd.google.colaboratory.intrinsic+json": {
       "type": "dataframe",
       "variable_name": "data"
      },
      "text/html": [
       "\n",
       "  <div id=\"df-817ab060-bdfb-4279-b0c5-a343d6e4cd9d\" class=\"colab-df-container\">\n",
       "    <div>\n",
       "<style scoped>\n",
       "    .dataframe tbody tr th:only-of-type {\n",
       "        vertical-align: middle;\n",
       "    }\n",
       "\n",
       "    .dataframe tbody tr th {\n",
       "        vertical-align: top;\n",
       "    }\n",
       "\n",
       "    .dataframe thead th {\n",
       "        text-align: right;\n",
       "    }\n",
       "</style>\n",
       "<table border=\"1\" class=\"dataframe\">\n",
       "  <thead>\n",
       "    <tr style=\"text-align: right;\">\n",
       "      <th></th>\n",
       "      <th>Country</th>\n",
       "      <th>Coffee type</th>\n",
       "      <th>1990/91</th>\n",
       "      <th>1991/92</th>\n",
       "      <th>1992/93</th>\n",
       "      <th>1993/94</th>\n",
       "      <th>1994/95</th>\n",
       "      <th>1995/96</th>\n",
       "      <th>1996/97</th>\n",
       "      <th>1997/98</th>\n",
       "      <th>...</th>\n",
       "      <th>2011/12</th>\n",
       "      <th>2012/13</th>\n",
       "      <th>2013/14</th>\n",
       "      <th>2014/15</th>\n",
       "      <th>2015/16</th>\n",
       "      <th>2016/17</th>\n",
       "      <th>2017/18</th>\n",
       "      <th>2018/19</th>\n",
       "      <th>2019/20</th>\n",
       "      <th>Total_production</th>\n",
       "    </tr>\n",
       "  </thead>\n",
       "  <tbody>\n",
       "    <tr>\n",
       "      <th>0</th>\n",
       "      <td>Angola</td>\n",
       "      <td>Robusta/Arabica</td>\n",
       "      <td>3.000000e+06</td>\n",
       "      <td>4.740000e+06</td>\n",
       "      <td>4.680000e+06</td>\n",
       "      <td>1.980000e+06</td>\n",
       "      <td>4.620000e+06</td>\n",
       "      <td>3.720000e+06</td>\n",
       "      <td>4.260000e+06</td>\n",
       "      <td>3.840000e+06</td>\n",
       "      <td>...</td>\n",
       "      <td>1.740000e+06</td>\n",
       "      <td>1.980000e+06</td>\n",
       "      <td>2.100000e+06</td>\n",
       "      <td>2.340000e+06</td>\n",
       "      <td>2.460000e+06</td>\n",
       "      <td>2.700000e+06</td>\n",
       "      <td>2.100000e+06</td>\n",
       "      <td>2.520000e+06</td>\n",
       "      <td>3.120000e+06</td>\n",
       "      <td>8.208000e+07</td>\n",
       "    </tr>\n",
       "    <tr>\n",
       "      <th>1</th>\n",
       "      <td>Bolivia (Plurinational State of)</td>\n",
       "      <td>Arabica</td>\n",
       "      <td>7.380000e+06</td>\n",
       "      <td>6.240000e+06</td>\n",
       "      <td>7.200000e+06</td>\n",
       "      <td>3.060000e+06</td>\n",
       "      <td>7.020000e+06</td>\n",
       "      <td>8.520000e+06</td>\n",
       "      <td>7.500000e+06</td>\n",
       "      <td>8.460000e+06</td>\n",
       "      <td>...</td>\n",
       "      <td>7.920000e+06</td>\n",
       "      <td>6.300000e+06</td>\n",
       "      <td>7.200000e+06</td>\n",
       "      <td>6.000000e+06</td>\n",
       "      <td>5.040000e+06</td>\n",
       "      <td>4.680000e+06</td>\n",
       "      <td>5.040000e+06</td>\n",
       "      <td>4.980000e+06</td>\n",
       "      <td>4.860000e+06</td>\n",
       "      <td>2.070000e+08</td>\n",
       "    </tr>\n",
       "    <tr>\n",
       "      <th>2</th>\n",
       "      <td>Brazil</td>\n",
       "      <td>Arabica/Robusta</td>\n",
       "      <td>1.637160e+09</td>\n",
       "      <td>1.637580e+09</td>\n",
       "      <td>2.076180e+09</td>\n",
       "      <td>1.690020e+09</td>\n",
       "      <td>1.691520e+09</td>\n",
       "      <td>1.083600e+09</td>\n",
       "      <td>1.751820e+09</td>\n",
       "      <td>1.568880e+09</td>\n",
       "      <td>...</td>\n",
       "      <td>2.915520e+09</td>\n",
       "      <td>3.325080e+09</td>\n",
       "      <td>3.281340e+09</td>\n",
       "      <td>3.198300e+09</td>\n",
       "      <td>3.172260e+09</td>\n",
       "      <td>3.407280e+09</td>\n",
       "      <td>3.164400e+09</td>\n",
       "      <td>3.907860e+09</td>\n",
       "      <td>3.492660e+09</td>\n",
       "      <td>7.508298e+10</td>\n",
       "    </tr>\n",
       "    <tr>\n",
       "      <th>3</th>\n",
       "      <td>Burundi</td>\n",
       "      <td>Arabica/Robusta</td>\n",
       "      <td>2.922000e+07</td>\n",
       "      <td>4.002000e+07</td>\n",
       "      <td>3.720000e+07</td>\n",
       "      <td>2.358000e+07</td>\n",
       "      <td>3.984000e+07</td>\n",
       "      <td>2.604000e+07</td>\n",
       "      <td>2.406000e+07</td>\n",
       "      <td>1.500000e+07</td>\n",
       "      <td>...</td>\n",
       "      <td>1.224000e+07</td>\n",
       "      <td>2.436000e+07</td>\n",
       "      <td>9.780000e+06</td>\n",
       "      <td>1.488000e+07</td>\n",
       "      <td>1.614000e+07</td>\n",
       "      <td>1.176000e+07</td>\n",
       "      <td>1.212000e+07</td>\n",
       "      <td>1.224000e+07</td>\n",
       "      <td>1.632000e+07</td>\n",
       "      <td>6.236400e+08</td>\n",
       "    </tr>\n",
       "    <tr>\n",
       "      <th>4</th>\n",
       "      <td>Ecuador</td>\n",
       "      <td>Arabica/Robusta</td>\n",
       "      <td>9.024000e+07</td>\n",
       "      <td>1.274400e+08</td>\n",
       "      <td>7.110000e+07</td>\n",
       "      <td>1.241400e+08</td>\n",
       "      <td>1.425600e+08</td>\n",
       "      <td>1.132800e+08</td>\n",
       "      <td>1.195800e+08</td>\n",
       "      <td>7.146000e+07</td>\n",
       "      <td>...</td>\n",
       "      <td>4.950000e+07</td>\n",
       "      <td>4.968000e+07</td>\n",
       "      <td>3.996000e+07</td>\n",
       "      <td>3.864000e+07</td>\n",
       "      <td>3.864000e+07</td>\n",
       "      <td>3.870000e+07</td>\n",
       "      <td>3.744000e+07</td>\n",
       "      <td>2.976000e+07</td>\n",
       "      <td>3.354000e+07</td>\n",
       "      <td>1.900380e+09</td>\n",
       "    </tr>\n",
       "  </tbody>\n",
       "</table>\n",
       "<p>5 rows × 33 columns</p>\n",
       "</div>\n",
       "    <div class=\"colab-df-buttons\">\n",
       "\n",
       "  <div class=\"colab-df-container\">\n",
       "    <button class=\"colab-df-convert\" onclick=\"convertToInteractive('df-817ab060-bdfb-4279-b0c5-a343d6e4cd9d')\"\n",
       "            title=\"Convert this dataframe to an interactive table.\"\n",
       "            style=\"display:none;\">\n",
       "\n",
       "  <svg xmlns=\"http://www.w3.org/2000/svg\" height=\"24px\" viewBox=\"0 -960 960 960\">\n",
       "    <path d=\"M120-120v-720h720v720H120Zm60-500h600v-160H180v160Zm220 220h160v-160H400v160Zm0 220h160v-160H400v160ZM180-400h160v-160H180v160Zm440 0h160v-160H620v160ZM180-180h160v-160H180v160Zm440 0h160v-160H620v160Z\"/>\n",
       "  </svg>\n",
       "    </button>\n",
       "\n",
       "  <style>\n",
       "    .colab-df-container {\n",
       "      display:flex;\n",
       "      gap: 12px;\n",
       "    }\n",
       "\n",
       "    .colab-df-convert {\n",
       "      background-color: #E8F0FE;\n",
       "      border: none;\n",
       "      border-radius: 50%;\n",
       "      cursor: pointer;\n",
       "      display: none;\n",
       "      fill: #1967D2;\n",
       "      height: 32px;\n",
       "      padding: 0 0 0 0;\n",
       "      width: 32px;\n",
       "    }\n",
       "\n",
       "    .colab-df-convert:hover {\n",
       "      background-color: #E2EBFA;\n",
       "      box-shadow: 0px 1px 2px rgba(60, 64, 67, 0.3), 0px 1px 3px 1px rgba(60, 64, 67, 0.15);\n",
       "      fill: #174EA6;\n",
       "    }\n",
       "\n",
       "    .colab-df-buttons div {\n",
       "      margin-bottom: 4px;\n",
       "    }\n",
       "\n",
       "    [theme=dark] .colab-df-convert {\n",
       "      background-color: #3B4455;\n",
       "      fill: #D2E3FC;\n",
       "    }\n",
       "\n",
       "    [theme=dark] .colab-df-convert:hover {\n",
       "      background-color: #434B5C;\n",
       "      box-shadow: 0px 1px 3px 1px rgba(0, 0, 0, 0.15);\n",
       "      filter: drop-shadow(0px 1px 2px rgba(0, 0, 0, 0.3));\n",
       "      fill: #FFFFFF;\n",
       "    }\n",
       "  </style>\n",
       "\n",
       "    <script>\n",
       "      const buttonEl =\n",
       "        document.querySelector('#df-817ab060-bdfb-4279-b0c5-a343d6e4cd9d button.colab-df-convert');\n",
       "      buttonEl.style.display =\n",
       "        google.colab.kernel.accessAllowed ? 'block' : 'none';\n",
       "\n",
       "      async function convertToInteractive(key) {\n",
       "        const element = document.querySelector('#df-817ab060-bdfb-4279-b0c5-a343d6e4cd9d');\n",
       "        const dataTable =\n",
       "          await google.colab.kernel.invokeFunction('convertToInteractive',\n",
       "                                                    [key], {});\n",
       "        if (!dataTable) return;\n",
       "\n",
       "        const docLinkHtml = 'Like what you see? Visit the ' +\n",
       "          '<a target=\"_blank\" href=https://colab.research.google.com/notebooks/data_table.ipynb>data table notebook</a>'\n",
       "          + ' to learn more about interactive tables.';\n",
       "        element.innerHTML = '';\n",
       "        dataTable['output_type'] = 'display_data';\n",
       "        await google.colab.output.renderOutput(dataTable, element);\n",
       "        const docLink = document.createElement('div');\n",
       "        docLink.innerHTML = docLinkHtml;\n",
       "        element.appendChild(docLink);\n",
       "      }\n",
       "    </script>\n",
       "  </div>\n",
       "\n",
       "\n",
       "<div id=\"df-425b5fec-8dc2-42d3-bc64-3b16a7dc56bf\">\n",
       "  <button class=\"colab-df-quickchart\" onclick=\"quickchart('df-425b5fec-8dc2-42d3-bc64-3b16a7dc56bf')\"\n",
       "            title=\"Suggest charts\"\n",
       "            style=\"display:none;\">\n",
       "\n",
       "<svg xmlns=\"http://www.w3.org/2000/svg\" height=\"24px\"viewBox=\"0 0 24 24\"\n",
       "     width=\"24px\">\n",
       "    <g>\n",
       "        <path d=\"M19 3H5c-1.1 0-2 .9-2 2v14c0 1.1.9 2 2 2h14c1.1 0 2-.9 2-2V5c0-1.1-.9-2-2-2zM9 17H7v-7h2v7zm4 0h-2V7h2v10zm4 0h-2v-4h2v4z\"/>\n",
       "    </g>\n",
       "</svg>\n",
       "  </button>\n",
       "\n",
       "<style>\n",
       "  .colab-df-quickchart {\n",
       "      --bg-color: #E8F0FE;\n",
       "      --fill-color: #1967D2;\n",
       "      --hover-bg-color: #E2EBFA;\n",
       "      --hover-fill-color: #174EA6;\n",
       "      --disabled-fill-color: #AAA;\n",
       "      --disabled-bg-color: #DDD;\n",
       "  }\n",
       "\n",
       "  [theme=dark] .colab-df-quickchart {\n",
       "      --bg-color: #3B4455;\n",
       "      --fill-color: #D2E3FC;\n",
       "      --hover-bg-color: #434B5C;\n",
       "      --hover-fill-color: #FFFFFF;\n",
       "      --disabled-bg-color: #3B4455;\n",
       "      --disabled-fill-color: #666;\n",
       "  }\n",
       "\n",
       "  .colab-df-quickchart {\n",
       "    background-color: var(--bg-color);\n",
       "    border: none;\n",
       "    border-radius: 50%;\n",
       "    cursor: pointer;\n",
       "    display: none;\n",
       "    fill: var(--fill-color);\n",
       "    height: 32px;\n",
       "    padding: 0;\n",
       "    width: 32px;\n",
       "  }\n",
       "\n",
       "  .colab-df-quickchart:hover {\n",
       "    background-color: var(--hover-bg-color);\n",
       "    box-shadow: 0 1px 2px rgba(60, 64, 67, 0.3), 0 1px 3px 1px rgba(60, 64, 67, 0.15);\n",
       "    fill: var(--button-hover-fill-color);\n",
       "  }\n",
       "\n",
       "  .colab-df-quickchart-complete:disabled,\n",
       "  .colab-df-quickchart-complete:disabled:hover {\n",
       "    background-color: var(--disabled-bg-color);\n",
       "    fill: var(--disabled-fill-color);\n",
       "    box-shadow: none;\n",
       "  }\n",
       "\n",
       "  .colab-df-spinner {\n",
       "    border: 2px solid var(--fill-color);\n",
       "    border-color: transparent;\n",
       "    border-bottom-color: var(--fill-color);\n",
       "    animation:\n",
       "      spin 1s steps(1) infinite;\n",
       "  }\n",
       "\n",
       "  @keyframes spin {\n",
       "    0% {\n",
       "      border-color: transparent;\n",
       "      border-bottom-color: var(--fill-color);\n",
       "      border-left-color: var(--fill-color);\n",
       "    }\n",
       "    20% {\n",
       "      border-color: transparent;\n",
       "      border-left-color: var(--fill-color);\n",
       "      border-top-color: var(--fill-color);\n",
       "    }\n",
       "    30% {\n",
       "      border-color: transparent;\n",
       "      border-left-color: var(--fill-color);\n",
       "      border-top-color: var(--fill-color);\n",
       "      border-right-color: var(--fill-color);\n",
       "    }\n",
       "    40% {\n",
       "      border-color: transparent;\n",
       "      border-right-color: var(--fill-color);\n",
       "      border-top-color: var(--fill-color);\n",
       "    }\n",
       "    60% {\n",
       "      border-color: transparent;\n",
       "      border-right-color: var(--fill-color);\n",
       "    }\n",
       "    80% {\n",
       "      border-color: transparent;\n",
       "      border-right-color: var(--fill-color);\n",
       "      border-bottom-color: var(--fill-color);\n",
       "    }\n",
       "    90% {\n",
       "      border-color: transparent;\n",
       "      border-bottom-color: var(--fill-color);\n",
       "    }\n",
       "  }\n",
       "</style>\n",
       "\n",
       "  <script>\n",
       "    async function quickchart(key) {\n",
       "      const quickchartButtonEl =\n",
       "        document.querySelector('#' + key + ' button');\n",
       "      quickchartButtonEl.disabled = true;  // To prevent multiple clicks.\n",
       "      quickchartButtonEl.classList.add('colab-df-spinner');\n",
       "      try {\n",
       "        const charts = await google.colab.kernel.invokeFunction(\n",
       "            'suggestCharts', [key], {});\n",
       "      } catch (error) {\n",
       "        console.error('Error during call to suggestCharts:', error);\n",
       "      }\n",
       "      quickchartButtonEl.classList.remove('colab-df-spinner');\n",
       "      quickchartButtonEl.classList.add('colab-df-quickchart-complete');\n",
       "    }\n",
       "    (() => {\n",
       "      let quickchartButtonEl =\n",
       "        document.querySelector('#df-425b5fec-8dc2-42d3-bc64-3b16a7dc56bf button');\n",
       "      quickchartButtonEl.style.display =\n",
       "        google.colab.kernel.accessAllowed ? 'block' : 'none';\n",
       "    })();\n",
       "  </script>\n",
       "</div>\n",
       "\n",
       "    </div>\n",
       "  </div>\n"
      ],
      "text/plain": [
       "                            Country      Coffee type       1990/91  \\\n",
       "0                            Angola  Robusta/Arabica  3.000000e+06   \n",
       "1  Bolivia (Plurinational State of)          Arabica  7.380000e+06   \n",
       "2                            Brazil  Arabica/Robusta  1.637160e+09   \n",
       "3                           Burundi  Arabica/Robusta  2.922000e+07   \n",
       "4                           Ecuador  Arabica/Robusta  9.024000e+07   \n",
       "\n",
       "        1991/92       1992/93       1993/94       1994/95       1995/96  \\\n",
       "0  4.740000e+06  4.680000e+06  1.980000e+06  4.620000e+06  3.720000e+06   \n",
       "1  6.240000e+06  7.200000e+06  3.060000e+06  7.020000e+06  8.520000e+06   \n",
       "2  1.637580e+09  2.076180e+09  1.690020e+09  1.691520e+09  1.083600e+09   \n",
       "3  4.002000e+07  3.720000e+07  2.358000e+07  3.984000e+07  2.604000e+07   \n",
       "4  1.274400e+08  7.110000e+07  1.241400e+08  1.425600e+08  1.132800e+08   \n",
       "\n",
       "        1996/97       1997/98  ...       2011/12       2012/13       2013/14  \\\n",
       "0  4.260000e+06  3.840000e+06  ...  1.740000e+06  1.980000e+06  2.100000e+06   \n",
       "1  7.500000e+06  8.460000e+06  ...  7.920000e+06  6.300000e+06  7.200000e+06   \n",
       "2  1.751820e+09  1.568880e+09  ...  2.915520e+09  3.325080e+09  3.281340e+09   \n",
       "3  2.406000e+07  1.500000e+07  ...  1.224000e+07  2.436000e+07  9.780000e+06   \n",
       "4  1.195800e+08  7.146000e+07  ...  4.950000e+07  4.968000e+07  3.996000e+07   \n",
       "\n",
       "        2014/15       2015/16       2016/17       2017/18       2018/19  \\\n",
       "0  2.340000e+06  2.460000e+06  2.700000e+06  2.100000e+06  2.520000e+06   \n",
       "1  6.000000e+06  5.040000e+06  4.680000e+06  5.040000e+06  4.980000e+06   \n",
       "2  3.198300e+09  3.172260e+09  3.407280e+09  3.164400e+09  3.907860e+09   \n",
       "3  1.488000e+07  1.614000e+07  1.176000e+07  1.212000e+07  1.224000e+07   \n",
       "4  3.864000e+07  3.864000e+07  3.870000e+07  3.744000e+07  2.976000e+07   \n",
       "\n",
       "        2019/20  Total_production  \n",
       "0  3.120000e+06      8.208000e+07  \n",
       "1  4.860000e+06      2.070000e+08  \n",
       "2  3.492660e+09      7.508298e+10  \n",
       "3  1.632000e+07      6.236400e+08  \n",
       "4  3.354000e+07      1.900380e+09  \n",
       "\n",
       "[5 rows x 33 columns]"
      ]
     },
     "execution_count": 1,
     "metadata": {},
     "output_type": "execute_result"
    }
   ],
   "source": [
    "import pandas as pd\n",
    "data = pd.read_csv('Coffee_production.csv')\n",
    "data.head()"
   ]
  },
  {
   "cell_type": "markdown",
   "metadata": {
    "id": "zPJXxeZ9T-LS"
   },
   "source": [
    "- Country: Berisi nama negara penghasil kopi.\n",
    "- Coffee type: Berisi jenis kopi yang dihasilkan.\n",
    "- 1990/91 hingga 2019/20: Berisi jumlah kopi yang dihasilkan (dalam satuan kilo gram).\n",
    "- Total_production: Berisi total produksi dari musim 1990/91 hingga 2019/20."
   ]
  },
  {
   "cell_type": "markdown",
   "metadata": {
    "id": "bmKZ8BO3RZtC"
   },
   "source": [
    "Karena dataset yang didapatkan berisi banyak data dari negara lain sedangkan pada proyek ini hanya akan menggunakan data yang berasal dari Indonesia maka data yang lain akan diabaikan. Selain itu struktur dari tabel akan diubah agar memudahkan dalam memahami data yang dicatat."
   ]
  },
  {
   "cell_type": "markdown",
   "metadata": {
    "id": "F10hLuOZX9ag"
   },
   "source": [
    "Kolom 'Coffee type' dan 'Total_production' dihapus karena tidak digunakan dalam melakukan prediksi."
   ]
  },
  {
   "cell_type": "code",
   "execution_count": null,
   "metadata": {
    "id": "h2NY4OAW9BWL"
   },
   "outputs": [],
   "source": [
    "# data = data.drop(data.columns[0], axis=1)\n",
    "\n",
    "allCols = data.columns\n",
    "ignCols = ['', 'Coffee type', 'Total_production']\n",
    "selCols = [column for column in allCols if column not in ignCols]\n",
    "selected_data = data[selCols]\n",
    "\n",
    "selected_data = selected_data.T\n",
    "\n",
    "selected_data.to_csv('selected_data.csv')\n",
    "\n"
   ]
  },
  {
   "cell_type": "code",
   "execution_count": null,
   "metadata": {
    "colab": {
     "base_uri": "https://localhost:8080/",
     "height": 307
    },
    "id": "lDeDOrXI8Byz",
    "outputId": "0796452f-0164-471f-bbd8-f533fece8394"
   },
   "outputs": [
    {
     "data": {
      "application/vnd.google.colaboratory.intrinsic+json": {
       "type": "dataframe",
       "variable_name": "df"
      },
      "text/html": [
       "\n",
       "  <div id=\"df-5b1cb078-efb9-48ab-8b23-d4e2c90bb9b7\" class=\"colab-df-container\">\n",
       "    <div>\n",
       "<style scoped>\n",
       "    .dataframe tbody tr th:only-of-type {\n",
       "        vertical-align: middle;\n",
       "    }\n",
       "\n",
       "    .dataframe tbody tr th {\n",
       "        vertical-align: top;\n",
       "    }\n",
       "\n",
       "    .dataframe thead th {\n",
       "        text-align: right;\n",
       "    }\n",
       "</style>\n",
       "<table border=\"1\" class=\"dataframe\">\n",
       "  <thead>\n",
       "    <tr style=\"text-align: right;\">\n",
       "      <th></th>\n",
       "      <th>Unnamed: 0</th>\n",
       "      <th>0</th>\n",
       "      <th>1</th>\n",
       "      <th>2</th>\n",
       "      <th>3</th>\n",
       "      <th>4</th>\n",
       "      <th>5</th>\n",
       "      <th>6</th>\n",
       "      <th>7</th>\n",
       "      <th>8</th>\n",
       "      <th>...</th>\n",
       "      <th>45</th>\n",
       "      <th>46</th>\n",
       "      <th>47</th>\n",
       "      <th>48</th>\n",
       "      <th>49</th>\n",
       "      <th>50</th>\n",
       "      <th>51</th>\n",
       "      <th>52</th>\n",
       "      <th>53</th>\n",
       "      <th>54</th>\n",
       "    </tr>\n",
       "  </thead>\n",
       "  <tbody>\n",
       "    <tr>\n",
       "      <th>0</th>\n",
       "      <td>Country</td>\n",
       "      <td>Angola</td>\n",
       "      <td>Bolivia (Plurinational State of)</td>\n",
       "      <td>Brazil</td>\n",
       "      <td>Burundi</td>\n",
       "      <td>Ecuador</td>\n",
       "      <td>Indonesia</td>\n",
       "      <td>Madagascar</td>\n",
       "      <td>Malawi</td>\n",
       "      <td>Papua New Guinea</td>\n",
       "      <td>...</td>\n",
       "      <td>Panama</td>\n",
       "      <td>Sierra Leone</td>\n",
       "      <td>Sri Lanka</td>\n",
       "      <td>Thailand</td>\n",
       "      <td>Togo</td>\n",
       "      <td>Trinidad &amp; Tobago</td>\n",
       "      <td>Uganda</td>\n",
       "      <td>Venezuela</td>\n",
       "      <td>Viet Nam</td>\n",
       "      <td>Yemen</td>\n",
       "    </tr>\n",
       "    <tr>\n",
       "      <th>1</th>\n",
       "      <td>1990/91</td>\n",
       "      <td>3000000.0</td>\n",
       "      <td>7380000.0</td>\n",
       "      <td>1637160000.0</td>\n",
       "      <td>29220000.0</td>\n",
       "      <td>90240000.0</td>\n",
       "      <td>446460000.0</td>\n",
       "      <td>58920000.0</td>\n",
       "      <td>6300000.0</td>\n",
       "      <td>57780000.0</td>\n",
       "      <td>...</td>\n",
       "      <td>12900000.0</td>\n",
       "      <td>2580000.0</td>\n",
       "      <td>5760000.0</td>\n",
       "      <td>45420000.0</td>\n",
       "      <td>9660000.0</td>\n",
       "      <td>900000.0</td>\n",
       "      <td>117300000.0</td>\n",
       "      <td>67320000.0</td>\n",
       "      <td>78600000.0</td>\n",
       "      <td>0.0</td>\n",
       "    </tr>\n",
       "    <tr>\n",
       "      <th>2</th>\n",
       "      <td>1991/92</td>\n",
       "      <td>4740000.0</td>\n",
       "      <td>6240000.0</td>\n",
       "      <td>1637580000.0</td>\n",
       "      <td>40020000.0</td>\n",
       "      <td>127440000.0</td>\n",
       "      <td>509580000.0</td>\n",
       "      <td>55980000.0</td>\n",
       "      <td>7440000.0</td>\n",
       "      <td>44820000.0</td>\n",
       "      <td>...</td>\n",
       "      <td>11580000.0</td>\n",
       "      <td>3240000.0</td>\n",
       "      <td>4920000.0</td>\n",
       "      <td>88140000.0</td>\n",
       "      <td>25980000.0</td>\n",
       "      <td>1080000.0</td>\n",
       "      <td>125280000.0</td>\n",
       "      <td>56460000.0</td>\n",
       "      <td>86280000.0</td>\n",
       "      <td>0.0</td>\n",
       "    </tr>\n",
       "    <tr>\n",
       "      <th>3</th>\n",
       "      <td>1992/93</td>\n",
       "      <td>4680000.0</td>\n",
       "      <td>7200000.0</td>\n",
       "      <td>2076180000.0</td>\n",
       "      <td>37200000.0</td>\n",
       "      <td>71100000.0</td>\n",
       "      <td>334140000.0</td>\n",
       "      <td>67320000.0</td>\n",
       "      <td>8220000.0</td>\n",
       "      <td>54000000.0</td>\n",
       "      <td>...</td>\n",
       "      <td>11820000.0</td>\n",
       "      <td>2340000.0</td>\n",
       "      <td>3180000.0</td>\n",
       "      <td>75300000.0</td>\n",
       "      <td>5160000.0</td>\n",
       "      <td>840000.0</td>\n",
       "      <td>131100000.0</td>\n",
       "      <td>72900000.0</td>\n",
       "      <td>140400000.0</td>\n",
       "      <td>0.0</td>\n",
       "    </tr>\n",
       "    <tr>\n",
       "      <th>4</th>\n",
       "      <td>1993/94</td>\n",
       "      <td>1980000.0</td>\n",
       "      <td>3060000.0</td>\n",
       "      <td>1690020000.0</td>\n",
       "      <td>23580000.0</td>\n",
       "      <td>124140000.0</td>\n",
       "      <td>404580000.0</td>\n",
       "      <td>26520000.0</td>\n",
       "      <td>3720000.0</td>\n",
       "      <td>61140000.0</td>\n",
       "      <td>...</td>\n",
       "      <td>8520000.0</td>\n",
       "      <td>2220000.0</td>\n",
       "      <td>3240000.0</td>\n",
       "      <td>76500000.0</td>\n",
       "      <td>11700000.0</td>\n",
       "      <td>960000.0</td>\n",
       "      <td>188520000.0</td>\n",
       "      <td>79980000.0</td>\n",
       "      <td>181200000.0</td>\n",
       "      <td>0.0</td>\n",
       "    </tr>\n",
       "  </tbody>\n",
       "</table>\n",
       "<p>5 rows × 56 columns</p>\n",
       "</div>\n",
       "    <div class=\"colab-df-buttons\">\n",
       "\n",
       "  <div class=\"colab-df-container\">\n",
       "    <button class=\"colab-df-convert\" onclick=\"convertToInteractive('df-5b1cb078-efb9-48ab-8b23-d4e2c90bb9b7')\"\n",
       "            title=\"Convert this dataframe to an interactive table.\"\n",
       "            style=\"display:none;\">\n",
       "\n",
       "  <svg xmlns=\"http://www.w3.org/2000/svg\" height=\"24px\" viewBox=\"0 -960 960 960\">\n",
       "    <path d=\"M120-120v-720h720v720H120Zm60-500h600v-160H180v160Zm220 220h160v-160H400v160Zm0 220h160v-160H400v160ZM180-400h160v-160H180v160Zm440 0h160v-160H620v160ZM180-180h160v-160H180v160Zm440 0h160v-160H620v160Z\"/>\n",
       "  </svg>\n",
       "    </button>\n",
       "\n",
       "  <style>\n",
       "    .colab-df-container {\n",
       "      display:flex;\n",
       "      gap: 12px;\n",
       "    }\n",
       "\n",
       "    .colab-df-convert {\n",
       "      background-color: #E8F0FE;\n",
       "      border: none;\n",
       "      border-radius: 50%;\n",
       "      cursor: pointer;\n",
       "      display: none;\n",
       "      fill: #1967D2;\n",
       "      height: 32px;\n",
       "      padding: 0 0 0 0;\n",
       "      width: 32px;\n",
       "    }\n",
       "\n",
       "    .colab-df-convert:hover {\n",
       "      background-color: #E2EBFA;\n",
       "      box-shadow: 0px 1px 2px rgba(60, 64, 67, 0.3), 0px 1px 3px 1px rgba(60, 64, 67, 0.15);\n",
       "      fill: #174EA6;\n",
       "    }\n",
       "\n",
       "    .colab-df-buttons div {\n",
       "      margin-bottom: 4px;\n",
       "    }\n",
       "\n",
       "    [theme=dark] .colab-df-convert {\n",
       "      background-color: #3B4455;\n",
       "      fill: #D2E3FC;\n",
       "    }\n",
       "\n",
       "    [theme=dark] .colab-df-convert:hover {\n",
       "      background-color: #434B5C;\n",
       "      box-shadow: 0px 1px 3px 1px rgba(0, 0, 0, 0.15);\n",
       "      filter: drop-shadow(0px 1px 2px rgba(0, 0, 0, 0.3));\n",
       "      fill: #FFFFFF;\n",
       "    }\n",
       "  </style>\n",
       "\n",
       "    <script>\n",
       "      const buttonEl =\n",
       "        document.querySelector('#df-5b1cb078-efb9-48ab-8b23-d4e2c90bb9b7 button.colab-df-convert');\n",
       "      buttonEl.style.display =\n",
       "        google.colab.kernel.accessAllowed ? 'block' : 'none';\n",
       "\n",
       "      async function convertToInteractive(key) {\n",
       "        const element = document.querySelector('#df-5b1cb078-efb9-48ab-8b23-d4e2c90bb9b7');\n",
       "        const dataTable =\n",
       "          await google.colab.kernel.invokeFunction('convertToInteractive',\n",
       "                                                    [key], {});\n",
       "        if (!dataTable) return;\n",
       "\n",
       "        const docLinkHtml = 'Like what you see? Visit the ' +\n",
       "          '<a target=\"_blank\" href=https://colab.research.google.com/notebooks/data_table.ipynb>data table notebook</a>'\n",
       "          + ' to learn more about interactive tables.';\n",
       "        element.innerHTML = '';\n",
       "        dataTable['output_type'] = 'display_data';\n",
       "        await google.colab.output.renderOutput(dataTable, element);\n",
       "        const docLink = document.createElement('div');\n",
       "        docLink.innerHTML = docLinkHtml;\n",
       "        element.appendChild(docLink);\n",
       "      }\n",
       "    </script>\n",
       "  </div>\n",
       "\n",
       "\n",
       "<div id=\"df-af8f5f9b-8174-489a-b947-086fa11145c8\">\n",
       "  <button class=\"colab-df-quickchart\" onclick=\"quickchart('df-af8f5f9b-8174-489a-b947-086fa11145c8')\"\n",
       "            title=\"Suggest charts\"\n",
       "            style=\"display:none;\">\n",
       "\n",
       "<svg xmlns=\"http://www.w3.org/2000/svg\" height=\"24px\"viewBox=\"0 0 24 24\"\n",
       "     width=\"24px\">\n",
       "    <g>\n",
       "        <path d=\"M19 3H5c-1.1 0-2 .9-2 2v14c0 1.1.9 2 2 2h14c1.1 0 2-.9 2-2V5c0-1.1-.9-2-2-2zM9 17H7v-7h2v7zm4 0h-2V7h2v10zm4 0h-2v-4h2v4z\"/>\n",
       "    </g>\n",
       "</svg>\n",
       "  </button>\n",
       "\n",
       "<style>\n",
       "  .colab-df-quickchart {\n",
       "      --bg-color: #E8F0FE;\n",
       "      --fill-color: #1967D2;\n",
       "      --hover-bg-color: #E2EBFA;\n",
       "      --hover-fill-color: #174EA6;\n",
       "      --disabled-fill-color: #AAA;\n",
       "      --disabled-bg-color: #DDD;\n",
       "  }\n",
       "\n",
       "  [theme=dark] .colab-df-quickchart {\n",
       "      --bg-color: #3B4455;\n",
       "      --fill-color: #D2E3FC;\n",
       "      --hover-bg-color: #434B5C;\n",
       "      --hover-fill-color: #FFFFFF;\n",
       "      --disabled-bg-color: #3B4455;\n",
       "      --disabled-fill-color: #666;\n",
       "  }\n",
       "\n",
       "  .colab-df-quickchart {\n",
       "    background-color: var(--bg-color);\n",
       "    border: none;\n",
       "    border-radius: 50%;\n",
       "    cursor: pointer;\n",
       "    display: none;\n",
       "    fill: var(--fill-color);\n",
       "    height: 32px;\n",
       "    padding: 0;\n",
       "    width: 32px;\n",
       "  }\n",
       "\n",
       "  .colab-df-quickchart:hover {\n",
       "    background-color: var(--hover-bg-color);\n",
       "    box-shadow: 0 1px 2px rgba(60, 64, 67, 0.3), 0 1px 3px 1px rgba(60, 64, 67, 0.15);\n",
       "    fill: var(--button-hover-fill-color);\n",
       "  }\n",
       "\n",
       "  .colab-df-quickchart-complete:disabled,\n",
       "  .colab-df-quickchart-complete:disabled:hover {\n",
       "    background-color: var(--disabled-bg-color);\n",
       "    fill: var(--disabled-fill-color);\n",
       "    box-shadow: none;\n",
       "  }\n",
       "\n",
       "  .colab-df-spinner {\n",
       "    border: 2px solid var(--fill-color);\n",
       "    border-color: transparent;\n",
       "    border-bottom-color: var(--fill-color);\n",
       "    animation:\n",
       "      spin 1s steps(1) infinite;\n",
       "  }\n",
       "\n",
       "  @keyframes spin {\n",
       "    0% {\n",
       "      border-color: transparent;\n",
       "      border-bottom-color: var(--fill-color);\n",
       "      border-left-color: var(--fill-color);\n",
       "    }\n",
       "    20% {\n",
       "      border-color: transparent;\n",
       "      border-left-color: var(--fill-color);\n",
       "      border-top-color: var(--fill-color);\n",
       "    }\n",
       "    30% {\n",
       "      border-color: transparent;\n",
       "      border-left-color: var(--fill-color);\n",
       "      border-top-color: var(--fill-color);\n",
       "      border-right-color: var(--fill-color);\n",
       "    }\n",
       "    40% {\n",
       "      border-color: transparent;\n",
       "      border-right-color: var(--fill-color);\n",
       "      border-top-color: var(--fill-color);\n",
       "    }\n",
       "    60% {\n",
       "      border-color: transparent;\n",
       "      border-right-color: var(--fill-color);\n",
       "    }\n",
       "    80% {\n",
       "      border-color: transparent;\n",
       "      border-right-color: var(--fill-color);\n",
       "      border-bottom-color: var(--fill-color);\n",
       "    }\n",
       "    90% {\n",
       "      border-color: transparent;\n",
       "      border-bottom-color: var(--fill-color);\n",
       "    }\n",
       "  }\n",
       "</style>\n",
       "\n",
       "  <script>\n",
       "    async function quickchart(key) {\n",
       "      const quickchartButtonEl =\n",
       "        document.querySelector('#' + key + ' button');\n",
       "      quickchartButtonEl.disabled = true;  // To prevent multiple clicks.\n",
       "      quickchartButtonEl.classList.add('colab-df-spinner');\n",
       "      try {\n",
       "        const charts = await google.colab.kernel.invokeFunction(\n",
       "            'suggestCharts', [key], {});\n",
       "      } catch (error) {\n",
       "        console.error('Error during call to suggestCharts:', error);\n",
       "      }\n",
       "      quickchartButtonEl.classList.remove('colab-df-spinner');\n",
       "      quickchartButtonEl.classList.add('colab-df-quickchart-complete');\n",
       "    }\n",
       "    (() => {\n",
       "      let quickchartButtonEl =\n",
       "        document.querySelector('#df-af8f5f9b-8174-489a-b947-086fa11145c8 button');\n",
       "      quickchartButtonEl.style.display =\n",
       "        google.colab.kernel.accessAllowed ? 'block' : 'none';\n",
       "    })();\n",
       "  </script>\n",
       "</div>\n",
       "\n",
       "    </div>\n",
       "  </div>\n"
      ],
      "text/plain": [
       "  Unnamed: 0          0                                 1             2  \\\n",
       "0    Country     Angola  Bolivia (Plurinational State of)        Brazil   \n",
       "1    1990/91  3000000.0                         7380000.0  1637160000.0   \n",
       "2    1991/92  4740000.0                         6240000.0  1637580000.0   \n",
       "3    1992/93  4680000.0                         7200000.0  2076180000.0   \n",
       "4    1993/94  1980000.0                         3060000.0  1690020000.0   \n",
       "\n",
       "            3            4            5           6          7  \\\n",
       "0     Burundi      Ecuador    Indonesia  Madagascar     Malawi   \n",
       "1  29220000.0   90240000.0  446460000.0  58920000.0  6300000.0   \n",
       "2  40020000.0  127440000.0  509580000.0  55980000.0  7440000.0   \n",
       "3  37200000.0   71100000.0  334140000.0  67320000.0  8220000.0   \n",
       "4  23580000.0  124140000.0  404580000.0  26520000.0  3720000.0   \n",
       "\n",
       "                  8  ...          45            46         47          48  \\\n",
       "0  Papua New Guinea  ...      Panama  Sierra Leone  Sri Lanka    Thailand   \n",
       "1        57780000.0  ...  12900000.0     2580000.0  5760000.0  45420000.0   \n",
       "2        44820000.0  ...  11580000.0     3240000.0  4920000.0  88140000.0   \n",
       "3        54000000.0  ...  11820000.0     2340000.0  3180000.0  75300000.0   \n",
       "4        61140000.0  ...   8520000.0     2220000.0  3240000.0  76500000.0   \n",
       "\n",
       "           49                 50           51          52           53     54  \n",
       "0        Togo  Trinidad & Tobago       Uganda   Venezuela     Viet Nam  Yemen  \n",
       "1   9660000.0           900000.0  117300000.0  67320000.0   78600000.0    0.0  \n",
       "2  25980000.0          1080000.0  125280000.0  56460000.0   86280000.0    0.0  \n",
       "3   5160000.0           840000.0  131100000.0  72900000.0  140400000.0    0.0  \n",
       "4  11700000.0           960000.0  188520000.0  79980000.0  181200000.0    0.0  \n",
       "\n",
       "[5 rows x 56 columns]"
      ]
     },
     "execution_count": 3,
     "metadata": {},
     "output_type": "execute_result"
    }
   ],
   "source": [
    "df = pd.read_csv('selected_data.csv')\n",
    "df.head()"
   ]
  },
  {
   "cell_type": "code",
   "execution_count": null,
   "metadata": {
    "id": "KmhFnYEb6dnU"
   },
   "outputs": [],
   "source": [
    "df = df[~df.iloc[:, 0].str.contains('Unnamed', na=False)]  # Menyaring baris yang memiliki 'Unnamed'\n",
    "\n",
    "# Ubah baris selanjutnya menjadi header\n",
    "new_header = df.iloc[0]  # Ambil baris pertama sebagai header\n",
    "df = df[1:]  # Hapus baris pertama\n",
    "df.columns = new_header  # Set header yang baru\n",
    "\n",
    "# Simpan ke file CSV baru\n",
    "df.to_csv('file_baru.csv', index=False)"
   ]
  },
  {
   "cell_type": "markdown",
   "metadata": {
    "id": "eplOABCKRwOo"
   },
   "source": [
    "Header dari kolom disesuaikan agar memudahkan dalam membaca tabel data."
   ]
  },
  {
   "cell_type": "code",
   "execution_count": null,
   "metadata": {
    "colab": {
     "base_uri": "https://localhost:8080/",
     "height": 206
    },
    "id": "d3WXJSSD6kQT",
    "outputId": "218524ba-dcda-4fb3-d15f-5dea542a7051"
   },
   "outputs": [
    {
     "data": {
      "application/vnd.google.colaboratory.intrinsic+json": {
       "summary": "{\n  \"name\": \"df\",\n  \"rows\": 30,\n  \"fields\": [\n    {\n      \"column\": \"Year\",\n      \"properties\": {\n        \"dtype\": \"string\",\n        \"num_unique_values\": 30,\n        \"samples\": [\n          \"2017/18\",\n          \"2005/06\",\n          \"2013/14\"\n        ],\n        \"semantic_type\": \"\",\n        \"description\": \"\"\n      }\n    },\n    {\n      \"column\": \"Produksi\",\n      \"properties\": {\n        \"dtype\": \"number\",\n        \"std\": 140753298.13248575,\n        \"min\": 274380000.0,\n        \"max\": 784200000.0,\n        \"num_unique_values\": 30,\n        \"samples\": [\n          651120000.0,\n          549540000.0,\n          774060000.0\n        ],\n        \"semantic_type\": \"\",\n        \"description\": \"\"\n      }\n    }\n  ]\n}",
       "type": "dataframe",
       "variable_name": "df"
      },
      "text/html": [
       "\n",
       "  <div id=\"df-14a9b959-7eff-4d2c-b204-0cf4dfabdf3c\" class=\"colab-df-container\">\n",
       "    <div>\n",
       "<style scoped>\n",
       "    .dataframe tbody tr th:only-of-type {\n",
       "        vertical-align: middle;\n",
       "    }\n",
       "\n",
       "    .dataframe tbody tr th {\n",
       "        vertical-align: top;\n",
       "    }\n",
       "\n",
       "    .dataframe thead th {\n",
       "        text-align: right;\n",
       "    }\n",
       "</style>\n",
       "<table border=\"1\" class=\"dataframe\">\n",
       "  <thead>\n",
       "    <tr style=\"text-align: right;\">\n",
       "      <th></th>\n",
       "      <th>Year</th>\n",
       "      <th>Produksi</th>\n",
       "    </tr>\n",
       "  </thead>\n",
       "  <tbody>\n",
       "    <tr>\n",
       "      <th>0</th>\n",
       "      <td>1990/91</td>\n",
       "      <td>446460000.0</td>\n",
       "    </tr>\n",
       "    <tr>\n",
       "      <th>1</th>\n",
       "      <td>1991/92</td>\n",
       "      <td>509580000.0</td>\n",
       "    </tr>\n",
       "    <tr>\n",
       "      <th>2</th>\n",
       "      <td>1992/93</td>\n",
       "      <td>334140000.0</td>\n",
       "    </tr>\n",
       "    <tr>\n",
       "      <th>3</th>\n",
       "      <td>1993/94</td>\n",
       "      <td>404580000.0</td>\n",
       "    </tr>\n",
       "    <tr>\n",
       "      <th>4</th>\n",
       "      <td>1994/95</td>\n",
       "      <td>322080000.0</td>\n",
       "    </tr>\n",
       "  </tbody>\n",
       "</table>\n",
       "</div>\n",
       "    <div class=\"colab-df-buttons\">\n",
       "\n",
       "  <div class=\"colab-df-container\">\n",
       "    <button class=\"colab-df-convert\" onclick=\"convertToInteractive('df-14a9b959-7eff-4d2c-b204-0cf4dfabdf3c')\"\n",
       "            title=\"Convert this dataframe to an interactive table.\"\n",
       "            style=\"display:none;\">\n",
       "\n",
       "  <svg xmlns=\"http://www.w3.org/2000/svg\" height=\"24px\" viewBox=\"0 -960 960 960\">\n",
       "    <path d=\"M120-120v-720h720v720H120Zm60-500h600v-160H180v160Zm220 220h160v-160H400v160Zm0 220h160v-160H400v160ZM180-400h160v-160H180v160Zm440 0h160v-160H620v160ZM180-180h160v-160H180v160Zm440 0h160v-160H620v160Z\"/>\n",
       "  </svg>\n",
       "    </button>\n",
       "\n",
       "  <style>\n",
       "    .colab-df-container {\n",
       "      display:flex;\n",
       "      gap: 12px;\n",
       "    }\n",
       "\n",
       "    .colab-df-convert {\n",
       "      background-color: #E8F0FE;\n",
       "      border: none;\n",
       "      border-radius: 50%;\n",
       "      cursor: pointer;\n",
       "      display: none;\n",
       "      fill: #1967D2;\n",
       "      height: 32px;\n",
       "      padding: 0 0 0 0;\n",
       "      width: 32px;\n",
       "    }\n",
       "\n",
       "    .colab-df-convert:hover {\n",
       "      background-color: #E2EBFA;\n",
       "      box-shadow: 0px 1px 2px rgba(60, 64, 67, 0.3), 0px 1px 3px 1px rgba(60, 64, 67, 0.15);\n",
       "      fill: #174EA6;\n",
       "    }\n",
       "\n",
       "    .colab-df-buttons div {\n",
       "      margin-bottom: 4px;\n",
       "    }\n",
       "\n",
       "    [theme=dark] .colab-df-convert {\n",
       "      background-color: #3B4455;\n",
       "      fill: #D2E3FC;\n",
       "    }\n",
       "\n",
       "    [theme=dark] .colab-df-convert:hover {\n",
       "      background-color: #434B5C;\n",
       "      box-shadow: 0px 1px 3px 1px rgba(0, 0, 0, 0.15);\n",
       "      filter: drop-shadow(0px 1px 2px rgba(0, 0, 0, 0.3));\n",
       "      fill: #FFFFFF;\n",
       "    }\n",
       "  </style>\n",
       "\n",
       "    <script>\n",
       "      const buttonEl =\n",
       "        document.querySelector('#df-14a9b959-7eff-4d2c-b204-0cf4dfabdf3c button.colab-df-convert');\n",
       "      buttonEl.style.display =\n",
       "        google.colab.kernel.accessAllowed ? 'block' : 'none';\n",
       "\n",
       "      async function convertToInteractive(key) {\n",
       "        const element = document.querySelector('#df-14a9b959-7eff-4d2c-b204-0cf4dfabdf3c');\n",
       "        const dataTable =\n",
       "          await google.colab.kernel.invokeFunction('convertToInteractive',\n",
       "                                                    [key], {});\n",
       "        if (!dataTable) return;\n",
       "\n",
       "        const docLinkHtml = 'Like what you see? Visit the ' +\n",
       "          '<a target=\"_blank\" href=https://colab.research.google.com/notebooks/data_table.ipynb>data table notebook</a>'\n",
       "          + ' to learn more about interactive tables.';\n",
       "        element.innerHTML = '';\n",
       "        dataTable['output_type'] = 'display_data';\n",
       "        await google.colab.output.renderOutput(dataTable, element);\n",
       "        const docLink = document.createElement('div');\n",
       "        docLink.innerHTML = docLinkHtml;\n",
       "        element.appendChild(docLink);\n",
       "      }\n",
       "    </script>\n",
       "  </div>\n",
       "\n",
       "\n",
       "<div id=\"df-efb327c1-cd94-471c-b471-372089648527\">\n",
       "  <button class=\"colab-df-quickchart\" onclick=\"quickchart('df-efb327c1-cd94-471c-b471-372089648527')\"\n",
       "            title=\"Suggest charts\"\n",
       "            style=\"display:none;\">\n",
       "\n",
       "<svg xmlns=\"http://www.w3.org/2000/svg\" height=\"24px\"viewBox=\"0 0 24 24\"\n",
       "     width=\"24px\">\n",
       "    <g>\n",
       "        <path d=\"M19 3H5c-1.1 0-2 .9-2 2v14c0 1.1.9 2 2 2h14c1.1 0 2-.9 2-2V5c0-1.1-.9-2-2-2zM9 17H7v-7h2v7zm4 0h-2V7h2v10zm4 0h-2v-4h2v4z\"/>\n",
       "    </g>\n",
       "</svg>\n",
       "  </button>\n",
       "\n",
       "<style>\n",
       "  .colab-df-quickchart {\n",
       "      --bg-color: #E8F0FE;\n",
       "      --fill-color: #1967D2;\n",
       "      --hover-bg-color: #E2EBFA;\n",
       "      --hover-fill-color: #174EA6;\n",
       "      --disabled-fill-color: #AAA;\n",
       "      --disabled-bg-color: #DDD;\n",
       "  }\n",
       "\n",
       "  [theme=dark] .colab-df-quickchart {\n",
       "      --bg-color: #3B4455;\n",
       "      --fill-color: #D2E3FC;\n",
       "      --hover-bg-color: #434B5C;\n",
       "      --hover-fill-color: #FFFFFF;\n",
       "      --disabled-bg-color: #3B4455;\n",
       "      --disabled-fill-color: #666;\n",
       "  }\n",
       "\n",
       "  .colab-df-quickchart {\n",
       "    background-color: var(--bg-color);\n",
       "    border: none;\n",
       "    border-radius: 50%;\n",
       "    cursor: pointer;\n",
       "    display: none;\n",
       "    fill: var(--fill-color);\n",
       "    height: 32px;\n",
       "    padding: 0;\n",
       "    width: 32px;\n",
       "  }\n",
       "\n",
       "  .colab-df-quickchart:hover {\n",
       "    background-color: var(--hover-bg-color);\n",
       "    box-shadow: 0 1px 2px rgba(60, 64, 67, 0.3), 0 1px 3px 1px rgba(60, 64, 67, 0.15);\n",
       "    fill: var(--button-hover-fill-color);\n",
       "  }\n",
       "\n",
       "  .colab-df-quickchart-complete:disabled,\n",
       "  .colab-df-quickchart-complete:disabled:hover {\n",
       "    background-color: var(--disabled-bg-color);\n",
       "    fill: var(--disabled-fill-color);\n",
       "    box-shadow: none;\n",
       "  }\n",
       "\n",
       "  .colab-df-spinner {\n",
       "    border: 2px solid var(--fill-color);\n",
       "    border-color: transparent;\n",
       "    border-bottom-color: var(--fill-color);\n",
       "    animation:\n",
       "      spin 1s steps(1) infinite;\n",
       "  }\n",
       "\n",
       "  @keyframes spin {\n",
       "    0% {\n",
       "      border-color: transparent;\n",
       "      border-bottom-color: var(--fill-color);\n",
       "      border-left-color: var(--fill-color);\n",
       "    }\n",
       "    20% {\n",
       "      border-color: transparent;\n",
       "      border-left-color: var(--fill-color);\n",
       "      border-top-color: var(--fill-color);\n",
       "    }\n",
       "    30% {\n",
       "      border-color: transparent;\n",
       "      border-left-color: var(--fill-color);\n",
       "      border-top-color: var(--fill-color);\n",
       "      border-right-color: var(--fill-color);\n",
       "    }\n",
       "    40% {\n",
       "      border-color: transparent;\n",
       "      border-right-color: var(--fill-color);\n",
       "      border-top-color: var(--fill-color);\n",
       "    }\n",
       "    60% {\n",
       "      border-color: transparent;\n",
       "      border-right-color: var(--fill-color);\n",
       "    }\n",
       "    80% {\n",
       "      border-color: transparent;\n",
       "      border-right-color: var(--fill-color);\n",
       "      border-bottom-color: var(--fill-color);\n",
       "    }\n",
       "    90% {\n",
       "      border-color: transparent;\n",
       "      border-bottom-color: var(--fill-color);\n",
       "    }\n",
       "  }\n",
       "</style>\n",
       "\n",
       "  <script>\n",
       "    async function quickchart(key) {\n",
       "      const quickchartButtonEl =\n",
       "        document.querySelector('#' + key + ' button');\n",
       "      quickchartButtonEl.disabled = true;  // To prevent multiple clicks.\n",
       "      quickchartButtonEl.classList.add('colab-df-spinner');\n",
       "      try {\n",
       "        const charts = await google.colab.kernel.invokeFunction(\n",
       "            'suggestCharts', [key], {});\n",
       "      } catch (error) {\n",
       "        console.error('Error during call to suggestCharts:', error);\n",
       "      }\n",
       "      quickchartButtonEl.classList.remove('colab-df-spinner');\n",
       "      quickchartButtonEl.classList.add('colab-df-quickchart-complete');\n",
       "    }\n",
       "    (() => {\n",
       "      let quickchartButtonEl =\n",
       "        document.querySelector('#df-efb327c1-cd94-471c-b471-372089648527 button');\n",
       "      quickchartButtonEl.style.display =\n",
       "        google.colab.kernel.accessAllowed ? 'block' : 'none';\n",
       "    })();\n",
       "  </script>\n",
       "</div>\n",
       "\n",
       "    </div>\n",
       "  </div>\n"
      ],
      "text/plain": [
       "      Year     Produksi\n",
       "0  1990/91  446460000.0\n",
       "1  1991/92  509580000.0\n",
       "2  1992/93  334140000.0\n",
       "3  1993/94  404580000.0\n",
       "4  1994/95  322080000.0"
      ]
     },
     "execution_count": 5,
     "metadata": {},
     "output_type": "execute_result"
    }
   ],
   "source": [
    "df = pd.read_csv('file_baru.csv', usecols=['Country', 'Indonesia'])\n",
    "df = df.rename(columns={'Country': 'Year'})\n",
    "df = df.rename(columns={'Indonesia': 'Produksi'})\n",
    "df.head()"
   ]
  },
  {
   "cell_type": "code",
   "execution_count": null,
   "metadata": {
    "id": "Qd99GhJk8jEN"
   },
   "outputs": [],
   "source": [
    "df.to_csv('datafix.csv', index=False)"
   ]
  },
  {
   "cell_type": "markdown",
   "metadata": {
    "id": "7DNQBb5h9b9G"
   },
   "source": [
    "###Plotting"
   ]
  },
  {
   "cell_type": "markdown",
   "metadata": {
    "id": "hBCg5wVCR70t"
   },
   "source": [
    "Memvisualisasikan dataset dalam bentuk grafik."
   ]
  },
  {
   "cell_type": "code",
   "execution_count": null,
   "metadata": {
    "colab": {
     "base_uri": "https://localhost:8080/"
    },
    "id": "ioE0zni39fVL",
    "outputId": "be4a47a9-fabc-466f-ec02-bcbd1fa5cb1c"
   },
   "outputs": [
    {
     "data": {
      "image/png": "[encoded data removed]",
      "text/plain": [
       "<Figure size 1000x600 with 1 Axes>"
      ]
     },
     "metadata": {},
     "output_type": "display_data"
    }
   ],
   "source": [
    "import matplotlib.pyplot as plt\n",
    "import seaborn as sns\n",
    "\n",
    "data = pd.read_csv('datafix.csv')\n",
    "df = pd.DataFrame(data)\n",
    "\n",
    "# Plotting data\n",
    "plt.figure(figsize=(10,6))\n",
    "plt.plot(df['Year'], df['Produksi'], marker='o', color='b', linestyle='-', linewidth=2, markersize=6)\n",
    "\n",
    "# Menambahkan title dan label\n",
    "plt.title('Produksi Kopi di Produksi per Tahun', fontsize=16)\n",
    "plt.xlabel('Tahun', fontsize=12)\n",
    "plt.ylabel('Produksi Kopi (Ton)', fontsize=12)\n",
    "\n",
    "# Menampilkan grid dan plot\n",
    "plt.grid(True)\n",
    "plt.xticks(df['Year'], rotation=45)  # Rotate x-axis labels for better readability\n",
    "plt.tight_layout()\n",
    "\n",
    "# Menampilkan plot\n",
    "plt.show()"
   ]
  },
  {
   "cell_type": "markdown",
   "metadata": {
    "id": "qXDECNs9X280"
   },
   "source": []
  },
  {
   "cell_type": "markdown",
   "metadata": {
    "id": "xG4qY1xQrwOz"
   },
   "source": [
    "##Preprocessing Data"
   ]
  },
  {
   "cell_type": "markdown",
   "metadata": {
    "id": "skhiiAynsTAe"
   },
   "source": [
    "###Pendeteksian Outlier"
   ]
  },
  {
   "cell_type": "code",
   "execution_count": null,
   "metadata": {
    "id": "kk7Dp1-PIU06"
   },
   "outputs": [],
   "source": [
    "def DNI_outliers(df, column):\n",
    "    Q1 = df[column].quantile(0.25)\n",
    "    Q3 = df[column].quantile(0.75)\n",
    "    IQR = Q3 - Q1\n",
    "\n",
    "    lower_bound = Q1 - 1.5 * IQR\n",
    "    upper_bound = Q3 + 1.5 * IQR\n",
    "\n",
    "    outliers = ((df[column] < lower_bound) | (df[column] > upper_bound))\n",
    "\n",
    "    df.loc[df[column] < lower_bound, column] = lower_bound\n",
    "    df.loc[df[column] > upper_bound, column] = upper_bound\n",
    "\n",
    "    return df, outliers\n",
    "\n",
    "df_clean, outlier_mask = DNI_outliers(df, 'Produksi')"
   ]
  },
  {
   "cell_type": "markdown",
   "metadata": {
    "id": "9QFUfza9sJVS"
   },
   "source": [
    "###Pendeteksian Missing Values"
   ]
  },
  {
   "cell_type": "code",
   "execution_count": null,
   "metadata": {
    "id": "6VoYuqdyIZM6"
   },
   "outputs": [],
   "source": [
    "def DNI_missingValue(series):\n",
    "    for i in range(1, len(series) - 1):\n",
    "        if pd.isna(series[i]):\n",
    "            if not pd.isna(series[i - 1]) and not pd.isna(series[i + 1]):\n",
    "                series[i] = (series[i - 1] + series[i + 1]) / 2\n",
    "    return series\n",
    "\n",
    "df_clean['Produksi'] = DNI_missingValue(df_clean['Produksi'])\n",
    "df_clean['Produksi'] = DNI_missingValue(df_clean['Produksi'])"
   ]
  },
  {
   "cell_type": "markdown",
   "metadata": {
    "id": "tah1ZD82sa1d"
   },
   "source": [
    "###Normalisasi"
   ]
  },
  {
   "cell_type": "code",
   "execution_count": null,
   "metadata": {
    "colab": {
     "base_uri": "https://localhost:8080/"
    },
    "id": "X7MbHLXFJDpg",
    "outputId": "6570689f-0fce-4d6e-a7c4-aa83cbb98afe"
   },
   "outputs": [
    {
     "name": "stdout",
     "output_type": "stream",
     "text": [
      "[[4.4646e+08]\n",
      " [5.0958e+08]\n",
      " [3.3414e+08]\n",
      " [4.0458e+08]\n",
      " [3.2208e+08]\n",
      " [2.7438e+08]\n",
      " [4.9326e+08]\n",
      " [4.5726e+08]\n",
      " [4.3776e+08]\n",
      " [3.9342e+08]\n",
      " [4.1922e+08]\n",
      " [4.0998e+08]\n",
      " [4.0386e+08]\n",
      " [3.8424e+08]\n",
      " [4.5216e+08]\n",
      " [5.4954e+08]\n",
      " [4.4898e+08]\n",
      " [4.6662e+08]\n",
      " [5.7672e+08]\n",
      " [6.8280e+08]\n",
      " [5.4774e+08]\n",
      " [4.1334e+08]\n",
      " [7.8420e+08]\n",
      " [7.7406e+08]\n",
      " [6.5676e+08]\n",
      " [7.5510e+08]\n",
      " [6.9246e+08]\n",
      " [6.5112e+08]\n",
      " [5.7708e+08]\n",
      " [6.8598e+08]]\n"
     ]
    }
   ],
   "source": [
    "import numpy as np\n",
    "\n",
    "def normalize(df):\n",
    "    from sklearn.preprocessing import RobustScaler, MinMaxScaler\n",
    "\n",
    "    np_data_unscaled = np.array(df['Produksi']).reshape(-1, 1) # Reshape to 2D\n",
    "    scaler = MinMaxScaler()\n",
    "    np_data_scaled = scaler.fit_transform(np_data_unscaled)\n",
    "    print(np_data_unscaled)\n",
    "    normalized_df = pd.DataFrame(np_data_scaled, columns=['Produksi'], index=df.index)\n",
    "    pd.set_option('display.float_format', '{:.4f}'.format)\n",
    "    return normalized_df, scaler\n",
    "\n",
    "normalized_df, scaler = normalize(df_clean)"
   ]
  },
  {
   "cell_type": "markdown",
   "metadata": {
    "id": "HtwMGRNJsfXx"
   },
   "source": [
    "###Sliding Window"
   ]
  },
  {
   "cell_type": "code",
   "execution_count": null,
   "metadata": {
    "colab": {
     "base_uri": "https://localhost:8080/"
    },
    "id": "DnktfaI6Jy2r",
    "outputId": "0a89f3fe-147e-4065-e0f0-7c037cb5a519"
   },
   "outputs": [
    {
     "name": "stdout",
     "output_type": "stream",
     "text": [
      "    Produksi  Produksi-1  Produksi-2  Produksi-3\n",
      "0     0.2554      0.1172      0.4613      0.3375\n",
      "1     0.0936      0.2554      0.1172      0.4613\n",
      "2     0.0000      0.0936      0.2554      0.1172\n",
      "3     0.4293      0.0000      0.0936      0.2554\n",
      "4     0.3587      0.4293      0.0000      0.0936\n",
      "5     0.3205      0.3587      0.4293      0.0000\n",
      "6     0.2335      0.3205      0.3587      0.4293\n",
      "7     0.2841      0.2335      0.3205      0.3587\n",
      "8     0.2660      0.2841      0.2335      0.3205\n",
      "9     0.2540      0.2660      0.2841      0.2335\n",
      "10    0.2155      0.2540      0.2660      0.2841\n",
      "11    0.3487      0.2155      0.2540      0.2660\n",
      "12    0.5397      0.3487      0.2155      0.2540\n",
      "13    0.3425      0.5397      0.3487      0.2155\n",
      "14    0.3771      0.3425      0.5397      0.3487\n",
      "15    0.5930      0.3771      0.3425      0.5397\n",
      "16    0.8011      0.5930      0.3771      0.3425\n",
      "17    0.5362      0.8011      0.5930      0.3771\n",
      "18    0.2726      0.5362      0.8011      0.5930\n",
      "19    1.0000      0.2726      0.5362      0.8011\n",
      "20    0.9801      1.0000      0.2726      0.5362\n",
      "21    0.7500      0.9801      1.0000      0.2726\n",
      "22    0.9429      0.7500      0.9801      1.0000\n",
      "23    0.8201      0.9429      0.7500      0.9801\n",
      "24    0.7390      0.8201      0.9429      0.7500\n",
      "25    0.5937      0.7390      0.8201      0.9429\n",
      "26    0.8073      0.5937      0.7390      0.8201\n"
     ]
    }
   ],
   "source": [
    "def sliding_window(data, lag):\n",
    "    series = data['Produksi']\n",
    "    result = pd.DataFrame()\n",
    "\n",
    "    for l in lag:\n",
    "        result[f'Produksi-{l}'] = series.shift(l)\n",
    "\n",
    "    result['Produksi'] = series\n",
    "    result = result.dropna()\n",
    "    result.reset_index(drop=True, inplace=True)\n",
    "\n",
    "    return result\n",
    "\n",
    "windowed_data = sliding_window(normalized_df, [1, 2, 3])\n",
    "\n",
    "windowed_data = windowed_data[['Produksi', 'Produksi-1', 'Produksi-2', 'Produksi-3']]\n",
    "print(windowed_data)"
   ]
  },
  {
   "cell_type": "code",
   "execution_count": null,
   "metadata": {
    "id": "W9RsXQBw8ih5"
   },
   "outputs": [],
   "source": [
    "windowed_data.to_csv('windowed_data.csv', index=False)"
   ]
  },
  {
   "cell_type": "markdown",
   "metadata": {
    "id": "Y1QmDXuz8n2v"
   },
   "source": [
    "### Splitting Data"
   ]
  },
  {
   "cell_type": "code",
   "execution_count": null,
   "metadata": {
    "colab": {
     "base_uri": "https://localhost:8080/"
    },
    "id": "L47aB1Bf8qxD",
    "outputId": "f4c56262-228b-4540-9b48-3c44f82aa842"
   },
   "outputs": [
    {
     "name": "stdout",
     "output_type": "stream",
     "text": [
      "X_train shape: (21, 3)\n",
      "y_train shape: (21, 1)\n",
      "X_test shape: (6, 3)\n",
      "y_test shape: (6, 1)\n"
     ]
    }
   ],
   "source": [
    "def split_data(data, target, train_size):\n",
    "    split_index = int(len(data) * train_size)\n",
    "\n",
    "    x_train = data[:split_index]\n",
    "    y_train = target[:split_index]\n",
    "    x_test = data[split_index:]\n",
    "    y_test = target[split_index:]\n",
    "\n",
    "    return x_train, y_train, x_test, y_test\n",
    "\n",
    "input_df = windowed_data[['Produksi-1', 'Produksi-2', 'Produksi-3']]\n",
    "target_df = windowed_data[['Produksi']]\n",
    "\n",
    "x_train, y_train, x_test, y_test = split_data(input_df, target_df, 0.8)\n",
    "\n",
    "print(\"X_train shape:\", x_train.shape)\n",
    "print(\"y_train shape:\", y_train.shape)\n",
    "print(\"X_test shape:\", x_test.shape)\n",
    "print(\"y_test shape:\", y_test.shape)"
   ]
  },
  {
   "cell_type": "markdown",
   "metadata": {
    "id": "k7QKMO4HrzXL"
   },
   "source": [
    "##Modeling"
   ]
  },
  {
   "cell_type": "markdown",
   "metadata": {
    "id": "iek0AwhIsmAh"
   },
   "source": [
    "###Regresi Linear"
   ]
  },
  {
   "cell_type": "code",
   "execution_count": null,
   "metadata": {
    "colab": {
     "base_uri": "https://localhost:8080/"
    },
    "id": "4J7diwnb9LQi",
    "outputId": "0ed505a2-983c-45b8-8e3c-989a3937daa6"
   },
   "outputs": [
    {
     "name": "stdout",
     "output_type": "stream",
     "text": [
      "MAPE: 21.54173%\n",
      "MAE: 0.15302\n",
      "RMSE: 0.19129\n"
     ]
    }
   ],
   "source": [
    "from sklearn.linear_model import LinearRegression\n",
    "from sklearn.metrics import mean_absolute_percentage_error, mean_absolute_error, mean_squared_error\n",
    "from math import sqrt\n",
    "\n",
    "\n",
    "linear_model = LinearRegression()\n",
    "linear_model.fit(x_train, y_train)\n",
    "\n",
    "# Assuming 'linear_model' is your trained Linear Regression model\n",
    "y_pred = linear_model.predict(x_test)  # Changed 'model' to 'linear_model'\n",
    "forecast = linear_model.predict(x_test)\n",
    "mape = mean_absolute_percentage_error(y_test, forecast)  # Changed 'mean_absolute_error' to 'mean_absolute_percentage_error'\n",
    "mae = mean_absolute_error(y_test, forecast)\n",
    "rmse = sqrt(mean_squared_error(y_test, forecast))\n",
    "print(f'MAPE: {mape * 100:.5f}%')\n",
    "print(f\"MAE: {mae:.5f}\")\n",
    "print(f\"RMSE: {rmse:.5f}\")"
   ]
  },
  {
   "cell_type": "markdown",
   "metadata": {
    "id": "GcA3YOBj9mwT"
   },
   "source": [
    "### ARIMA"
   ]
  },
  {
   "cell_type": "code",
   "execution_count": null,
   "metadata": {
    "colab": {
     "base_uri": "https://localhost:8080/"
    },
    "id": "ro6aR7vq_FrN",
    "outputId": "093d9b29-396c-4679-9a50-0dfcecc0cd37"
   },
   "outputs": [
    {
     "name": "stdout",
     "output_type": "stream",
     "text": [
      "MAPE: 90926460307.15308%\n",
      "MAE: 0.15302\n",
      "RMSE: 0.19129\n"
     ]
    }
   ],
   "source": [
    "from sklearn.metrics import mean_absolute_error, mean_squared_error\n",
    "import numpy as np\n",
    "from statsmodels.tsa.arima.model import ARIMA # Import ARIMA here\n",
    "\n",
    "# Membagi data menjadi training dan testing (jika Anda memiliki data testing)\n",
    "# Misalnya, gunakan 80% data untuk training dan 20% untuk testing\n",
    "\n",
    "train_size = int(len(data) * 0.8)\n",
    "train, test = data[:train_size], data[train_size:]\n",
    "\n",
    "# Melatih model ARIMA pada data training\n",
    "# Select only the 'Produksi' column for training\n",
    "model = ARIMA(train['Produksi'], order=(1, 1, 1))  # Ganti dengan parameter ARIMA yang sesuai\n",
    "model_fit = model.fit()\n",
    "\n",
    "# Melakukan forecasting pada data test\n",
    "# Forecast only the 'Produksi' column\n",
    "forecast = model_fit.forecast(steps=len(test))\n",
    "\n",
    "# Evaluasi model\n",
    "mape = mean_absolute_percentage_error(y_test, forecast)\n",
    "print(f'MAPE: {mape * 100:.5f}%')\n",
    "print(f\"MAE: {mae:.5f}\")\n",
    "print(f\"RMSE: {rmse:.5f}\")\n"
   ]
  },
  {
   "cell_type": "markdown",
   "metadata": {
    "id": "TErtUT6zBAaX"
   },
   "source": [
    "###Random Forest"
   ]
  },
  {
   "cell_type": "code",
   "execution_count": null,
   "metadata": {
    "colab": {
     "base_uri": "https://localhost:8080/"
    },
    "id": "wCdAN_lnA_le",
    "outputId": "c323747d-18b9-409b-c011-b4ba40db91e4"
   },
   "outputs": [
    {
     "name": "stdout",
     "output_type": "stream",
     "text": [
      "MAPE: 16.78103%\n",
      "MAE: 0.15302\n",
      "RMSE: 0.19129\n"
     ]
    }
   ],
   "source": [
    "import pandas as pd\n",
    "from sklearn.ensemble import RandomForestRegressor\n",
    "from sklearn.model_selection import train_test_split\n",
    "from sklearn.metrics import mean_absolute_percentage_error\n",
    "\n",
    "# Misalkan data adalah dataframe dengan kolom 'year' dan 'production'\n",
    "data = pd.read_csv('windowed_data.csv')\n",
    "\n",
    "# Assuming 'Produksi' represents the target variable (production)\n",
    "# and you want to use 'Produksi-1', 'Produksi-2', 'Produksi-3' as features\n",
    "\n",
    "# Menyiapkan fitur dan target\n",
    "# Instead of using 'year', which doesn't exist, use the lagged 'Produksi' columns as features\n",
    "X = data[['Produksi-1', 'Produksi-2', 'Produksi-3']]  # Fitur\n",
    "y = data['Produksi']  # Target (produksi)\n",
    "\n",
    "# Split data menjadi training dan testing\n",
    "X_train, X_test, y_train, y_test = train_test_split(X, y, test_size=0.2, shuffle=False)\n",
    "\n",
    "# Model Random Forest\n",
    "model = RandomForestRegressor(n_estimators=100, random_state=42)\n",
    "model.fit(X_train, y_train)\n",
    "\n",
    "# Forecasting\n",
    "forecast = model.predict(X_test)\n",
    "\n",
    "# MAPE\n",
    "mape = mean_absolute_percentage_error(y_test, forecast)\n",
    "print(f'MAPE: {mape * 100:.5f}%')\n",
    "print(f\"MAE: {mae:.5f}\")\n",
    "print(f\"RMSE: {rmse:.5f}\")"
   ]
  },
  {
   "cell_type": "markdown",
   "metadata": {
    "id": "wUR1W4YmBvBR"
   },
   "source": [
    "### Stacking"
   ]
  },
  {
   "cell_type": "code",
   "execution_count": null,
   "metadata": {
    "colab": {
     "base_uri": "https://localhost:8080/"
    },
    "id": "9itoi015DHp9",
    "outputId": "fb9d951c-92f8-435a-c073-1af5328ed771"
   },
   "outputs": [
    {
     "name": "stdout",
     "output_type": "stream",
     "text": [
      "MAPE Stacking Ensemble: 9.93%\n",
      "MAE: 0.15\n",
      "RMSE: 0.19\n"
     ]
    }
   ],
   "source": [
    "import numpy as np\n",
    "import pandas as pd\n",
    "from sklearn.ensemble import RandomForestRegressor, StackingRegressor\n",
    "from sklearn.linear_model import LinearRegression\n",
    "from sklearn.metrics import mean_absolute_percentage_error\n",
    "from statsmodels.tsa.arima.model import ARIMA\n",
    "from sklearn.model_selection import train_test_split\n",
    "\n",
    "# Load data\n",
    "data = pd.read_csv('windowed_data.csv')\n",
    "X = data[['Produksi-1', 'Produksi-2', 'Produksi-3']]  # Fitur (tahun)\n",
    "y = data['Produksi']  # Target (produksi)\n",
    "# Split data\n",
    "X_train, X_test, y_train, y_test = train_test_split(X, y, test_size=0.2, shuffle=False)\n",
    "\n",
    "# Model dasar: Random Forest dan Linear Regression\n",
    "rf_model = RandomForestRegressor(n_estimators=100, random_state=42)\n",
    "lr_model = LinearRegression()\n",
    "\n",
    "# Definisikan fungsi untuk menggunakan ARIMA sebagai model dasar\n",
    "def arima_model(train, test, order=(1, 1, 1)):\n",
    "    model = ARIMA(train, order=order)\n",
    "    model_fit = model.fit()\n",
    "    forecast = model_fit.forecast(steps=len(test))\n",
    "    return forecast\n",
    "\n",
    "# Prediksi dengan ARIMA\n",
    "arima_pred = arima_model(y_train, y_test)\n",
    "\n",
    "# Melatih model RandomForest dan LinearRegression\n",
    "rf_model.fit(X_train, y_train)\n",
    "lr_model.fit(X_train, y_train)\n",
    "\n",
    "# Prediksi dengan RandomForest dan LinearRegression\n",
    "rf_pred = rf_model.predict(X_test)\n",
    "lr_pred = lr_model.predict(X_test)\n",
    "\n",
    "# Gabungkan prediksi dari model dasar\n",
    "base_predictions = np.column_stack((arima_pred, rf_pred, lr_pred))\n",
    "\n",
    "# Meta-model: Linear Regression sebagai model untuk menggabungkan prediksi\n",
    "meta_model = LinearRegression()\n",
    "meta_model.fit(base_predictions, y_test)\n",
    "\n",
    "# Prediksi akhir menggunakan meta-model\n",
    "final_pred = meta_model.predict(base_predictions)\n",
    "\n",
    "# Hitung MAPE\n",
    "mape = mean_absolute_percentage_error(y_test, final_pred)\n",
    "print(f'MAPE Stacking Ensemble: {mape * 100:.2f}%')\n",
    "print(f\"MAE: {mae:.2f}\")\n",
    "print(f\"RMSE: {rmse:.2f}\")\n"
   ]
  },
  {
   "cell_type": "code",
   "execution_count": null,
   "metadata": {
    "colab": {
     "base_uri": "https://localhost:8080/",
     "height": 564
    },
    "id": "82lZbVmbGOB3",
    "outputId": "9949333c-df58-4567-b703-b2e836ee24ed"
   },
   "outputs": [
    {
     "data": {
      "image/png": "[encoded data removed]",
      "text/plain": [
       "<Figure size 1000x600 with 1 Axes>"
      ]
     },
     "metadata": {},
     "output_type": "display_data"
    }
   ],
   "source": [
    "import numpy as np\n",
    "import pandas as pd\n",
    "import matplotlib.pyplot as plt\n",
    "from sklearn.metrics import mean_absolute_percentage_error, mean_absolute_error, mean_squared_error\n",
    "from math import sqrt\n",
    "\n",
    "# Misalkan X_train, X_test, y_train, y_test, dan prediksi dari model stacking sudah tersedia\n",
    "# Prediksi stacking ensemble\n",
    "stacking_pred = (rf_model.predict(X_test) + lr_model.predict(X_test) + arima_pred) / 3  # Rata-rata prediksi dari 3 model\n",
    "\n",
    "# Grafik Prediksi vs Aktual vs Data Train dan Test\n",
    "plt.figure(figsize=(10, 6))\n",
    "\n",
    "# Plot data train (misalnya tahun pada sumbu x untuk data train)\n",
    "# Changed to use index for x-axis since 'Produksi' is not in X_train\n",
    "plt.plot(X_train.index, y_train, label='Data Train (Aktual)', color='green', marker='o', linestyle='dotted')\n",
    "\n",
    "# Plot data test (misalnya tahun pada sumbu x untuk data test)\n",
    "# Changed to use index for x-axis since 'Produksi' is not in X_test\n",
    "plt.plot(X_test.index, y_test, label='Data Test (Aktual)', color='green', marker='o')\n",
    "\n",
    "# Plot prediksi stacking ensemble\n",
    "# Changed to use index for x-axis since 'Produksi' is not in X_test\n",
    "plt.plot(X_test.index, stacking_pred, label='Prediksi Stacking', color='red', linestyle='--', marker='x')\n",
    "\n",
    "# Jika ingin menambahkan model individual\n",
    "# Changed to use index for x-axis since 'Produksi' is not in X_test\n",
    "plt.plot(X_test.index, arima_pred, label='Prediksi ARIMA', color='purple', linestyle=':', marker='x')\n",
    "plt.plot(X_test.index, rf_model.predict(X_test), label='Prediksi RF', color='blue', linestyle=':', marker='x')\n",
    "plt.plot(X_test.index, lr_model.predict(X_test), label='Prediksi LR', color='orange', linestyle=':', marker='x')\n",
    "\n",
    "\n",
    "# Menambahkan label dan judul\n",
    "plt.xlabel('Index Data') # Changed label to reflect change in x-axis\n",
    "plt.ylabel('Produksi Kopi')\n",
    "plt.title('Prediksi vs Aktual (Train & Test Data) vs Prediksi Model')\n",
    "plt.legend(loc='best')\n",
    "\n",
    "# Menampilkan grafik\n",
    "plt.show()"
   ]
  },
  {
   "cell_type": "markdown",
   "metadata": {
    "id": "fvX3A3jor3Q9"
   },
   "source": [
    "##Result"
   ]
  },
  {
   "cell_type": "markdown",
   "metadata": {
    "id": "YPRsQQv_fT1C"
   },
   "source": [
    "###Save Model"
   ]
  },
  {
   "cell_type": "code",
   "execution_count": null,
   "metadata": {
    "id": "VCxStC27fYRM"
   },
   "outputs": [],
   "source": [
    "import pickle\n",
    "\n",
    "# Misalnya, model Anda disimpan dalam variabel 'model'\n",
    "# Menyimpan model\n",
    "with open('modelP1.sav', 'wb') as file:\n",
    "    pickle.dump(final_pred, file)\n",
    "\n",
    "# Memuat model kembali\n",
    "with open('modelP1.sav', 'rb') as file:\n",
    "    loaded_model = pickle.load(file)\n"
   ]
  },
  {
   "cell_type": "code",
   "execution_count": null,
   "metadata": {
    "colab": {
     "base_uri": "https://localhost:8080/"
    },
    "id": "iFWGk-rwD8Dl",
    "outputId": "3a731a97-e8de-48f4-f58c-82aa571eb8b2"
   },
   "outputs": [
    {
     "data": {
      "text/plain": [
       "['scaler.sav']"
      ]
     },
     "execution_count": 34,
     "metadata": {},
     "output_type": "execute_result"
    }
   ],
   "source": [
    "import joblib\n",
    "\n",
    "joblib.dump(meta_model, 'model.sav')  # Menyimpan model stacking final\n",
    "joblib.dump(scaler, 'scaler.sav')"
   ]
  },
  {
   "cell_type": "markdown",
   "metadata": {
    "id": "7hAC3sLXfPTn"
   },
   "source": [
    "###Deployment"
   ]
  },
  {
   "cell_type": "markdown",
   "metadata": {
    "id": "l4KWrT01fGfV"
   },
   "source": [
    "\n",
    "Link Aplikasi: https://huggingface.co/spaces/Umar22108/projek-1"
   ]
  }
 ],
 "metadata": {
  "colab": {
   "collapsed_sections": [
    "M9V-675FrjOb",
    "k7QKMO4HrzXL"
   ],
   "provenance": []
  },
  "kernelspec": {
   "display_name": "Python 3",
   "name": "python3"
  },
  "language_info": {
   "name": "python"
  }
 },
 "nbformat": 4,
 "nbformat_minor": 0
}
